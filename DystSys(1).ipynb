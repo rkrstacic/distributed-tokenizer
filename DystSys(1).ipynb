{
  "cells": [
    {
      "cell_type": "markdown",
      "metadata": {
        "id": "_vMmpCLS5Shi"
      },
      "source": [
        "TODO\n",
        "\n",
        "- Provjeriti dal je na politics apply-an lemmatizer (nije)\n",
        "- Zašto su svi politics tokeni u prvom clusteru (svih 107 usera)\n",
        "\n"
      ]
    },
    {
      "cell_type": "markdown",
      "metadata": {
        "id": "Uw_vHitmsBzs"
      },
      "source": [
        "###### Should always be run"
      ]
    },
    {
      "cell_type": "code",
      "execution_count": null,
      "metadata": {
        "id": "a5hXskjnIHOv",
        "colab": {
          "base_uri": "https://localhost:8080/"
        },
        "outputId": "8ac5591d-5ae3-4349-faa2-83b0fcf43359"
      },
      "outputs": [
        {
          "output_type": "stream",
          "name": "stdout",
          "text": [
            "Mounted at /content/drive\n"
          ]
        }
      ],
      "source": [
        "from google.colab import drive\n",
        "drive.mount('/content/drive')\n"
      ]
    },
    {
      "cell_type": "code",
      "execution_count": null,
      "metadata": {
        "id": "h35SDM0WIGjV",
        "colab": {
          "base_uri": "https://localhost:8080/"
        },
        "outputId": "837eff9a-8816-4b81-d80a-3ea55f66b1ed"
      },
      "outputs": [
        {
          "output_type": "stream",
          "name": "stdout",
          "text": [
            "/content/drive/MyDrive/Colab Notebooks/p2p tokenizer\n"
          ]
        }
      ],
      "source": [
        "%cd /content/drive/MyDrive/Colab Notebooks/p2p tokenizer/"
      ]
    },
    {
      "cell_type": "code",
      "execution_count": null,
      "metadata": {
        "id": "mpZc6xR2GxkG",
        "colab": {
          "base_uri": "https://localhost:8080/"
        },
        "outputId": "a8b2ecb0-dd4e-41b2-f6f8-fd1f1625f9ed"
      },
      "outputs": [
        {
          "output_type": "stream",
          "name": "stderr",
          "text": [
            "[nltk_data] Downloading package wordnet to /root/nltk_data...\n",
            "[nltk_data] Downloading package omw-1.4 to /root/nltk_data...\n"
          ]
        }
      ],
      "source": [
        "import nltk\n",
        "from nltk.stem import WordNetLemmatizer\n",
        "nltk.download(\"wordnet\")\n",
        "nltk.download(\"omw-1.4\")\n",
        "\n",
        "wnl = WordNetLemmatizer()\n",
        "lem = lambda word: wnl.lemmatize(wnl.lemmatize(word, pos=\"n\"), pos=\"v\")"
      ]
    },
    {
      "cell_type": "markdown",
      "metadata": {
        "id": "WN01UidMg_5J"
      },
      "source": [
        "#### Prep\n"
      ]
    },
    {
      "cell_type": "markdown",
      "metadata": {
        "id": "Uf9-WhJ2PCAV"
      },
      "source": [
        "##### General tokenizer"
      ]
    },
    {
      "cell_type": "code",
      "execution_count": null,
      "metadata": {
        "id": "Sjn4gM2ZMHZx"
      },
      "outputs": [],
      "source": [
        "import json\n",
        "from tokenization import FullTokenizer\n",
        "from collections import Counter"
      ]
    },
    {
      "cell_type": "code",
      "execution_count": null,
      "metadata": {
        "id": "ypS7-QHfcVqJ"
      },
      "outputs": [],
      "source": [
        "tokenizer = FullTokenizer(\"vocab.txt\", True)"
      ]
    },
    {
      "cell_type": "code",
      "execution_count": null,
      "metadata": {
        "colab": {
          "base_uri": "https://localhost:8080/"
        },
        "id": "HpeuaxbaamVF",
        "outputId": "53bb3c13-7854-4eb9-e8b6-fb3820bf4935"
      },
      "outputs": [
        {
          "data": {
            "text/plain": [
              "Counter({'this': 1,\n",
              "         'is': 1,\n",
              "         'my': 1,\n",
              "         'sample': 1,\n",
              "         'sent': 1,\n",
              "         '##ec': 1,\n",
              "         '##nce': 1,\n",
              "         '.': 1})"
            ]
          },
          "execution_count": 6,
          "metadata": {},
          "output_type": "execute_result"
        }
      ],
      "source": [
        "Counter(tokenizer.tokenize(\"This is my sample sentecnce.\"))"
      ]
    },
    {
      "cell_type": "code",
      "execution_count": null,
      "metadata": {
        "id": "49CsU9JzgORP"
      },
      "outputs": [],
      "source": [
        "with open(\"nba.txt\") as n, open(\"politics.txt\") as p:\n",
        "  nba_comments = \" \".join(json.loads(row)[\"comment\"] for row in n)\n",
        "  politics_comments = \" \".join(json.loads(row)[\"comment\"] for row in p)"
      ]
    },
    {
      "cell_type": "code",
      "execution_count": null,
      "metadata": {
        "id": "lfX1Aq4PgmzE"
      },
      "outputs": [],
      "source": [
        "all_comments = nba_comments + ' ' + politics_comments"
      ]
    },
    {
      "cell_type": "code",
      "execution_count": null,
      "metadata": {
        "colab": {
          "base_uri": "https://localhost:8080/",
          "height": 169
        },
        "id": "rmw0fcdXw2kK",
        "outputId": "e74c4de0-552d-4c02-aa6e-c6c30890bf95"
      },
      "outputs": [
        {
          "ename": "NameError",
          "evalue": "ignored",
          "output_type": "error",
          "traceback": [
            "\u001b[0;31m---------------------------------------------------------------------------\u001b[0m",
            "\u001b[0;31mNameError\u001b[0m                                 Traceback (most recent call last)",
            "\u001b[0;32m<ipython-input-9-6bfc24ad5359>\u001b[0m in \u001b[0;36m<cell line: 1>\u001b[0;34m()\u001b[0m\n\u001b[0;32m----> 1\u001b[0;31m \u001b[0mlen\u001b[0m\u001b[0;34m(\u001b[0m\u001b[0mset_diff\u001b[0m\u001b[0;34m)\u001b[0m\u001b[0;34m\u001b[0m\u001b[0;34m\u001b[0m\u001b[0m\n\u001b[0m",
            "\u001b[0;31mNameError\u001b[0m: name 'set_diff' is not defined"
          ]
        }
      ],
      "source": [
        "len(set_diff)"
      ]
    },
    {
      "cell_type": "code",
      "execution_count": null,
      "metadata": {
        "id": "kU8hByjvw8Mm"
      },
      "outputs": [],
      "source": [
        "len(politics_tokens)"
      ]
    },
    {
      "cell_type": "code",
      "execution_count": null,
      "metadata": {
        "id": "E_Hs1xbRxJ0n"
      },
      "outputs": [],
      "source": [
        "politics_comments[:40]"
      ]
    },
    {
      "cell_type": "markdown",
      "metadata": {
        "id": "EOD8iEQHPIy-"
      },
      "source": [
        "##### NBA (its actually all, not just NBA)"
      ]
    },
    {
      "cell_type": "markdown",
      "metadata": {
        "id": "2xqOJGQw4Ix6"
      },
      "source": [
        "###### Small Tokenizer"
      ]
    },
    {
      "cell_type": "code",
      "execution_count": null,
      "metadata": {
        "id": "tIAXgXTKko7x"
      },
      "outputs": [],
      "source": [
        "tokenized = tokenizer.tokenize(all_comments)"
      ]
    },
    {
      "cell_type": "code",
      "execution_count": null,
      "metadata": {
        "id": "96a4bYVYkloO"
      },
      "outputs": [],
      "source": [
        "c = Counter(tokenized).most_common(500)"
      ]
    },
    {
      "cell_type": "code",
      "execution_count": null,
      "metadata": {
        "id": "yO84ksINe7UA"
      },
      "outputs": [],
      "source": [
        "for i in c:\n",
        "  if i[0] == \"[UNK]\":\n",
        "    print(i)\n",
        "    break\n",
        "else:\n",
        "  print(\"Not found\")"
      ]
    },
    {
      "cell_type": "code",
      "execution_count": null,
      "metadata": {
        "id": "gCvgMthOjecf"
      },
      "outputs": [],
      "source": [
        "small_vocab = \"\\n\".join(key for key, value in c)\n",
        "\n",
        "with open('small_vocab.txt', 'w') as f:\n",
        "  f.write(small_vocab)"
      ]
    },
    {
      "cell_type": "code",
      "execution_count": null,
      "metadata": {
        "id": "LSK4O83whqox"
      },
      "outputs": [],
      "source": [
        "small_tokenizer = FullTokenizer(\"small_vocab.txt\", True)"
      ]
    },
    {
      "cell_type": "markdown",
      "metadata": {
        "id": "GHY9k--cPVDS"
      },
      "source": [
        "###### Testing"
      ]
    },
    {
      "cell_type": "code",
      "execution_count": null,
      "metadata": {
        "id": "h-HJVVXR1Dm6"
      },
      "outputs": [],
      "source": [
        "small_tokenizer = FullTokenizer(\"small_vocab.txt\", True)"
      ]
    },
    {
      "cell_type": "code",
      "execution_count": null,
      "metadata": {
        "id": "8V0imZLihwGJ"
      },
      "outputs": [],
      "source": [
        "nba_tokenized = small_tokenizer.tokenize(nba_comments)"
      ]
    },
    {
      "cell_type": "code",
      "execution_count": null,
      "metadata": {
        "id": "6DeJ4Hx0QYT_"
      },
      "outputs": [],
      "source": [
        "all_tokens = list(lem(token) for token in Counter(tokenized).keys())\n",
        "nba_tokens = list(lem(token) for token in Counter(nba_tokenized).keys())"
      ]
    },
    {
      "cell_type": "code",
      "execution_count": null,
      "metadata": {
        "id": "kVxXJzLvQxCv"
      },
      "outputs": [],
      "source": [
        "set_diff = set(all_tokens) - set(nba_tokens)\n",
        "list(set_diff)[:10]"
      ]
    },
    {
      "cell_type": "code",
      "execution_count": null,
      "metadata": {
        "id": "4tOFGDeNSbmT"
      },
      "outputs": [],
      "source": [
        "clean_token_diff = [i for i in set_diff if \"#\" not in i]\n",
        "clean_token_diff[:10]"
      ]
    },
    {
      "cell_type": "code",
      "execution_count": null,
      "metadata": {
        "id": "fZTup246ueA1"
      },
      "outputs": [],
      "source": [
        "word_dict_nba = {len(word): [] for word in nba_tokens}\n",
        "for word in nba_tokens:\n",
        "    word_dict_nba[len(word)].append(word)\n",
        "\n",
        "word_dict_clean = {len(word): [] for word in clean_token_diff}\n",
        "for word in clean_token_diff:\n",
        "    word_dict_clean[len(word)].append(word)"
      ]
    },
    {
      "cell_type": "code",
      "execution_count": null,
      "metadata": {
        "id": "sIgr3gMwsxMo"
      },
      "outputs": [],
      "source": [
        "unclean_nba_tokens = [token for token in list(nba_tokens) if \"#\" in token]"
      ]
    },
    {
      "cell_type": "code",
      "execution_count": null,
      "metadata": {
        "id": "yq2zlwM72QBN"
      },
      "outputs": [],
      "source": [
        "a = list(nba_tokens)\n",
        "b = list(clean_token_diff)\n",
        "c = list(unclean_nba_tokens)\n",
        "#print_unique(a, b)\n",
        "\n",
        "#nba_tokens"
      ]
    },
    {
      "cell_type": "code",
      "execution_count": null,
      "metadata": {
        "id": "-gKti7LnwCah"
      },
      "outputs": [],
      "source": [
        "print(a[:10])\n",
        "print(b[:10])\n",
        "print(c[:10])"
      ]
    },
    {
      "cell_type": "code",
      "execution_count": null,
      "metadata": {
        "id": "VZSnGzv0m-vv"
      },
      "outputs": [],
      "source": [
        "import re\n",
        "\n",
        "to_rmv = [\".\", \"^\", \"|\"]\n",
        "\n",
        "for i in to_rmv:\n",
        "  try:\n",
        "    c.remove(i)\n",
        "  except:\n",
        "    pass\n",
        "\n",
        "i = 0\n",
        "not_found_tokens = []\n",
        "count = 0\n",
        "for clean in b:\n",
        "  for reg_token in c:\n",
        "    i += 1\n",
        "    if i % 1000000 == 0:\n",
        "      print(i, len(c) * len(b))\n",
        "\n",
        "    try:\n",
        "      if re.match(reg_token.replace(\"#\", \".\") + r\"\\b\", clean) is not None:\n",
        "\n",
        "        # print(\"1\", reg_token, clean)\n",
        "        break\n",
        "    except:\n",
        "      pass\n",
        "  else:\n",
        "    count += 1\n",
        "    not_found_tokens.append(clean)\n",
        "    # print(clean)\n",
        "\n",
        "\n",
        "print(\"Count:\", count)"
      ]
    },
    {
      "cell_type": "code",
      "execution_count": null,
      "metadata": {
        "id": "vWrKlld4wFX3"
      },
      "outputs": [],
      "source": [
        "print(not_found_tokens[:10])"
      ]
    },
    {
      "cell_type": "code",
      "execution_count": null,
      "metadata": {
        "id": "rDSCy-K_tplR"
      },
      "outputs": [],
      "source": [
        "print(len(a), len(nba_tokens))\n",
        "print(len(b))\n",
        "print(len(c))\n",
        "print(len(not_found_tokens))"
      ]
    },
    {
      "cell_type": "code",
      "execution_count": null,
      "metadata": {
        "id": "88vwyBN8u80y"
      },
      "outputs": [],
      "source": [
        "# First 10 tokens marked as UNK that are smaller then 4 characters in length\n",
        "print(list(i for i in not_found_tokens if 3 < len(i) < 5)[:10])"
      ]
    },
    {
      "cell_type": "code",
      "execution_count": null,
      "metadata": {
        "id": "I6-Fm0-SvSZ_"
      },
      "outputs": [],
      "source": [
        "atts = [\"hi\", \"#i\", \"h#\"]\n",
        "\n",
        "# 0 means no matches\n",
        "print(sum(att in a for att in atts))"
      ]
    },
    {
      "cell_type": "code",
      "execution_count": null,
      "metadata": {
        "id": "-n8c3ksDxT9a"
      },
      "outputs": [],
      "source": [
        "actual_unks = []\n",
        "for i in not_found_tokens:\n",
        "  if \"[UNK]\" in small_tokenizer.tokenize(i):\n",
        "    actual_unks.append([i, small_tokenizer.tokenize(i)])"
      ]
    },
    {
      "cell_type": "code",
      "execution_count": null,
      "metadata": {
        "id": "1CBDGh5cye1l"
      },
      "outputs": [],
      "source": [
        "len(actual_unks)"
      ]
    },
    {
      "cell_type": "code",
      "execution_count": null,
      "metadata": {
        "id": "RTlJjja69xwO"
      },
      "outputs": [],
      "source": [
        "actual_unks"
      ]
    },
    {
      "cell_type": "code",
      "execution_count": null,
      "metadata": {
        "id": "ahW1CklJy_jd"
      },
      "outputs": [],
      "source": [
        "small_tokenizer.tokenize(\"Random nintendo zack\")"
      ]
    },
    {
      "cell_type": "code",
      "execution_count": null,
      "metadata": {
        "id": "bsbRoeTX0Z81"
      },
      "outputs": [],
      "source": [
        "print((list([i for i in actual_unks if not i[0].isalnum()])))"
      ]
    },
    {
      "cell_type": "code",
      "execution_count": null,
      "metadata": {
        "id": "S7Wf7BUu3hPb"
      },
      "outputs": [],
      "source": [
        "print((list(i for i in Counter(tokenized).most_common(1000) if \"#\" in i[0])))"
      ]
    },
    {
      "cell_type": "code",
      "execution_count": null,
      "metadata": {
        "id": "OgkYTvuS1dmQ"
      },
      "outputs": [],
      "source": [
        "nba_unks = list([i[0] for i in sorted(actual_unks) if i[0].isalnum()])"
      ]
    },
    {
      "cell_type": "code",
      "execution_count": null,
      "metadata": {
        "id": "9wpSVqdz2WTz"
      },
      "outputs": [],
      "source": [
        "nba_word_tokens = [token for token in nba_unks if not any(char.isdigit() for char in token)]"
      ]
    },
    {
      "cell_type": "code",
      "execution_count": null,
      "metadata": {
        "id": "RBuCqKoG2zVB"
      },
      "outputs": [],
      "source": [
        "len(nba_unks) - len(nba_word_tokens)"
      ]
    },
    {
      "cell_type": "code",
      "execution_count": null,
      "metadata": {
        "id": "gB60mI5R3FHL"
      },
      "outputs": [],
      "source": [
        "[token for token in nba_unks if any(char.isdigit() for char in token)]"
      ]
    },
    {
      "cell_type": "code",
      "execution_count": null,
      "metadata": {
        "id": "FCCaA4ff0bJH"
      },
      "outputs": [],
      "source": [
        "# Store unk tokens in a file\n",
        "with open('nba_unk_tokens.txt', 'w') as f:\n",
        "  f.write(\"\\n\".join(nba_word_tokens))"
      ]
    },
    {
      "cell_type": "code",
      "execution_count": null,
      "metadata": {
        "id": "BstpX-peA1jf"
      },
      "outputs": [],
      "source": [
        "len(nba_word_tokens)"
      ]
    },
    {
      "cell_type": "markdown",
      "metadata": {
        "id": "zbv-Djkk4R4U"
      },
      "source": [
        "##### Politics"
      ]
    },
    {
      "cell_type": "markdown",
      "metadata": {
        "id": "TOOsXZIV4R4V"
      },
      "source": [
        "###### Small Tokenizer"
      ]
    },
    {
      "cell_type": "code",
      "execution_count": null,
      "metadata": {
        "id": "XWu73pziAg0s"
      },
      "outputs": [],
      "source": [
        "tokenized = tokenizer.tokenize(all_comments)"
      ]
    },
    {
      "cell_type": "code",
      "execution_count": null,
      "metadata": {
        "id": "uWB7GGmdAg0u"
      },
      "outputs": [],
      "source": [
        "c = Counter(tokenized).most_common(500)"
      ]
    },
    {
      "cell_type": "code",
      "execution_count": null,
      "metadata": {
        "id": "0mOTFkkMAg0v"
      },
      "outputs": [],
      "source": [
        "for i in c:\n",
        "  if i[0] == \"[UNK]\":\n",
        "    print(i)\n",
        "    break\n",
        "else:\n",
        "  print(\"Not found\")"
      ]
    },
    {
      "cell_type": "code",
      "execution_count": null,
      "metadata": {
        "id": "IvS7eaDUAg0w"
      },
      "outputs": [],
      "source": [
        "small_vocab = \"\\n\".join(key for key, value in c)\n",
        "\n",
        "with open('small_vocab.txt', 'w') as f:\n",
        "  f.write(small_vocab)"
      ]
    },
    {
      "cell_type": "code",
      "execution_count": null,
      "metadata": {
        "id": "5x0UQjDOAg0x"
      },
      "outputs": [],
      "source": [
        "small_tokenizer = FullTokenizer(\"small_vocab.txt\", True)"
      ]
    },
    {
      "cell_type": "markdown",
      "metadata": {
        "id": "127sIWT24R4e"
      },
      "source": [
        "###### Testing"
      ]
    },
    {
      "cell_type": "code",
      "execution_count": null,
      "metadata": {
        "id": "agpYDX_5Awmo"
      },
      "outputs": [],
      "source": [
        "small_tokenizer = FullTokenizer(\"small_vocab.txt\", True)"
      ]
    },
    {
      "cell_type": "code",
      "execution_count": null,
      "metadata": {
        "id": "En3_TMGlAwms"
      },
      "outputs": [],
      "source": [
        "politics_tokenized = small_tokenizer.tokenize(politics_comments)"
      ]
    },
    {
      "cell_type": "code",
      "execution_count": null,
      "metadata": {
        "id": "Lkym48Ys4R4g"
      },
      "outputs": [],
      "source": [
        "all_tokens = list(lem(token) for token in Counter(tokenized).keys())\n",
        "politics_tokens = list(lem(token) for token in Counter(politics_tokenized).keys())"
      ]
    },
    {
      "cell_type": "code",
      "execution_count": null,
      "metadata": {
        "id": "RZF4LLW74R4g"
      },
      "outputs": [],
      "source": [
        "set_diff = set(all_tokens) - set(politics_tokens)\n",
        "list(set_diff)[:10]"
      ]
    },
    {
      "cell_type": "code",
      "execution_count": null,
      "metadata": {
        "id": "o8wNlH954R4h"
      },
      "outputs": [],
      "source": [
        "clean_token_diff = [i for i in set_diff if \"#\" not in i]"
      ]
    },
    {
      "cell_type": "code",
      "execution_count": null,
      "metadata": {
        "id": "rPB6T1CB4R4h"
      },
      "outputs": [],
      "source": [
        "word_dict_politics = {len(word): [] for word in politics_tokens}\n",
        "for word in politics_tokens:\n",
        "    word_dict_politics[len(word)].append(word)\n",
        "\n",
        "word_dict_clean = {len(word): [] for word in clean_token_diff}\n",
        "for word in clean_token_diff:\n",
        "    word_dict_clean[len(word)].append(word)"
      ]
    },
    {
      "cell_type": "code",
      "execution_count": null,
      "metadata": {
        "id": "oYxevy5W4R4h"
      },
      "outputs": [],
      "source": [
        "unclean_politics_tokens = [token for token in list(politics_tokens) if \"#\" in token]"
      ]
    },
    {
      "cell_type": "code",
      "execution_count": null,
      "metadata": {
        "id": "rtIXnspS4R4h"
      },
      "outputs": [],
      "source": [
        "a = list(politics_tokens)\n",
        "b = list(clean_token_diff)\n",
        "c = list(unclean_politics_tokens)"
      ]
    },
    {
      "cell_type": "code",
      "execution_count": null,
      "metadata": {
        "id": "OwpZh2YfvMAx"
      },
      "outputs": [],
      "source": [
        "print(a[:10])\n",
        "print(b[:10])\n",
        "print(c[:10])"
      ]
    },
    {
      "cell_type": "code",
      "execution_count": null,
      "metadata": {
        "id": "d6OlFjcU4R4i"
      },
      "outputs": [],
      "source": [
        "import re\n",
        "\n",
        "to_rmv = [\".\", \"^\", \"|\"]\n",
        "\n",
        "for i in to_rmv:\n",
        "  try:\n",
        "    c.remove(i)\n",
        "  except:\n",
        "    pass\n",
        "\n",
        "i = 0\n",
        "not_found_tokens = []\n",
        "count = 0\n",
        "for clean in b:\n",
        "  for reg_token in c:\n",
        "    i += 1\n",
        "    if i % 1000000 == 0:\n",
        "      print(i, len(c) * len(b))\n",
        "\n",
        "    try:\n",
        "      if re.match(reg_token.replace(\"#\", \".\") + r\"\\b\", clean) is not None:\n",
        "\n",
        "        # print(\"1\", reg_token, clean)\n",
        "        break\n",
        "    except:\n",
        "      pass\n",
        "  else:\n",
        "    count += 1\n",
        "    not_found_tokens.append(clean)\n",
        "    # print(clean)\n",
        "\n",
        "\n",
        "print(\"Count:\", count)"
      ]
    },
    {
      "cell_type": "code",
      "execution_count": null,
      "metadata": {
        "id": "c1L9S90Lv6PP"
      },
      "outputs": [],
      "source": [
        "not_found_tokens[:10]"
      ]
    },
    {
      "cell_type": "code",
      "execution_count": null,
      "metadata": {
        "id": "NjSQ2IFN4R4j"
      },
      "outputs": [],
      "source": [
        "print(len(a), len(politics_tokens))\n",
        "print(len(b))\n",
        "print(len(c))\n",
        "print(len(not_found_tokens))"
      ]
    },
    {
      "cell_type": "code",
      "execution_count": null,
      "metadata": {
        "id": "HqZKPlwU4R4j"
      },
      "outputs": [],
      "source": [
        "# First 10 tokens marked as UNK that are smaller then 4 characters in length\n",
        "print(list(i for i in not_found_tokens if len(i) < 4)[:10])"
      ]
    },
    {
      "cell_type": "code",
      "execution_count": null,
      "metadata": {
        "id": "zByTPLzs4R4k"
      },
      "outputs": [],
      "source": [
        "atts = [\"ri\", \"#i\", \"r#\"]\n",
        "\n",
        "# 0 means no matches\n",
        "print(sum(att in a for att in atts))"
      ]
    },
    {
      "cell_type": "code",
      "execution_count": null,
      "metadata": {
        "id": "G3bKM8y14R4k"
      },
      "outputs": [],
      "source": [
        "actual_unks = []\n",
        "for i in not_found_tokens:\n",
        "  if \"[UNK]\" in small_tokenizer.tokenize(i):\n",
        "    actual_unks.append([i, small_tokenizer.tokenize(i)])"
      ]
    },
    {
      "cell_type": "code",
      "execution_count": null,
      "metadata": {
        "id": "WFfYEsJZ4R4l"
      },
      "outputs": [],
      "source": [
        "len(actual_unks)"
      ]
    },
    {
      "cell_type": "code",
      "execution_count": null,
      "metadata": {
        "id": "9za_v4O54R4m"
      },
      "outputs": [],
      "source": [
        "small_tokenizer.tokenize(\"Random sentance using 495 1969 ncaa naughty national 1769\")"
      ]
    },
    {
      "cell_type": "code",
      "execution_count": null,
      "metadata": {
        "id": "U5ubLCt84R4m"
      },
      "outputs": [],
      "source": [
        "small_tokenizer.tokenize(\"coffee cream in 2014 was op\")"
      ]
    },
    {
      "cell_type": "code",
      "execution_count": null,
      "metadata": {
        "id": "78iUELyJ4R4n"
      },
      "outputs": [],
      "source": [
        "print(\"Tokens marked as UNK:\")\n",
        "for i in actual_unks:\n",
        "  print(i[0])"
      ]
    },
    {
      "cell_type": "code",
      "execution_count": null,
      "metadata": {
        "id": "UAgrDZWv4R4n"
      },
      "outputs": [],
      "source": [
        "print((list([i for i in actual_unks if not i[0].isalnum()])))"
      ]
    },
    {
      "cell_type": "code",
      "execution_count": null,
      "metadata": {
        "id": "MeqK2G9-4R4o"
      },
      "outputs": [],
      "source": [
        "print((list(i for i in Counter(tokenized).most_common(1000) if \"#\" in i[0])))"
      ]
    },
    {
      "cell_type": "code",
      "execution_count": null,
      "metadata": {
        "id": "z4MHJ_224R4o"
      },
      "outputs": [],
      "source": [
        "politics_unks = list([i[0] for i in sorted(actual_unks) if i[0].isalnum()])"
      ]
    },
    {
      "cell_type": "code",
      "execution_count": null,
      "metadata": {
        "id": "W23T7FXR4R4o"
      },
      "outputs": [],
      "source": [
        "politics_word_tokens = [token for token in politics_unks if not any(char.isdigit() for char in token)]"
      ]
    },
    {
      "cell_type": "code",
      "execution_count": null,
      "metadata": {
        "id": "0fpZB_3h4R4p"
      },
      "outputs": [],
      "source": [
        "len(politics_unks) - len(politics_word_tokens)"
      ]
    },
    {
      "cell_type": "code",
      "execution_count": null,
      "metadata": {
        "id": "VO3DvGoo89KC"
      },
      "outputs": [],
      "source": [
        "set(politics_unks) - set(politics_word_tokens)"
      ]
    },
    {
      "cell_type": "code",
      "execution_count": null,
      "metadata": {
        "id": "ImS88xgN4R4p"
      },
      "outputs": [],
      "source": [
        "[token for token in politics_unks if any(char.isdigit() for char in token)]"
      ]
    },
    {
      "cell_type": "code",
      "execution_count": null,
      "metadata": {
        "id": "Bu6mKczs4R4q"
      },
      "outputs": [],
      "source": [
        "# Store unk tokens in a file\n",
        "with open('politics_unk_tokens.txt', 'w') as f:\n",
        "  f.write(\"\\n\".join(politics_word_tokens))"
      ]
    },
    {
      "cell_type": "code",
      "execution_count": null,
      "metadata": {
        "id": "-IWkuFQU4R4r"
      },
      "outputs": [],
      "source": [
        "politics_word_tokens[:10]"
      ]
    },
    {
      "cell_type": "markdown",
      "metadata": {
        "id": "8XlaIv3tZdtZ"
      },
      "source": [
        "#### 200 user Simulation"
      ]
    },
    {
      "cell_type": "markdown",
      "metadata": {
        "id": "9X4lTMUx91_x"
      },
      "source": [
        "##### Comparations (checkpoint)"
      ]
    },
    {
      "cell_type": "code",
      "execution_count": null,
      "metadata": {
        "colab": {
          "base_uri": "https://localhost:8080/"
        },
        "id": "xgStouYe96Si",
        "outputId": "5ab1ac9f-8a5f-4e37-cd60-c7bbc8759bec"
      },
      "outputs": [
        {
          "name": "stdout",
          "output_type": "stream",
          "text": [
            "Politics tokens: abbreviate, abbreviation, abdominal, abduct, abduction...\n",
            "Nba tokens:      abbreviate, abbreviation, abdominal, abduct, abduction...\n"
          ]
        }
      ],
      "source": [
        "with open('politics_unk_tokens.txt', 'r') as f:\n",
        "  politics_unk_tokens = f.read().split()\n",
        "\n",
        "with open('nba_unk_tokens.txt', 'r') as f:\n",
        "  nba_unk_tokens = f.read().split()\n",
        "\n",
        "print(f\"Politics tokens: { ', '.join(politics_unk_tokens[:5]) }...\")\n",
        "print(f\"Nba tokens:      { ', '.join(nba_unk_tokens[:5]) }...\")"
      ]
    },
    {
      "cell_type": "markdown",
      "metadata": {
        "id": "jZlOJ6ToXGk-"
      },
      "source": [
        "###### Strictly same"
      ]
    },
    {
      "cell_type": "code",
      "execution_count": null,
      "metadata": {
        "colab": {
          "base_uri": "https://localhost:8080/"
        },
        "id": "IM7od_Ev-yWD",
        "outputId": "bfac8f57-4daa-40c6-c9c1-6d47c137adaa"
      },
      "outputs": [
        {
          "name": "stdout",
          "output_type": "stream",
          "text": [
            "8502\n",
            "8502\n"
          ]
        }
      ],
      "source": [
        "print(len(politics_unk_tokens))\n",
        "print(len(nba_unk_tokens))"
      ]
    },
    {
      "cell_type": "code",
      "execution_count": null,
      "metadata": {
        "id": "FKzYxt9dGYso"
      },
      "outputs": [],
      "source": [
        "shared_tokens = set(politics_unk_tokens).intersection(set(nba_unk_tokens))"
      ]
    },
    {
      "cell_type": "code",
      "execution_count": null,
      "metadata": {
        "colab": {
          "base_uri": "https://localhost:8080/"
        },
        "id": "t1gHsdCyGjpL",
        "outputId": "a6702ecb-8e50-4559-c1a8-239dc5c1be1c"
      },
      "outputs": [
        {
          "data": {
            "text/plain": [
              "8502"
            ]
          },
          "execution_count": 21,
          "metadata": {},
          "output_type": "execute_result"
        }
      ],
      "source": [
        "len(shared_tokens)"
      ]
    },
    {
      "cell_type": "code",
      "execution_count": null,
      "metadata": {
        "colab": {
          "base_uri": "https://localhost:8080/"
        },
        "id": "PJ8JA_J6GxR_",
        "outputId": "d8788ee4-9b75-4ecf-81f9-86f9e968b6d2"
      },
      "outputs": [
        {
          "data": {
            "text/plain": [
              "['abbreviate',\n",
              " 'abbreviation',\n",
              " 'abdominal',\n",
              " 'abduct',\n",
              " 'abduction',\n",
              " 'abdul',\n",
              " 'abdullah',\n",
              " 'ability',\n",
              " 'abnormality',\n",
              " 'abolish']"
            ]
          },
          "execution_count": 22,
          "metadata": {},
          "output_type": "execute_result"
        }
      ],
      "source": [
        "sorted(list(shared_tokens))[:10]"
      ]
    },
    {
      "cell_type": "code",
      "execution_count": null,
      "metadata": {
        "id": "QfFhN5joG8fe"
      },
      "outputs": [],
      "source": [
        "#politics_tokenizer.tokenize(\"abdul\")"
      ]
    },
    {
      "cell_type": "code",
      "execution_count": null,
      "metadata": {
        "colab": {
          "base_uri": "https://localhost:8080/"
        },
        "id": "k1wgekaDKd4q",
        "outputId": "c408ecd3-06af-4fd6-ff36-0be2ca401eda"
      },
      "outputs": [
        {
          "name": "stdout",
          "output_type": "stream",
          "text": [
            "[]\n",
            "0\n"
          ]
        }
      ],
      "source": [
        "nba_specific = set(nba_unk_tokens) - shared_tokens\n",
        "print(sorted(list(nba_specific))[:10])\n",
        "print(len(nba_specific))"
      ]
    },
    {
      "cell_type": "code",
      "execution_count": null,
      "metadata": {
        "colab": {
          "base_uri": "https://localhost:8080/"
        },
        "id": "8TJNyEuAKzcl",
        "outputId": "89de7ed0-8126-48ab-d3a7-6d811275b6e3"
      },
      "outputs": [
        {
          "name": "stdout",
          "output_type": "stream",
          "text": [
            "[]\n",
            "0\n"
          ]
        }
      ],
      "source": [
        "politics_specific = set(politics_unk_tokens) - shared_tokens\n",
        "print(sorted(list(politics_specific))[:10])\n",
        "print(len(politics_specific))"
      ]
    },
    {
      "cell_type": "code",
      "execution_count": null,
      "metadata": {
        "id": "9W7i7Bi3UAUb"
      },
      "outputs": [],
      "source": [
        "from difflib import SequenceMatcher\n",
        "\n",
        "def similar(a, b):\n",
        "    return SequenceMatcher(None, a, b).ratio()"
      ]
    },
    {
      "cell_type": "markdown",
      "metadata": {
        "id": "V5PYvWy8XNS7"
      },
      "source": [
        "###### Lemmatization"
      ]
    },
    {
      "cell_type": "code",
      "execution_count": null,
      "metadata": {
        "id": "PY7_zU4CX52n"
      },
      "outputs": [],
      "source": [
        "lemmatized_politics = set()\n",
        "\n",
        "wnl = WordNetLemmatizer()\n",
        "for word in politics_unk_tokens:\n",
        "   lemmatized_politics.add(wnl.lemmatize(wnl.lemmatize(word, pos=\"n\"), pos=\"v\"))"
      ]
    },
    {
      "cell_type": "code",
      "execution_count": null,
      "metadata": {
        "colab": {
          "base_uri": "https://localhost:8080/"
        },
        "id": "BTht3q9oYxR9",
        "outputId": "0aa1b973-ff56-4d86-c484-47aaed7b1213"
      },
      "outputs": [
        {
          "data": {
            "text/plain": [
              "(8502, 8496)"
            ]
          },
          "execution_count": 28,
          "metadata": {},
          "output_type": "execute_result"
        }
      ],
      "source": [
        "len(politics_unk_tokens), len(lemmatized_politics)"
      ]
    },
    {
      "cell_type": "code",
      "execution_count": null,
      "metadata": {
        "id": "igY1zjGWY8x8"
      },
      "outputs": [],
      "source": [
        "lemmatized_nba = set()\n",
        "\n",
        "wnl = WordNetLemmatizer()\n",
        "for word in nba_unk_tokens:\n",
        "   lemmatized_nba.add(wnl.lemmatize(wnl.lemmatize(word, pos=\"n\"), pos=\"v\"))"
      ]
    },
    {
      "cell_type": "code",
      "execution_count": null,
      "metadata": {
        "colab": {
          "base_uri": "https://localhost:8080/"
        },
        "id": "NDWNv2HlZEoq",
        "outputId": "9739a4b3-bf2d-4731-fb3b-37f7c39cb84b"
      },
      "outputs": [
        {
          "data": {
            "text/plain": [
              "(8502, 8496)"
            ]
          },
          "execution_count": 30,
          "metadata": {},
          "output_type": "execute_result"
        }
      ],
      "source": [
        "len(nba_unk_tokens), len(lemmatized_nba)"
      ]
    },
    {
      "cell_type": "code",
      "execution_count": null,
      "metadata": {
        "id": "Fm9Q1S9LZMqB"
      },
      "outputs": [],
      "source": [
        "shared_lemm_tokens = lemmatized_politics.intersection(lemmatized_nba)"
      ]
    },
    {
      "cell_type": "code",
      "execution_count": null,
      "metadata": {
        "colab": {
          "base_uri": "https://localhost:8080/"
        },
        "id": "tuqHPldSZVUH",
        "outputId": "dcfb96a7-676e-47db-ff72-a4caae37ff76"
      },
      "outputs": [
        {
          "data": {
            "text/plain": [
              "8496"
            ]
          },
          "execution_count": 32,
          "metadata": {},
          "output_type": "execute_result"
        }
      ],
      "source": [
        "len(shared_lemm_tokens)"
      ]
    },
    {
      "cell_type": "code",
      "execution_count": null,
      "metadata": {
        "id": "LBUC3uh1ZfEu"
      },
      "outputs": [],
      "source": [
        "nba_lemm_specific = lemmatized_nba - shared_lemm_tokens\n",
        "politics_lemm_specific = lemmatized_politics - shared_lemm_tokens"
      ]
    },
    {
      "cell_type": "code",
      "execution_count": null,
      "metadata": {
        "id": "c7PYK2xxZkyM"
      },
      "outputs": [],
      "source": [
        "# Execution cca 2 min\n",
        "for index, i in enumerate(nba_lemm_specific):\n",
        "  for j in politics_lemm_specific:\n",
        "    if similar(i, j) > 0.8:\n",
        "      print(i, j)\n",
        "\n",
        "  if index % 100 == 0:\n",
        "    print(f\"          {index} / {len(nba_lemm_specific)}\")"
      ]
    },
    {
      "cell_type": "code",
      "execution_count": null,
      "metadata": {
        "colab": {
          "base_uri": "https://localhost:8080/",
          "height": 215
        },
        "id": "6YEsKVQNad63",
        "outputId": "f318cada-c536-4b99-e43a-0b075a3c0edf"
      },
      "outputs": [
        {
          "data": {
            "application/vnd.google.colaboratory.intrinsic+json": {
              "type": "string"
            },
            "text/plain": [
              "'fossils'"
            ]
          },
          "execution_count": 35,
          "metadata": {},
          "output_type": "execute_result"
        }
      ],
      "source": [
        "wnl.lemmatize(\"fossils\", pos=\"v\")"
      ]
    },
    {
      "cell_type": "code",
      "execution_count": null,
      "metadata": {
        "colab": {
          "base_uri": "https://localhost:8080/"
        },
        "id": "AOjGoqsMeVIU",
        "outputId": "f6b1de18-cf24-4ab0-9ab2-e32b60826ac6"
      },
      "outputs": [
        {
          "data": {
            "text/plain": [
              "(0, 0, 8496)"
            ]
          },
          "execution_count": 36,
          "metadata": {},
          "output_type": "execute_result"
        }
      ],
      "source": [
        "# When nba_lemm only contains nba comments and politics_lemm only politic tokens\n",
        "# nba - 1000, politics 3000, shared 5000 (982, 3021, 5282)\n",
        "\n",
        "len(nba_lemm_specific), len(politics_lemm_specific), len(shared_lemm_tokens)"
      ]
    },
    {
      "cell_type": "markdown",
      "metadata": {
        "id": "j3e5FEGUaOmf"
      },
      "source": [
        "##### Random partition (based on hash function)\n",
        "x partitions represending \"x networks of users\".\n",
        "Goal is to put all the tokens in one cluster that matches users from same subreddit. (There should not be cluster with 2 users in different subreddits)   "
      ]
    },
    {
      "cell_type": "code",
      "execution_count": null,
      "metadata": {
        "id": "8chD8tAiXD0Y"
      },
      "outputs": [],
      "source": [
        "from collections import defaultdict"
      ]
    },
    {
      "cell_type": "code",
      "execution_count": null,
      "metadata": {
        "id": "IsCSLuK3bcU9"
      },
      "outputs": [],
      "source": [
        "# Load unk lemm tokens\n",
        "with open('nba_unk_tokens.txt', 'r') as n:\n",
        "  all_unk_tokens = n.read().split()"
      ]
    },
    {
      "cell_type": "code",
      "execution_count": null,
      "metadata": {
        "id": "AYPiISuFYWuo"
      },
      "outputs": [],
      "source": [
        "def get_hashed_cluster(_word):\n",
        "    return hash(_word) % 10\n",
        "\n",
        "# Main varaible\n",
        "clusters = defaultdict(list)\n",
        "\n",
        "# Partitions will include NBA specific, Politics specific and shared tokens\n",
        "for word in all_unk_tokens:\n",
        "    clusters[\"c\" + str(get_hashed_cluster(word))].append(word)"
      ]
    },
    {
      "cell_type": "code",
      "execution_count": null,
      "metadata": {
        "colab": {
          "base_uri": "https://localhost:8080/"
        },
        "id": "0tyhjnDodNA5",
        "outputId": "6d2cf535-fbdc-4608-b9ca-05e5f5b13e0c"
      },
      "outputs": [
        {
          "name": "stdout",
          "output_type": "stream",
          "text": [
            "c4 - abbreviate, abortion, abundance, abundant, accessibility, accident, accountability, accurately, additive, adjustment...\n",
            "c2 - abbreviation, abrupt, abusive, accustom, acid, acquaintance, active, adaptive, adequate, admiralty...\n",
            "c8 - abdominal, accessible, acoustic, acquit, activate, adrenaline, aesthetic, affection, aggravate, agile...\n",
            "c6 - abduct, ability, abruptly, accidental, accommodation, accountable, accredit, accreditation, accuracy, achieve...\n",
            "c7 - abduction, abdullah, absolute, abu, abuse, accumulation, adaptation, adjoin, administration, adoptive...\n",
            "c1 - abdul, abolitionist, above, absolutely, academic, account, accountant, achievement, adriatic, adultery...\n",
            "c3 - abnormality, abolition, aboriginal, abstraction, accession, acclaim, acquire, activation, activist, additional...\n",
            "c0 - abolish, accomplish, accomplishment, accurate, activism, addict, additionally, adulthood, adventure, affiliate...\n",
            "c9 - absurd, accidentally, accumulate, accusation, accuse, actively, actual, addiction, adequately, adi...\n",
            "c5 - academia, acceleration, acquisition, activity, adjective, adjunct, admiration, advocate, afterlife, aggression...\n"
          ]
        }
      ],
      "source": [
        "for i, val in clusters.items():\n",
        "    print(i, \"-\", \", \".join(val[:10]) + \"...\")"
      ]
    },
    {
      "cell_type": "markdown",
      "metadata": {
        "id": "oUJq3MXTiFJn"
      },
      "source": [
        "##### 200 users"
      ]
    },
    {
      "cell_type": "code",
      "execution_count": null,
      "metadata": {
        "id": "R4VBbHLblR0D"
      },
      "outputs": [],
      "source": [
        "from collections import defaultdict\n",
        "import json"
      ]
    },
    {
      "cell_type": "code",
      "execution_count": null,
      "metadata": {
        "id": "jKxpNKJRiH1S"
      },
      "outputs": [],
      "source": [
        "with open(\"nba.txt\") as n, open(\"politics.txt\") as p:\n",
        "    nba_comments = defaultdict(list)\n",
        "    politics_comments = defaultdict(list)\n",
        "\n",
        "    for row in n:\n",
        "        nba_comments[json.loads(row)['author']].append(json.loads(row)['comment'])\n",
        "\n",
        "    for row in p:\n",
        "        politics_comments[json.loads(row)['author']].append(json.loads(row)['comment'])"
      ]
    },
    {
      "cell_type": "code",
      "execution_count": null,
      "metadata": {
        "id": "SyaA6bKPiUyV"
      },
      "outputs": [],
      "source": [
        "all_comments = nba_comments.copy()\n",
        "all_comments.update(politics_comments)"
      ]
    },
    {
      "cell_type": "markdown",
      "metadata": {
        "id": "-ZjqA9TvoSod"
      },
      "source": [
        "###### Get UNK tokens only"
      ]
    },
    {
      "cell_type": "code",
      "execution_count": null,
      "metadata": {
        "colab": {
          "base_uri": "https://localhost:8080/"
        },
        "id": "hZCGVITBo3gB",
        "outputId": "de7f8f28-fe06-4726-ec97-31b83ef6b39d"
      },
      "outputs": [
        {
          "name": "stderr",
          "output_type": "stream",
          "text": [
            "[nltk_data] Downloading package wordnet to /root/nltk_data...\n",
            "[nltk_data]   Package wordnet is already up-to-date!\n",
            "[nltk_data] Downloading package omw-1.4 to /root/nltk_data...\n",
            "[nltk_data]   Package omw-1.4 is already up-to-date!\n"
          ]
        },
        {
          "data": {
            "text/plain": [
              "True"
            ]
          },
          "execution_count": 30,
          "metadata": {},
          "output_type": "execute_result"
        }
      ],
      "source": [
        "import nltk\n",
        "import json\n",
        "from nltk.stem import WordNetLemmatizer\n",
        "from tokenization import FullTokenizer\n",
        "from collections import Counter\n",
        "\n",
        "nltk.download(\"wordnet\")\n",
        "nltk.download(\"omw-1.4\")"
      ]
    },
    {
      "cell_type": "code",
      "execution_count": null,
      "metadata": {
        "id": "1SJ7Ax2vocMa"
      },
      "outputs": [],
      "source": [
        "user_comments = all_comments['AHarshInquisitor']"
      ]
    },
    {
      "cell_type": "code",
      "execution_count": null,
      "metadata": {
        "id": "xiIOuEWHok4L"
      },
      "outputs": [],
      "source": [
        "# nba_tokenizer = FullTokenizer(\"nba_vocab.txt\", True)\n",
        "# politics_tokenizer = FullTokenizer(\"politics_vocab.txt\", True)\n",
        "wnl = WordNetLemmatizer()\n",
        "merged = \" \".join(user_comments)\n",
        "\n",
        "tokenizer = FullTokenizer(\"vocab.txt\", True)\n",
        "tokenized = tokenizer.tokenize(merged)\n",
        "c = Counter(tokenized).most_common(500)"
      ]
    },
    {
      "cell_type": "code",
      "execution_count": null,
      "metadata": {
        "colab": {
          "base_uri": "https://localhost:8080/",
          "height": 1000
        },
        "id": "t0vDscpmzemJ",
        "outputId": "075100df-9220-446b-c935-9fb9f3ead74a"
      },
      "outputs": [
        {
          "data": {
            "application/vnd.google.colaboratory.intrinsic+json": {
              "type": "string"
            },
            "text/plain": [
              "'user_tokens_nba = set()\\n\\nfor word in merged.split():\\n    if nba_tokenizer.tokenize(word) == [\"[UNK]\"]:\\n        lem = wnl.lemmatize(wnl.lemmatize(word, pos=\"n\"), pos=\"v\").lower()\\n        if lem in nba_tokens:\\n            user_tokens_nba.add(lem)'"
            ]
          },
          "execution_count": 33,
          "metadata": {},
          "output_type": "execute_result"
        }
      ],
      "source": [
        "\"\"\"user_tokens_nba = set()\n",
        "\n",
        "for word in merged.split():\n",
        "    if nba_tokenizer.tokenize(word) == [\"[UNK]\"]:\n",
        "        lem = wnl.lemmatize(wnl.lemmatize(word, pos=\"n\"), pos=\"v\").lower()\n",
        "        if lem in nba_tokens:\n",
        "            user_tokens_nba.add(lem)\"\"\""
      ]
    },
    {
      "cell_type": "code",
      "execution_count": null,
      "metadata": {
        "colab": {
          "base_uri": "https://localhost:8080/",
          "height": 1000
        },
        "id": "2sfVgNPi10MY",
        "outputId": "7bf95ab3-c8de-421d-8a67-2ea8377a9ba4"
      },
      "outputs": [
        {
          "data": {
            "application/vnd.google.colaboratory.intrinsic+json": {
              "type": "string"
            },
            "text/plain": [
              "'user_tokens_politics = set()\\n\\nfor word in merged.split():\\n    if politics_tokenizer.tokenize(word) == [\"[UNK]\"]:\\n        lemmed = wnl.lemmatize(wnl.lemmatize(word, pos=\"n\"), pos=\"v\").lower()\\n        if lemmed in politics_tokens:\\n            user_tokens_politics.add(lemmed)'"
            ]
          },
          "execution_count": 34,
          "metadata": {},
          "output_type": "execute_result"
        }
      ],
      "source": [
        "\"\"\"user_tokens_politics = set()\n",
        "\n",
        "for word in merged.split():\n",
        "    if politics_tokenizer.tokenize(word) == [\"[UNK]\"]:\n",
        "        lemmed = wnl.lemmatize(wnl.lemmatize(word, pos=\"n\"), pos=\"v\").lower()\n",
        "        if lemmed in politics_tokens:\n",
        "            user_tokens_politics.add(lemmed)\"\"\""
      ]
    },
    {
      "cell_type": "code",
      "execution_count": null,
      "metadata": {
        "id": "2TMnghUuuigr"
      },
      "outputs": [],
      "source": [
        "def get_user_unk_tokens(user):\n",
        "    joined_comments = \" \".join(all_comments[user])\n",
        "    return [n for n in nba_unk_tokens if n in joined_comments]"
      ]
    },
    {
      "cell_type": "code",
      "execution_count": null,
      "metadata": {
        "colab": {
          "base_uri": "https://localhost:8080/"
        },
        "id": "I6HOBU17uigs",
        "outputId": "ee81af9c-f97c-4459-a34e-27b065624e96"
      },
      "outputs": [
        {
          "data": {
            "text/plain": [
              "1419"
            ]
          },
          "execution_count": 36,
          "metadata": {},
          "output_type": "execute_result"
        }
      ],
      "source": [
        "rels = { user: get_user_unk_tokens(user) for user in [_ for _ in all_comments][:] }\n",
        "len(rels['BizGilwalker'])"
      ]
    },
    {
      "cell_type": "markdown",
      "metadata": {
        "id": "ZYkHR5j4t_jz"
      },
      "source": [
        "##### The simulation"
      ]
    },
    {
      "cell_type": "code",
      "execution_count": null,
      "metadata": {
        "id": "_1XUll3Srny4"
      },
      "outputs": [],
      "source": [
        "import numpy as np"
      ]
    },
    {
      "cell_type": "code",
      "execution_count": null,
      "metadata": {
        "id": "1lIS53e8tZob"
      },
      "outputs": [],
      "source": [
        "# Svi UNK Tokeni usera\n",
        "users200 = rels\n",
        "\n",
        "# Proizvoljan broj clustera\n",
        "# U svakom clusteru se nalaze UNK tokeni\n",
        "# Inicijalno stanje je hash random\n",
        "clusters = clusters"
      ]
    },
    {
      "cell_type": "code",
      "execution_count": null,
      "metadata": {
        "id": "XCRrf5bUumBj"
      },
      "outputs": [],
      "source": [
        "# User set could have: \"I am working\" and UNK token = \"work\". Func will not count it, but should\n",
        "def get_user_cluster_index(username):\n",
        "    user_set = set(users200[username])\n",
        "    cluster_absolute_count = list(map(lambda cluster: len(set(cluster[1]).intersection(user_set)), clusters.items()))\n",
        "    # print(cluster_absolute_count)\n",
        "    return np.argmax(cluster_absolute_count)"
      ]
    },
    {
      "cell_type": "code",
      "execution_count": null,
      "metadata": {
        "id": "EjdaOG4lrrTx"
      },
      "outputs": [],
      "source": [
        "# Da       (+1 vote) - Ako je User u istom clusteru kao i \"iniciator\" i User ima predloženi token (u svom vokabularu)\n",
        "# Svejedno (+0 vote) - Ako je User u istom clusteru kao i \"iniciator\" i User nema predloženi token (u svom vokabularu)\n",
        "# Svejedno (+0 vote) - Ako User nije u istom clusteru kao i \"iniciator\" i User nema predloženi token (u svom vokabularu)\n",
        "# Ne       (-1 vote) - Ako User nije u istom clusteru kao i \"iniciator\" i User ima predloženi token (u svom vokabularu)\n",
        "\n",
        "# x     y\n",
        "# True  True  +1\n",
        "# True  False  0\n",
        "# False False  0\n",
        "# False True  -1\n",
        "\n",
        "# x y\n",
        "# 1 1 +1\n",
        "# 1 0  0\n",
        "# 0 0  0\n",
        "# 0 1 -1\n",
        "\n",
        "# y * 2x - 1\n",
        "def vote_decision(x: bool, y: bool) -> int:\n",
        "    return int(y) * (2 * int(x) - 1)\n",
        "\n",
        "assert vote_decision(True, True) == 1\n",
        "assert vote_decision(True, False) == 0\n",
        "assert vote_decision(False, False) == 0\n",
        "assert vote_decision(False, True) == -1"
      ]
    },
    {
      "cell_type": "code",
      "execution_count": null,
      "metadata": {
        "id": "mF1DtqUuvffC"
      },
      "outputs": [],
      "source": [
        "def round_of_vote(username, tolerance = 0, batch_size=1):\n",
        "    user = users200[username]  # All UNKs\n",
        "\n",
        "    # Nadi User Cluster\n",
        "    user_cluster_index = get_user_cluster_index(username)\n",
        "\n",
        "    # Odaberi token za koji se vote-a za transport u taj cluster\n",
        "    tokens_not_in_cluster = set(user).difference(clusters[\"c\" + str(user_cluster_index)])\n",
        "\n",
        "    batch_size = min(len(list(tokens_not_in_cluster)), batch_size)\n",
        "    proposed_tokens = np.random.choice(list(tokens_not_in_cluster), batch_size, False)\n",
        "\n",
        "    proposed_tokens_dictkeys = [[index for index, cluster in clusters.items() if proposed_token in cluster][0] for proposed_token in proposed_tokens]\n",
        "\n",
        "    # Svaki user Vote-a batch\n",
        "    votes = [0] * batch_size\n",
        "    for _username in users200:\n",
        "        same_cluster = get_user_cluster_index(_username) == user_cluster_index\n",
        "        proposed_exist = set(users200[_username]).intersection(set(proposed_tokens))\n",
        "        has_proposed_all = [proposed_token in proposed_exist for proposed_token in proposed_tokens]\n",
        "\n",
        "        vote_decisions = [vote_decision(same_cluster, has_proposed) for has_proposed in has_proposed_all]\n",
        "        votes = list(map(lambda x: sum(x), zip(votes, vote_decisions)))\n",
        "\n",
        "    # Prebaci tokene u novi patch\n",
        "    for i, vote in enumerate(votes):\n",
        "        if vote > -tolerance:\n",
        "            clusters[proposed_tokens_dictkeys[i]].remove(proposed_tokens[i])\n",
        "            clusters[\"c\" + str(user_cluster_index)].append(proposed_tokens[i])\n",
        "            # print(\"Success\")"
      ]
    },
    {
      "cell_type": "code",
      "execution_count": null,
      "metadata": {
        "colab": {
          "base_uri": "https://localhost:8080/"
        },
        "id": "9HR_jLjgTnCt",
        "outputId": "2b64befb-2f80-4d89-f311-0aed5184570c"
      },
      "outputs": [
        {
          "data": {
            "text/plain": [
              "['10', '9', '9', '9', '10', '10', '10', '9', '10', '10']"
            ]
          },
          "execution_count": 42,
          "metadata": {},
          "output_type": "execute_result"
        }
      ],
      "source": [
        "total = 8502\n",
        "[str(int(100 * len(cluster) / total)) for cluster in clusters.values()]"
      ]
    },
    {
      "cell_type": "code",
      "execution_count": null,
      "metadata": {
        "id": "ZIRR_XMblKy_"
      },
      "outputs": [],
      "source": [
        "from collections import Counter\n",
        "\n",
        "def purities():\n",
        "    users_clusters_keys = [get_user_cluster_index(_username) for _username in users200]\n",
        "    subbreddits = [\"politics\" if _username in list(politics_comments.keys()) else \"nba\" for _username in users200]\n",
        "\n",
        "    #print(users_clusters_keys)\n",
        "    #print(len(users_clusters_keys), len(subbreddits))\n",
        "    #print(list(zip(users_clusters_keys, subbreddits)))\n",
        "    c = Counter(zip(users_clusters_keys, subbreddits))\n",
        "    return c"
      ]
    },
    {
      "cell_type": "code",
      "execution_count": null,
      "metadata": {
        "id": "HWIoxaJplpQk"
      },
      "outputs": [],
      "source": [
        "cluster_purities = purities()"
      ]
    },
    {
      "cell_type": "code",
      "execution_count": null,
      "metadata": {
        "colab": {
          "base_uri": "https://localhost:8080/",
          "height": 544
        },
        "id": "DdnKND68fnFo",
        "outputId": "1917b32a-0b9e-4c1c-97c6-a1d395baab39"
      },
      "outputs": [
        {
          "name": "stdout",
          "output_type": "stream",
          "text": [
            "[[], [], [], [], [], (False, 0.49, 98, 104), [], [], [], (False, 0.4, 2, 3)]\n",
            "['9', '8', '9', '9', '11', '12', '9', '10', '8', '10']\n",
            "[(False, 0.48, 95, 104), (False, 0.67, 2, 1), [], [], [], [], [], [], (False, 0.6, 3, 2), []]\n",
            "['12', '10', '8', '10', '10', '10', '8', '8', '10', '8']\n",
            "[(False, 0.25, 2, 6), [], (False, 0.53, 88, 78), [], [], [], [2], [], (False, 0.32, 10, 21), []]\n",
            "['10', '10', '11', '9', '9', '10', '10', '8', '11', '8']\n",
            "[[], [], [], [], (False, 0.47, 91, 103), [], [], [5], [], (False, 0.5, 4, 4)]\n",
            "['9', '8', '10', '8', '12', '9', '10', '10', '9', '10']\n",
            "[[], (False, 0.49, 98, 104), [], [1], [], (False, 0.33, 1, 2), [], [], [], [1]]\n",
            "['8', '11', '9', '10', '10', '11', '9', '9', '8', '9']\n"
          ]
        },
        {
          "ename": "KeyboardInterrupt",
          "evalue": "ignored",
          "output_type": "error",
          "traceback": [
            "\u001b[0;31m---------------------------------------------------------------------------\u001b[0m",
            "\u001b[0;31mKeyboardInterrupt\u001b[0m                         Traceback (most recent call last)",
            "\u001b[0;32m<ipython-input-55-62f80ef60c53>\u001b[0m in \u001b[0;36m<cell line: 4>\u001b[0;34m()\u001b[0m\n\u001b[1;32m      4\u001b[0m \u001b[0;32mfor\u001b[0m \u001b[0m_\u001b[0m \u001b[0;32min\u001b[0m \u001b[0mrange\u001b[0m\u001b[0;34m(\u001b[0m\u001b[0mvote_simulation_count\u001b[0m\u001b[0;34m)\u001b[0m\u001b[0;34m:\u001b[0m\u001b[0;34m\u001b[0m\u001b[0;34m\u001b[0m\u001b[0m\n\u001b[1;32m      5\u001b[0m     \u001b[0mrandom_username\u001b[0m \u001b[0;34m=\u001b[0m \u001b[0mnp\u001b[0m\u001b[0;34m.\u001b[0m\u001b[0mrandom\u001b[0m\u001b[0;34m.\u001b[0m\u001b[0mchoice\u001b[0m\u001b[0;34m(\u001b[0m\u001b[0mlist\u001b[0m\u001b[0;34m(\u001b[0m\u001b[0musers200\u001b[0m\u001b[0;34m.\u001b[0m\u001b[0mkeys\u001b[0m\u001b[0;34m(\u001b[0m\u001b[0;34m)\u001b[0m\u001b[0;34m)\u001b[0m\u001b[0;34m)\u001b[0m\u001b[0;34m\u001b[0m\u001b[0;34m\u001b[0m\u001b[0m\n\u001b[0;32m----> 6\u001b[0;31m     \u001b[0mround_of_vote\u001b[0m\u001b[0;34m(\u001b[0m\u001b[0mrandom_username\u001b[0m\u001b[0;34m,\u001b[0m \u001b[0;36m10\u001b[0m\u001b[0;34m,\u001b[0m \u001b[0;36m100\u001b[0m\u001b[0;34m)\u001b[0m\u001b[0;34m\u001b[0m\u001b[0;34m\u001b[0m\u001b[0m\n\u001b[0m\u001b[1;32m      7\u001b[0m \u001b[0;34m\u001b[0m\u001b[0m\n\u001b[1;32m      8\u001b[0m     \u001b[0;31m#if _ % 200 == 0:\u001b[0m\u001b[0;34m\u001b[0m\u001b[0;34m\u001b[0m\u001b[0m\n",
            "\u001b[0;32m<ipython-input-41-9bfee8a95e95>\u001b[0m in \u001b[0;36mround_of_vote\u001b[0;34m(username, tolerance, batch_size)\u001b[0m\n\u001b[1;32m     17\u001b[0m     \u001b[0;32mfor\u001b[0m \u001b[0m_username\u001b[0m \u001b[0;32min\u001b[0m \u001b[0musers200\u001b[0m\u001b[0;34m:\u001b[0m\u001b[0;34m\u001b[0m\u001b[0;34m\u001b[0m\u001b[0m\n\u001b[1;32m     18\u001b[0m         \u001b[0msame_cluster\u001b[0m \u001b[0;34m=\u001b[0m \u001b[0mget_user_cluster_index\u001b[0m\u001b[0;34m(\u001b[0m\u001b[0m_username\u001b[0m\u001b[0;34m)\u001b[0m \u001b[0;34m==\u001b[0m \u001b[0muser_cluster_index\u001b[0m\u001b[0;34m\u001b[0m\u001b[0;34m\u001b[0m\u001b[0m\n\u001b[0;32m---> 19\u001b[0;31m         \u001b[0mproposed_exist\u001b[0m \u001b[0;34m=\u001b[0m \u001b[0mset\u001b[0m\u001b[0;34m(\u001b[0m\u001b[0musers200\u001b[0m\u001b[0;34m[\u001b[0m\u001b[0m_username\u001b[0m\u001b[0;34m]\u001b[0m\u001b[0;34m)\u001b[0m\u001b[0;34m.\u001b[0m\u001b[0mintersection\u001b[0m\u001b[0;34m(\u001b[0m\u001b[0mset\u001b[0m\u001b[0;34m(\u001b[0m\u001b[0mproposed_tokens\u001b[0m\u001b[0;34m)\u001b[0m\u001b[0;34m)\u001b[0m\u001b[0;34m\u001b[0m\u001b[0;34m\u001b[0m\u001b[0m\n\u001b[0m\u001b[1;32m     20\u001b[0m         \u001b[0mhas_proposed_all\u001b[0m \u001b[0;34m=\u001b[0m \u001b[0;34m[\u001b[0m\u001b[0mproposed_token\u001b[0m \u001b[0;32min\u001b[0m \u001b[0mproposed_exist\u001b[0m \u001b[0;32mfor\u001b[0m \u001b[0mproposed_token\u001b[0m \u001b[0;32min\u001b[0m \u001b[0mproposed_tokens\u001b[0m\u001b[0;34m]\u001b[0m\u001b[0;34m\u001b[0m\u001b[0;34m\u001b[0m\u001b[0m\n\u001b[1;32m     21\u001b[0m \u001b[0;34m\u001b[0m\u001b[0m\n",
            "\u001b[0;31mKeyboardInterrupt\u001b[0m: "
          ]
        }
      ],
      "source": [
        "purity_req = 0.8\n",
        "vote_simulation_count = 200\n",
        "\n",
        "for _ in range(vote_simulation_count):\n",
        "    random_username = np.random.choice(list(users200.keys()))\n",
        "    round_of_vote(random_username, 10, 100)\n",
        "\n",
        "    #if _ % 200 == 0:\n",
        "        #print(_)\n",
        "\n",
        "    if _ % 10 == 0:\n",
        "        cluster_purities = purities()\n",
        "        cluster_purities_tpl = [[(i[0][1], i[1]) for i in cluster_purities.items() if i[0][0] == c1] for c1 in range(len(clusters.keys()))]\n",
        "        print(list(map(lambda y: ((z:=round(y[0] / sum(y), 2)) > purity_req or z < (1-purity_req), z, y[0], y[1]) if len(y) > 1 else y, [list(map(lambda c: c[1], i)) for i in cluster_purities_tpl])))\n",
        "        print([str(int(100 * len(cluster) / total)) for cluster in clusters.values()])\n"
      ]
    },
    {
      "cell_type": "code",
      "execution_count": null,
      "metadata": {
        "colab": {
          "base_uri": "https://localhost:8080/"
        },
        "id": "Y-8qBGe9hACs",
        "outputId": "d65dd68e-6d9a-4fab-8282-3208771b11a5"
      },
      "outputs": [
        {
          "data": {
            "text/plain": [
              "Counter({(5, 'nba'): 96,\n",
              "         (9, 'nba'): 4,\n",
              "         (5, 'politics'): 100,\n",
              "         (9, 'politics'): 7})"
            ]
          },
          "execution_count": 46,
          "metadata": {},
          "output_type": "execute_result"
        }
      ],
      "source": [
        "purities()"
      ]
    },
    {
      "cell_type": "code",
      "execution_count": null,
      "metadata": {
        "colab": {
          "base_uri": "https://localhost:8080/"
        },
        "id": "ydywj63rhL2J",
        "outputId": "5c26a24e-6122-4a7c-cdbd-b48477852798"
      },
      "outputs": [
        {
          "name": "stdout",
          "output_type": "stream",
          "text": [
            "[[], [], [], [], [], (False, 0.49, 96, 100), [], [], [], (False, 0.36, 4, 7)]\n",
            "['9', '8', '9', '8', '11', '12', '9', '10', '9', '10']\n"
          ]
        }
      ],
      "source": [
        "cluster_purities = purities()\n",
        "cluster_purities_tpl = [[(i[0][1], i[1]) for i in cluster_purities.items() if i[0][0] == c1] for c1 in range(len(clusters.keys()))]\n",
        "print(list(map(lambda y: ((z:=round(y[0] / sum(y), 2)) > purity_req or z < (1-purity_req), z, y[0], y[1]) if len(y) > 1 else y, [list(map(lambda c: c[1], i)) for i in cluster_purities_tpl])))\n",
        "print([str(int(100 * len(cluster) / total)) for cluster in clusters.values()])"
      ]
    },
    {
      "cell_type": "code",
      "execution_count": null,
      "metadata": {
        "colab": {
          "base_uri": "https://localhost:8080/",
          "height": 107
        },
        "id": "T7CInM1ZgBtF",
        "outputId": "e9a236e6-82d7-4c7f-e509-d428357d4c59"
      },
      "outputs": [
        {
          "data": {
            "application/vnd.google.colaboratory.intrinsic+json": {
              "type": "string"
            },
            "text/plain": [
              "\"\\n\\npurity_req = 0.8\\nvote_simulation_count = 5000\\n\\nfor _ in range(vote_simulation_count):\\n    random_username = np.random.choice(list(users200.keys()))\\n    round_of_vote(random_username, 10, 100)\\n    \\n    #if _ % 200 == 0:\\n        #print(_)\\n\\n    if _ % 100 == 0:\\n        cluster_purities = purities()\\n        cluster_purities_tpl = [[(i[0][1], i[1]) for i in cluster_purities.items() if i[0][0] == c1] for c1 in range(len(clusters.keys()))]\\n        print(list(map(lambda y: ((z:=round(y[0] / sum(y), 2)) > purity_req or z < (1-purity_req), z, y[0], y[1]) if len(y) > 1 else y, [list(map(lambda c: c[1], i)) for i in cluster_purities_tpl])))\\n        print([str(int(100 * len(cluster) / total)) for cluster in clusters.values()])\\n\\n\\n[[1], [1], (False, 0.4, 2, 3), (True, 0.82, 9, 2), (False, 0.21, 9, 33), (False, 0.64, 44, 25), (False, 0.58, 15, 11), (False, 0.29, 2, 5), (False, 0.42, 17, 23), (False, 0.2, 1, 4)]\\n['9', '10', '10', '9', '9', '9', '10', '9', '10', '9']\\n[[1], (False, 0.55, 36, 30), [1], [4], (True, 0.1, 3, 27), (False, 0.4, 22, 33), [4], [], (False, 0.75, 3, 1), (False, 0.62, 26, 16)]\\n['8', '12', '9', '9', '10', '9', '9', '9', '10', '11']\\n[[], (False, 0.47, 73, 82), [], [], (False, 0.44, 4, 5), (False, 0.23, 6, 20), [], [], [], [17]]\\n['5', '17', '6', '5', '15', '15', '6', '5', '6', '16']\\n[[], [1], [], [], (True, 0.92, 72, 6), [2], [], [], [], (False, 0.2, 25, 101)]\\n['4', '18', '4', '4', '18', '16', '4', '4', '4', '20']\\n[[], (False, 0.51, 35, 33), [], [], (True, 0.03, 1, 32), (False, 0.27, 12, 32), [], [], [], (True, 0.84, 52, 10)]\\n['3', '19', '4', '3', '19', '18', '4', '3', '4', '20']\\n[[], (False, 0.44, 31, 39), [], [], (False, 0.44, 23, 29), (False, 0.32, 14, 30), [], [], [], (False, 0.78, 32, 9)]\\n['3', '19', '3', '3', '20', '19', '3', '3', '3', '20']\\n[[], [], [], [], (True, 0.14, 2, 12), (False, 0.51, 98, 95), [], [], [], []]\\n['2', '18', '3', '3', '21', '20', '3', '3', '3', '20']\\n[[], (False, 0.72, 53, 21), [], [], (True, 0.1, 3, 26), (False, 0.7, 43, 18), [], [], [], (True, 0.02, 1, 42)]\\n['2', '20', '3', '2', '21', '20', '3', '2', '3', '20']\\n[[], (False, 0.48, 29, 32), [], [], (False, 0.48, 29, 32), (False, 0.38, 18, 29), [], [], [], (False, 0.63, 24, 14)]\\n['2', '21', '2', '2', '21', '20', '2', '2', '2', '20']\\n[[], (False, 0.51, 21, 20), [], [], (False, 0.51, 18, 17), (False, 0.55, 33, 27), [], [], [], (False, 0.39, 28, 43)]\\n['2', '21', '2', '2', '21', '20', '2', '2', '2', '21']\\n[[], [], [], [], (False, 0.48, 100, 107), [], [], [], [], []]\\n['2', '21', '2', '2', '23', '18', '2', '2', '2', '21']\\n[[], (False, 0.54, 22, 19), [], [], [1], [50], [], [], [], (False, 0.23, 27, 88)]\\n['2', '22', '2', '2', '21', '19', '2', '2', '2', '22']\\n[[], [], [], [], (False, 0.42, 39, 54), (False, 0.4, 34, 51), [], [], [], (True, 0.93, 27, 2)]\\n['1', '21', '2', '1', '23', '21', '2', '2', '2', '20']\\n[[], [5], [], [], (False, 0.22, 22, 77), (True, 0.89, 67, 8), [], [], [], (False, 0.21, 6, 22)]\\n['1', '21', '2', '1', '23', '20', '2', '2', '2', '21']\\n[[], [6], [], [], (False, 0.63, 70, 41), (True, 0.13, 9, 60), [], [], [], [21]]\\n['1', '22', '2', '1', '22', '22', '2', '1', '2', '20']\\n[[], (False, 0.47, 88, 99), [], [], (False, 0.5, 1, 1), (False, 0.61, 11, 7), [], [], [], []]\\n['1', '23', '2', '1', '20', '23', '2', '1', '2', '20']\\n[[], [], [], [], (False, 0.51, 99, 94), [], [], [], [], (True, 0.07, 1, 13)]\\n['1', '21', '1', '1', '23', '21', '2', '1', '2', '22']\\n[[], (True, 0.1, 4, 36), [], [], (False, 0.49, 26, 27), (True, 0.12, 5, 36), [], [], [], (True, 0.89, 65, 8)]\\n['1', '22', '1', '1', '22', '22', '2', '1', '2', '21']\\n[[], (False, 0.67, 2, 1), [], [], [], (False, 0.48, 98, 106), [], [], [], []]\\n['1', '22', '1', '1', '21', '23', '1', '1', '2', '21']\\n[[], (True, 0.88, 73, 10), [], [], (True, 0.15, 9, 53), (False, 0.33, 1, 2), [], [], [], (False, 0.29, 17, 42)]\\n['1', '22', '1', '1', '23', '21', '1', '1', '1', '22']\\n[[], (True, 0.17, 6, 29), [], [], (True, 0.91, 52, 5), (True, 0.92, 23, 2), [], [], [], (False, 0.21, 19, 71)]\\n['1', '22', '1', '1', '23', '21', '1', '1', '1', '22']\\n[[], (False, 0.73, 40, 15), [], [], (True, 0.12, 3, 21), (False, 0.45, 57, 71), [], [], [], []]\\n['1', '22', '1', '1', '22', '22', '1', '1', '1', '21']\\n[[], (False, 0.5, 1, 1), [], [], (False, 0.24, 12, 39), [1], [], [], [], (False, 0.57, 87, 66)]\\n['1', '22', '1', '1', '23', '21', '1', '1', '1', '22']\\n[[], (False, 0.22, 11, 38), [], [], (False, 0.65, 41, 22), (False, 0.24, 9, 29), [], [], [], (False, 0.68, 39, 18)]\\n['1', '22', '1', '1', '23', '22', '1', '1', '1', '21']\\n[[], [], [], [], (False, 0.49, 99, 104), [1], [], [], [], [3]]\\n['1', '21', '1', '1', '23', '22', '1', '1', '1', '22']\\n[[], (False, 0.33, 1, 2), [], [], [], [], [], [], [], (False, 0.49, 99, 105)]\\n['1', '22', '1', '1', '21', '22', '1', '1', '1', '23']\\n[[], (False, 0.77, 51, 15), [], [], (True, 0.12, 4, 29), (False, 0.51, 40, 39), [], [], [], (True, 0.17, 5, 24)]\\n['1', '22', '1', '1', '22', '22', '1', '1', '1', '23']\\n[[], (False, 0.25, 1, 3), [], [], [27], (False, 0.41, 71, 104), [], [], [], [1]]\\n['1', '22', '1', '1', '23', '22', '1', '1', '1', '21']\\n[[], (False, 0.58, 41, 30), [], [], [1], (False, 0.43, 58, 76), [], [], [], [1]]\\n['1', '22', '1', '1', '22', '23', '1', '1', '1', '22']\\n[[], [4], [], [], (False, 0.78, 18, 5), (False, 0.44, 77, 100), [], [], [], (False, 0.33, 1, 2)]\\n['1', '21', '1', '1', '23', '24', '1', '1', '1', '21']\\n[[], (True, 0.05, 1, 18), [], [], (False, 0.42, 17, 23), (False, 0.66, 80, 42), [], [], [], (True, 0.08, 2, 24)]\\n['1', '22', '1', '1', '23', '23', '1', '1', '1', '21']\\n[[], (True, 0.9, 28, 3), [], [], (False, 0.4, 2, 3), [], [], [], [], (False, 0.41, 70, 101)]\\n['1', '22', '1', '1', '23', '22', '1', '1', '1', '23']\\n[[], (False, 0.47, 27, 31), [], [], (False, 0.64, 39, 22), (True, 0.04, 1, 24), [], [], [], (False, 0.52, 33, 30)]\\n['1', '21', '1', '1', '23', '22', '1', '1', '1', '23']\\n[[], (False, 0.56, 36, 28), [], [], (False, 0.46, 17, 20), (False, 0.56, 31, 24), [], [], [], (False, 0.31, 16, 35)]\\n['1', '22', '1', '1', '23', '23', '1', '1', '1', '22']\\n[[], (False, 0.24, 31, 96), [], [], [], [], [], [], [], (True, 0.86, 69, 11)]\\n['1', '23', '1', '1', '23', '21', '1', '1', '1', '22']\\n[[], (False, 0.49, 100, 106), [], [], [], [1], [], [], [], []]\\n['1', '23', '1', '1', '23', '22', '1', '1', '1', '22']\\n[[], (False, 0.47, 91, 102), [], [], [], (False, 0.64, 9, 5), [], [], [], []]\\n['1', '24', '1', '1', '22', '23', '1', '1', '1', '20']\\n[[], (False, 0.37, 22, 37), [], [], (False, 0.7, 30, 13), (False, 0.33, 13, 26), [], [], [], (False, 0.53, 35, 31)]\\n['1', '22', '1', '1', '24', '22', '1', '1', '1', '22']\\n[[], [], [], [], (False, 0.48, 98, 107), [2], [], [], [], []]\\n['1', '21', '1', '1', '24', '22', '1', '1', '1', '23']\\n[[], (True, 0.12, 6, 46), [], [], (False, 0.56, 50, 40), [1], [], [], [], (False, 0.69, 44, 20)]\\n['1', '23', '1', '1', '23', '21', '1', '1', '1', '22']\\n[[], (False, 0.49, 99, 105), [], [], [2], [1], [], [], [], []]\\n['1', '24', '1', '1', '23', '22', '1', '1', '1', '21']\\n[[], [], [], [], (False, 0.49, 99, 103), [], [], [], [], (False, 0.2, 1, 4)]\\n['1', '21', '1', '1', '24', '23', '1', '1', '1', '22']\\n[[], [], [], [], (False, 0.24, 12, 38), (False, 0.57, 87, 66), [], [], [], (False, 0.25, 1, 3)]\\n['1', '21', '1', '1', '24', '24', '1', '1', '1', '22']\\n[[], (True, 0.88, 78, 11), [], [], (True, 0.02, 1, 57), (True, 0.88, 7, 1), [], [], [], (False, 0.27, 14, 38)]\\n['1', '22', '1', '1', '24', '22', '1', '1', '1', '22']\\n[[], [1], [], [], [], [], [], [], [], (False, 0.49, 100, 106)]\\n['1', '22', '1', '1', '23', '23', '1', '1', '1', '23']\\n[[], [], [], [], (False, 0.5, 1, 1), (False, 0.48, 99, 106), [], [], [], []]\\n['1', '21', '1', '1', '23', '24', '1', '1', '1', '22']\\n[[], (False, 0.74, 28, 10), [], [], (False, 0.41, 41, 58), (False, 0.67, 2, 1), [], [], [], (False, 0.43, 29, 38)]\\n['1', '22', '1', '1', '24', '22', '1', '1', '1', '22']\\n[[], (False, 0.26, 12, 34), [], [], (False, 0.53, 28, 25), (False, 0.8, 56, 14), [], [], [], (True, 0.11, 4, 34)]\\n['1', '22', '1', '1', '24', '23', '1', '1', '1', '22']\\n[[], (False, 0.67, 41, 20), [], [], (False, 0.39, 13, 20), (False, 0.48, 31, 33), [], [], [], (False, 0.31, 15, 34)]\\n['1', '22', '1', '1', '23', '22', '1', '1', '1', '23']\\n[[], (False, 0.75, 21, 7), [], [], [], (False, 0.69, 25, 11), [], [], [], (False, 0.38, 54, 89)]\\n['1', '23', '1', '1', '23', '22', '1', '1', '1', '23']\\n\""
            ]
          },
          "execution_count": 48,
          "metadata": {},
          "output_type": "execute_result"
        }
      ],
      "source": [
        "\"\"\"\n",
        "\n",
        "purity_req = 0.8\n",
        "vote_simulation_count = 5000\n",
        "\n",
        "for _ in range(vote_simulation_count):\n",
        "    random_username = np.random.choice(list(users200.keys()))\n",
        "    round_of_vote(random_username, 10, 100)\n",
        "\n",
        "    #if _ % 200 == 0:\n",
        "        #print(_)\n",
        "\n",
        "    if _ % 100 == 0:\n",
        "        cluster_purities = purities()\n",
        "        cluster_purities_tpl = [[(i[0][1], i[1]) for i in cluster_purities.items() if i[0][0] == c1] for c1 in range(len(clusters.keys()))]\n",
        "        print(list(map(lambda y: ((z:=round(y[0] / sum(y), 2)) > purity_req or z < (1-purity_req), z, y[0], y[1]) if len(y) > 1 else y, [list(map(lambda c: c[1], i)) for i in cluster_purities_tpl])))\n",
        "        print([str(int(100 * len(cluster) / total)) for cluster in clusters.values()])\n",
        "\n",
        "\n",
        "[[1], [1], (False, 0.4, 2, 3), (True, 0.82, 9, 2), (False, 0.21, 9, 33), (False, 0.64, 44, 25), (False, 0.58, 15, 11), (False, 0.29, 2, 5), (False, 0.42, 17, 23), (False, 0.2, 1, 4)]\n",
        "['9', '10', '10', '9', '9', '9', '10', '9', '10', '9']\n",
        "[[1], (False, 0.55, 36, 30), [1], [4], (True, 0.1, 3, 27), (False, 0.4, 22, 33), [4], [], (False, 0.75, 3, 1), (False, 0.62, 26, 16)]\n",
        "['8', '12', '9', '9', '10', '9', '9', '9', '10', '11']\n",
        "[[], (False, 0.47, 73, 82), [], [], (False, 0.44, 4, 5), (False, 0.23, 6, 20), [], [], [], [17]]\n",
        "['5', '17', '6', '5', '15', '15', '6', '5', '6', '16']\n",
        "[[], [1], [], [], (True, 0.92, 72, 6), [2], [], [], [], (False, 0.2, 25, 101)]\n",
        "['4', '18', '4', '4', '18', '16', '4', '4', '4', '20']\n",
        "[[], (False, 0.51, 35, 33), [], [], (True, 0.03, 1, 32), (False, 0.27, 12, 32), [], [], [], (True, 0.84, 52, 10)]\n",
        "['3', '19', '4', '3', '19', '18', '4', '3', '4', '20']\n",
        "[[], (False, 0.44, 31, 39), [], [], (False, 0.44, 23, 29), (False, 0.32, 14, 30), [], [], [], (False, 0.78, 32, 9)]\n",
        "['3', '19', '3', '3', '20', '19', '3', '3', '3', '20']\n",
        "[[], [], [], [], (True, 0.14, 2, 12), (False, 0.51, 98, 95), [], [], [], []]\n",
        "['2', '18', '3', '3', '21', '20', '3', '3', '3', '20']\n",
        "[[], (False, 0.72, 53, 21), [], [], (True, 0.1, 3, 26), (False, 0.7, 43, 18), [], [], [], (True, 0.02, 1, 42)]\n",
        "['2', '20', '3', '2', '21', '20', '3', '2', '3', '20']\n",
        "[[], (False, 0.48, 29, 32), [], [], (False, 0.48, 29, 32), (False, 0.38, 18, 29), [], [], [], (False, 0.63, 24, 14)]\n",
        "['2', '21', '2', '2', '21', '20', '2', '2', '2', '20']\n",
        "[[], (False, 0.51, 21, 20), [], [], (False, 0.51, 18, 17), (False, 0.55, 33, 27), [], [], [], (False, 0.39, 28, 43)]\n",
        "['2', '21', '2', '2', '21', '20', '2', '2', '2', '21']\n",
        "[[], [], [], [], (False, 0.48, 100, 107), [], [], [], [], []]\n",
        "['2', '21', '2', '2', '23', '18', '2', '2', '2', '21']\n",
        "[[], (False, 0.54, 22, 19), [], [], [1], [50], [], [], [], (False, 0.23, 27, 88)]\n",
        "['2', '22', '2', '2', '21', '19', '2', '2', '2', '22']\n",
        "[[], [], [], [], (False, 0.42, 39, 54), (False, 0.4, 34, 51), [], [], [], (True, 0.93, 27, 2)]\n",
        "['1', '21', '2', '1', '23', '21', '2', '2', '2', '20']\n",
        "[[], [5], [], [], (False, 0.22, 22, 77), (True, 0.89, 67, 8), [], [], [], (False, 0.21, 6, 22)]\n",
        "['1', '21', '2', '1', '23', '20', '2', '2', '2', '21']\n",
        "[[], [6], [], [], (False, 0.63, 70, 41), (True, 0.13, 9, 60), [], [], [], [21]]\n",
        "['1', '22', '2', '1', '22', '22', '2', '1', '2', '20']\n",
        "[[], (False, 0.47, 88, 99), [], [], (False, 0.5, 1, 1), (False, 0.61, 11, 7), [], [], [], []]\n",
        "['1', '23', '2', '1', '20', '23', '2', '1', '2', '20']\n",
        "[[], [], [], [], (False, 0.51, 99, 94), [], [], [], [], (True, 0.07, 1, 13)]\n",
        "['1', '21', '1', '1', '23', '21', '2', '1', '2', '22']\n",
        "[[], (True, 0.1, 4, 36), [], [], (False, 0.49, 26, 27), (True, 0.12, 5, 36), [], [], [], (True, 0.89, 65, 8)]\n",
        "['1', '22', '1', '1', '22', '22', '2', '1', '2', '21']\n",
        "[[], (False, 0.67, 2, 1), [], [], [], (False, 0.48, 98, 106), [], [], [], []]\n",
        "['1', '22', '1', '1', '21', '23', '1', '1', '2', '21']\n",
        "[[], (True, 0.88, 73, 10), [], [], (True, 0.15, 9, 53), (False, 0.33, 1, 2), [], [], [], (False, 0.29, 17, 42)]\n",
        "['1', '22', '1', '1', '23', '21', '1', '1', '1', '22']\n",
        "[[], (True, 0.17, 6, 29), [], [], (True, 0.91, 52, 5), (True, 0.92, 23, 2), [], [], [], (False, 0.21, 19, 71)]\n",
        "['1', '22', '1', '1', '23', '21', '1', '1', '1', '22']\n",
        "[[], (False, 0.73, 40, 15), [], [], (True, 0.12, 3, 21), (False, 0.45, 57, 71), [], [], [], []]\n",
        "['1', '22', '1', '1', '22', '22', '1', '1', '1', '21']\n",
        "[[], (False, 0.5, 1, 1), [], [], (False, 0.24, 12, 39), [1], [], [], [], (False, 0.57, 87, 66)]\n",
        "['1', '22', '1', '1', '23', '21', '1', '1', '1', '22']\n",
        "[[], (False, 0.22, 11, 38), [], [], (False, 0.65, 41, 22), (False, 0.24, 9, 29), [], [], [], (False, 0.68, 39, 18)]\n",
        "['1', '22', '1', '1', '23', '22', '1', '1', '1', '21']\n",
        "[[], [], [], [], (False, 0.49, 99, 104), [1], [], [], [], [3]]\n",
        "['1', '21', '1', '1', '23', '22', '1', '1', '1', '22']\n",
        "[[], (False, 0.33, 1, 2), [], [], [], [], [], [], [], (False, 0.49, 99, 105)]\n",
        "['1', '22', '1', '1', '21', '22', '1', '1', '1', '23']\n",
        "[[], (False, 0.77, 51, 15), [], [], (True, 0.12, 4, 29), (False, 0.51, 40, 39), [], [], [], (True, 0.17, 5, 24)]\n",
        "['1', '22', '1', '1', '22', '22', '1', '1', '1', '23']\n",
        "[[], (False, 0.25, 1, 3), [], [], [27], (False, 0.41, 71, 104), [], [], [], [1]]\n",
        "['1', '22', '1', '1', '23', '22', '1', '1', '1', '21']\n",
        "[[], (False, 0.58, 41, 30), [], [], [1], (False, 0.43, 58, 76), [], [], [], [1]]\n",
        "['1', '22', '1', '1', '22', '23', '1', '1', '1', '22']\n",
        "[[], [4], [], [], (False, 0.78, 18, 5), (False, 0.44, 77, 100), [], [], [], (False, 0.33, 1, 2)]\n",
        "['1', '21', '1', '1', '23', '24', '1', '1', '1', '21']\n",
        "[[], (True, 0.05, 1, 18), [], [], (False, 0.42, 17, 23), (False, 0.66, 80, 42), [], [], [], (True, 0.08, 2, 24)]\n",
        "['1', '22', '1', '1', '23', '23', '1', '1', '1', '21']\n",
        "[[], (True, 0.9, 28, 3), [], [], (False, 0.4, 2, 3), [], [], [], [], (False, 0.41, 70, 101)]\n",
        "['1', '22', '1', '1', '23', '22', '1', '1', '1', '23']\n",
        "[[], (False, 0.47, 27, 31), [], [], (False, 0.64, 39, 22), (True, 0.04, 1, 24), [], [], [], (False, 0.52, 33, 30)]\n",
        "['1', '21', '1', '1', '23', '22', '1', '1', '1', '23']\n",
        "[[], (False, 0.56, 36, 28), [], [], (False, 0.46, 17, 20), (False, 0.56, 31, 24), [], [], [], (False, 0.31, 16, 35)]\n",
        "['1', '22', '1', '1', '23', '23', '1', '1', '1', '22']\n",
        "[[], (False, 0.24, 31, 96), [], [], [], [], [], [], [], (True, 0.86, 69, 11)]\n",
        "['1', '23', '1', '1', '23', '21', '1', '1', '1', '22']\n",
        "[[], (False, 0.49, 100, 106), [], [], [], [1], [], [], [], []]\n",
        "['1', '23', '1', '1', '23', '22', '1', '1', '1', '22']\n",
        "[[], (False, 0.47, 91, 102), [], [], [], (False, 0.64, 9, 5), [], [], [], []]\n",
        "['1', '24', '1', '1', '22', '23', '1', '1', '1', '20']\n",
        "[[], (False, 0.37, 22, 37), [], [], (False, 0.7, 30, 13), (False, 0.33, 13, 26), [], [], [], (False, 0.53, 35, 31)]\n",
        "['1', '22', '1', '1', '24', '22', '1', '1', '1', '22']\n",
        "[[], [], [], [], (False, 0.48, 98, 107), [2], [], [], [], []]\n",
        "['1', '21', '1', '1', '24', '22', '1', '1', '1', '23']\n",
        "[[], (True, 0.12, 6, 46), [], [], (False, 0.56, 50, 40), [1], [], [], [], (False, 0.69, 44, 20)]\n",
        "['1', '23', '1', '1', '23', '21', '1', '1', '1', '22']\n",
        "[[], (False, 0.49, 99, 105), [], [], [2], [1], [], [], [], []]\n",
        "['1', '24', '1', '1', '23', '22', '1', '1', '1', '21']\n",
        "[[], [], [], [], (False, 0.49, 99, 103), [], [], [], [], (False, 0.2, 1, 4)]\n",
        "['1', '21', '1', '1', '24', '23', '1', '1', '1', '22']\n",
        "[[], [], [], [], (False, 0.24, 12, 38), (False, 0.57, 87, 66), [], [], [], (False, 0.25, 1, 3)]\n",
        "['1', '21', '1', '1', '24', '24', '1', '1', '1', '22']\n",
        "[[], (True, 0.88, 78, 11), [], [], (True, 0.02, 1, 57), (True, 0.88, 7, 1), [], [], [], (False, 0.27, 14, 38)]\n",
        "['1', '22', '1', '1', '24', '22', '1', '1', '1', '22']\n",
        "[[], [1], [], [], [], [], [], [], [], (False, 0.49, 100, 106)]\n",
        "['1', '22', '1', '1', '23', '23', '1', '1', '1', '23']\n",
        "[[], [], [], [], (False, 0.5, 1, 1), (False, 0.48, 99, 106), [], [], [], []]\n",
        "['1', '21', '1', '1', '23', '24', '1', '1', '1', '22']\n",
        "[[], (False, 0.74, 28, 10), [], [], (False, 0.41, 41, 58), (False, 0.67, 2, 1), [], [], [], (False, 0.43, 29, 38)]\n",
        "['1', '22', '1', '1', '24', '22', '1', '1', '1', '22']\n",
        "[[], (False, 0.26, 12, 34), [], [], (False, 0.53, 28, 25), (False, 0.8, 56, 14), [], [], [], (True, 0.11, 4, 34)]\n",
        "['1', '22', '1', '1', '24', '23', '1', '1', '1', '22']\n",
        "[[], (False, 0.67, 41, 20), [], [], (False, 0.39, 13, 20), (False, 0.48, 31, 33), [], [], [], (False, 0.31, 15, 34)]\n",
        "['1', '22', '1', '1', '23', '22', '1', '1', '1', '23']\n",
        "[[], (False, 0.75, 21, 7), [], [], [], (False, 0.69, 25, 11), [], [], [], (False, 0.38, 54, 89)]\n",
        "['1', '23', '1', '1', '23', '22', '1', '1', '1', '23']\n",
        "\"\"\""
      ]
    },
    {
      "cell_type": "code",
      "execution_count": null,
      "metadata": {
        "colab": {
          "base_uri": "https://localhost:8080/",
          "height": 89
        },
        "id": "9njFvXx95EDA",
        "outputId": "1e914867-6e59-4d72-f606-e985c692f060"
      },
      "outputs": [
        {
          "data": {
            "application/vnd.google.colaboratory.intrinsic+json": {
              "type": "string"
            },
            "text/plain": [
              "'\\npurity_req = 0.85\\nvote_simulation_count = 20000\\n\\nfor _ in range(vote_simulation_count):\\n    random_username = np.random.choice(list(users200.keys()))\\n    round_of_vote(random_username, 0, 100)\\n    \\n    if _ % 200 == 0:\\n        print(_)\\n\\n    if _ % 1000 == 0:\\n        cluster_purities = purities()\\n        cluster_purities_tpl = [[(i[0][1], i[1]) for i in cluster_purities.items() if i[0][0] == c1] for c1 in range(len(clusters.keys()))]\\n        print(list(map(lambda y: ((z:=round(y[0] / sum(y), 2)) > purity_req or z < (1-purity_req), z, y[0], y[1]) if len(y) > 1 else y, [list(map(lambda c: c[1], i)) for i in cluster_purities_tpl])))\\n        print([str(int(100 * len(cluster) / total)) for cluster in clusters.values()])\\n'"
            ]
          },
          "execution_count": 49,
          "metadata": {},
          "output_type": "execute_result"
        }
      ],
      "source": [
        "\"\"\"\n",
        "purity_req = 0.85\n",
        "vote_simulation_count = 20000\n",
        "\n",
        "for _ in range(vote_simulation_count):\n",
        "    random_username = np.random.choice(list(users200.keys()))\n",
        "    round_of_vote(random_username, 0, 100)\n",
        "\n",
        "    if _ % 200 == 0:\n",
        "        print(_)\n",
        "\n",
        "    if _ % 1000 == 0:\n",
        "        cluster_purities = purities()\n",
        "        cluster_purities_tpl = [[(i[0][1], i[1]) for i in cluster_purities.items() if i[0][0] == c1] for c1 in range(len(clusters.keys()))]\n",
        "        print(list(map(lambda y: ((z:=round(y[0] / sum(y), 2)) > purity_req or z < (1-purity_req), z, y[0], y[1]) if len(y) > 1 else y, [list(map(lambda c: c[1], i)) for i in cluster_purities_tpl])))\n",
        "        print([str(int(100 * len(cluster) / total)) for cluster in clusters.values()])\n",
        "\"\"\""
      ]
    },
    {
      "cell_type": "code",
      "execution_count": null,
      "metadata": {
        "colab": {
          "base_uri": "https://localhost:8080/",
          "height": 35
        },
        "id": "qnEYvIecrp1H",
        "outputId": "aab7fbcb-6607-41ab-b578-707d1b0da0b6"
      },
      "outputs": [
        {
          "data": {
            "application/vnd.google.colaboratory.intrinsic+json": {
              "type": "string"
            },
            "text/plain": [
              "'[str(int(100 * len(cluster) / total)) for cluster in clusters.values()]'"
            ]
          },
          "execution_count": 50,
          "metadata": {},
          "output_type": "execute_result"
        }
      ],
      "source": [
        "\"[str(int(100 * len(cluster) / total)) for cluster in clusters.values()]\""
      ]
    },
    {
      "cell_type": "code",
      "execution_count": null,
      "metadata": {
        "id": "8UoRvvUadTap"
      },
      "outputs": [],
      "source": [
        "#with open(\"clusters.txt\", \"w\") as c:\n",
        "    #c.write(json.dumps(clusters))"
      ]
    },
    {
      "cell_type": "code",
      "execution_count": null,
      "metadata": {
        "id": "edZGCr40EHqh"
      },
      "outputs": [],
      "source": [
        "#for key, value in clusters2.items():\n",
        "    #print(key, value)"
      ]
    },
    {
      "cell_type": "code",
      "execution_count": null,
      "metadata": {
        "id": "Eow0uWwEEXyS"
      },
      "outputs": [],
      "source": [
        "# import copy\n",
        "# clusters2 = copy.deepcopy(clusters)"
      ]
    },
    {
      "cell_type": "code",
      "execution_count": null,
      "metadata": {
        "id": "89zA2eecAIcM"
      },
      "outputs": [],
      "source": [
        "# [len(users200[user]) for user in users200.keys()]"
      ]
    },
    {
      "cell_type": "markdown",
      "metadata": {
        "id": "l9fMkZ884x3T"
      },
      "source": [
        "#### K-means alternative (fail)"
      ]
    },
    {
      "cell_type": "code",
      "execution_count": null,
      "metadata": {
        "id": "2f3e-0CC9vuM"
      },
      "outputs": [],
      "source": [
        "import json\n",
        "import numpy as np\n",
        "from tokenization import FullTokenizer"
      ]
    },
    {
      "cell_type": "code",
      "execution_count": null,
      "metadata": {
        "id": "baMGr5ohYxs8"
      },
      "outputs": [],
      "source": [
        "# Za funkciju treba dobiti 2d array.\n",
        "# Prva dimenzija su svih 200 usera.\n",
        "# Druga dimenzija je array relativnih frekvencija UNK tokena (postotak pojavljivanja i-tog UNK tokena nasprem svih UNK tokena (od svih 200 usera))\n",
        "#    [0.3%, 0%, 0.6%, 0.02%, ...] gdje je svaki element count(UNKs[i]) / sum(UNKs))\n",
        "\n"
      ]
    },
    {
      "cell_type": "markdown",
      "metadata": {
        "id": "1YYSu8_V1klT"
      },
      "source": [
        "##### Random user's all comments"
      ]
    },
    {
      "cell_type": "code",
      "execution_count": null,
      "metadata": {
        "id": "fOd4S_fB0Dvf"
      },
      "outputs": [],
      "source": [
        "from collections import defaultdict"
      ]
    },
    {
      "cell_type": "code",
      "execution_count": null,
      "metadata": {
        "id": "ulbYhXGx0Dvh"
      },
      "outputs": [],
      "source": [
        "with open(\"nba.txt\") as n, open(\"politics.txt\") as p:\n",
        "    nba_comments = defaultdict(list)\n",
        "    politics_comments = defaultdict(list)\n",
        "\n",
        "    for row in n:\n",
        "        nba_comments[json.loads(row)['author']].append(json.loads(row)['comment'])\n",
        "\n",
        "    for row in p:\n",
        "        politics_comments[json.loads(row)['author']].append(json.loads(row)['comment'])"
      ]
    },
    {
      "cell_type": "code",
      "execution_count": null,
      "metadata": {
        "id": "Nw8erwzhYzma"
      },
      "outputs": [],
      "source": [
        "with open('politics_unk_tokens.txt', 'r') as p, open('nba_unk_tokens.txt', 'r') as n:\n",
        "  politics_unk_tokens = p.read().split()\n",
        "  nba_unk_tokens = n.read().split()"
      ]
    },
    {
      "cell_type": "code",
      "execution_count": null,
      "metadata": {
        "id": "A3D0pbOW0Dvi"
      },
      "outputs": [],
      "source": [
        "all_comments = nba_comments.copy()\n",
        "all_comments.update(politics_comments)"
      ]
    },
    {
      "cell_type": "code",
      "source": [
        "print(all_comments.keys())\n",
        "print(politics_comments.keys())"
      ],
      "metadata": {
        "id": "zq-8SloPkMRU",
        "colab": {
          "base_uri": "https://localhost:8080/"
        },
        "outputId": "ff4a11cf-f19b-4867-8ab7-d89043006da3"
      },
      "execution_count": null,
      "outputs": [
        {
          "output_type": "stream",
          "name": "stdout",
          "text": [
            "dict_keys(['BizGilwalker', 'Laaakerrrsss', 'f5_szn', 'HokageEzio', 'allstar96', 'themariokarters', 'DeathBySuplex', 'wackysama', 'vrythngsgngtblrght', 'OrangeKookie', 'ZandrickEllison', 'clevelandfansblow', 'klawhileonard', 'Falt_ssb', 'ShaolinCheesecake', 'Jahsay', 'snacktastic2', 'bball84958294', 'WheresMySaucePlease', 'Whydidideletemyaccou', 'Hyperactivity786', 'sop1232', 'LuckysBestMan', 'DonEYeet', 'JewRepublican69', 'tapk69', 'jcw4455', 'Roger--Smith', 'lakerswiz', 'ward0630', 'BenjaminJamesGrimm', 'victor396', 'sunglao', 'The_Natural_Log', 'LanaRhoades-', 'BIizard', 'nakedsamurai', 'friskydongo', 'WordsAreSomething', 'TOP_5_DOA', 'Sayter', 'TuneHD', 'Mysteriagant', 'NE_ED', 'gotdemmadsquirtsyo', 'MacDerfus', 'PENIS__FINGERS', 'PormanNowell', 'IncaseAce', 'Bladex10', 'ireddit270', 'toftr', 'IndigoRivers', 'BuzzedWoody', 'TheOriginalElTigre', 'magikarptoothbrush', 'jack12345618', 'ashwinr136', 'oakled', 'jbranton30', 'ChrowanWestbrook', 'chad12341296', 'Anti_Thon', 'Byrie_Swirving', 'augustineiver', 'jaylen_browns_beard', 'gookieboy', 'Duche07', 'DeerOnTheRocks', 'WildYams', 'jhall0310', 'mrsuns10', 'DeanBlandino', 'keefstrong', 'DeArmani_DeBooker', 'Dctr_K', 'WiltAbdulOlajuwon', 'TheHeartfeltKid', 'IdEgoLeBron', 'livefreeordont', 'SwarleymonLives', 'RedSoxEatPoop', 'ITsLoverBoy', 'skepticdoubt', 'BigPoppaPuff', 'TheLastSecondShot', 'Iwasbornathalfcourt', 'anser1233', 'DummedDownInThot', 'ReplyGod', 'burnerfret', 'brisketis', 'Saprano44', 'definitelywrongbud', 'LanceWillMakeEmDance', 'alarmed__fan', 'oftenevil', 'back2god', 'supremehat13', 'sourcreamonionchipz', 'muffler48', 'AisleOfRussia', 'TrumpSucksMyBalls', 'spolio', 'Lamont-Cranston', 'kevie3drinks', '9001_Dalmatians', 'BenedictD0nald', 'TheDemonrat', 'DBDude', 'ryanbuck_', 'NatashaStyles', 'StatisticalAstronaut', 'AlternativeSuccotash', 'TAINT-TEAM_dorito', 'Whose_asking', 'michaelcharlie8', 'Acidporisu', 'Enjolras55', 'CarmineFields', 'ScholarOfTwilight', 'goforthandconquer', 'TowelCarryingTourist', 'DJTHatesPuertoRicans', 'geodynamics', 'Smallmammal', 'BringOn25A', 'Jump_Yossarian', 'nyonpa108', 'blue_crab86', 'mr_fn_wonderful', 'objectivedesigning', '__NamasteMF__', 'hup-hup-hup', 'OneReportersOpinion', 'whitenoise2323', 'derGropenfuhrer', 'Memetic1', 'Nomandate', 'out_of_ideas123', 'autotldr', 'Spacedman-Spliff', 'IUseThisForThings8', 'lofi76', 'masstrip', 'captaincanada84', 'SprayTanCaligula', 'dismayedcitizen', 'Geralt_of_Rivia1', 'thelizardkin', 'JijiLV29', 'DesperateDem', 'Gingold', '38SSM', 'JeremyMo88', 'TrumpUberAlles', 'BigBoyWithTheButter', 'accountabilitycounts', 'Lochmon', 'slapnflop', 'ConanTheProletarian', 'MBAMBA0', 'A_Dogfish', 'txyesboy', 'makoivis', 'El_Hamaultagu', 'charmed_im-sure', '2018Blunami', 'Jeffersons_Mammoth', 'Ruebarbara', 'drvondoctor', 'SwingJay1', 'CoreWrect', 'gpl2017', 'Kimball_Kinnison', 'Hoxha-Posadist', 'Pint_and_Grub', 'PhillyIndy', 'zzzigzzzagzzziggy', 'SlimLovin', 'tiredofwinning12345', 'VROF', 'AHarshInquisitor', 'slakmehl', 'ubix', 'imnotanevilwitch', 'Nostromo1905', 'FDRs_ghost', 'CovfefeForAll', 'Thymdahl', 'PoliticalPleionosis', 'JollyMurderousGhoul', 'WatchingDonFail', 'EnlightenedMind_420', 'FUCK_BALLS_SHIT_ASS', 'AndIAmEric', 'Biptoslipdi', 'jimmydean885', 'wyvernwy', 'Corvus_Clanculum', 'F3715H', 'RussianTrollPatrol', 'TrumpIsATraitor420', 'ISuspectFuckery', 'granola_robot', 'footsurgery', 'PunkAssMutha'])\n",
            "dict_keys(['muffler48', 'AisleOfRussia', 'TrumpSucksMyBalls', 'spolio', 'Lamont-Cranston', 'kevie3drinks', '9001_Dalmatians', 'BenedictD0nald', 'TheDemonrat', 'DBDude', 'ryanbuck_', 'NatashaStyles', 'StatisticalAstronaut', 'AlternativeSuccotash', 'TAINT-TEAM_dorito', 'Whose_asking', 'michaelcharlie8', 'Acidporisu', 'Enjolras55', 'CarmineFields', 'ScholarOfTwilight', 'goforthandconquer', 'TowelCarryingTourist', 'DJTHatesPuertoRicans', 'geodynamics', 'Smallmammal', 'BringOn25A', 'Jump_Yossarian', 'nyonpa108', 'blue_crab86', 'mr_fn_wonderful', 'objectivedesigning', '__NamasteMF__', 'hup-hup-hup', 'OneReportersOpinion', 'whitenoise2323', 'derGropenfuhrer', 'Memetic1', 'Nomandate', 'out_of_ideas123', 'autotldr', 'Spacedman-Spliff', 'IUseThisForThings8', 'lofi76', 'masstrip', 'captaincanada84', 'SprayTanCaligula', 'dismayedcitizen', 'Geralt_of_Rivia1', 'thelizardkin', 'JijiLV29', 'DesperateDem', 'Gingold', '38SSM', 'JeremyMo88', 'TrumpUberAlles', 'BigBoyWithTheButter', 'accountabilitycounts', 'Lochmon', 'slapnflop', 'ConanTheProletarian', 'MBAMBA0', 'A_Dogfish', 'txyesboy', 'makoivis', 'El_Hamaultagu', 'charmed_im-sure', '2018Blunami', 'Jeffersons_Mammoth', 'Ruebarbara', 'drvondoctor', 'SwingJay1', 'CoreWrect', 'gpl2017', 'Kimball_Kinnison', 'Hoxha-Posadist', 'Pint_and_Grub', 'PhillyIndy', 'zzzigzzzagzzziggy', 'SlimLovin', 'tiredofwinning12345', 'VROF', 'AHarshInquisitor', 'slakmehl', 'ubix', 'imnotanevilwitch', 'Nostromo1905', 'FDRs_ghost', 'CovfefeForAll', 'Thymdahl', 'PoliticalPleionosis', 'JollyMurderousGhoul', 'WatchingDonFail', 'EnlightenedMind_420', 'FUCK_BALLS_SHIT_ASS', 'AndIAmEric', 'Biptoslipdi', 'jimmydean885', 'wyvernwy', 'Corvus_Clanculum', 'F3715H', 'RussianTrollPatrol', 'TrumpIsATraitor420', 'ISuspectFuckery', 'granola_robot', 'footsurgery', 'PunkAssMutha'])\n"
          ]
        }
      ]
    },
    {
      "cell_type": "code",
      "execution_count": null,
      "metadata": {
        "id": "W5MEze1F0IJX"
      },
      "outputs": [],
      "source": [
        "user_comments = nba_comments['Anti_Thon']\n",
        "user_comments_str = \". \".join(user_comments)\n",
        "small_tokenizer = FullTokenizer(\"small_vocab.txt\", True)"
      ]
    },
    {
      "cell_type": "code",
      "execution_count": null,
      "metadata": {
        "id": "JCgLwdy-PHLb",
        "colab": {
          "base_uri": "https://localhost:8080/"
        },
        "outputId": "a1eefcc2-b80c-469c-ca60-1cef3cd7939e"
      },
      "outputs": [
        {
          "output_type": "execute_result",
          "data": {
            "text/plain": [
              "[['[UNK]', ',', 'is', 'this', 'really', 'w'],\n",
              " ['##e', 'than', 'the', '[UNK]', 'that', '[UNK]'],\n",
              " ['[UNK]', 'that', '[UNK]', '[UNK]', 'w', '##r'],\n",
              " ['[UNK]', 'w', '##r', '##o', '##t', '##e'],\n",
              " ['##o', '##t', '##e', '?', '[UNK]', ','],\n",
              " ['?', '[UNK]', ',', 'i', 'was', 'to'],\n",
              " ['i', 'was', 'to', '##l', '##d', '[UNK]'],\n",
              " ['##l', '##d', '[UNK]', 'was', 'a', 'la'],\n",
              " ['##k', '##er', 'in', '[UNK]', '.', '[UNK]'],\n",
              " ['[UNK]', '.', '[UNK]', 'l', '##m', '##f'],\n",
              " ['with', 'a', 'top', '3', '[UNK]', '[UNK]'],\n",
              " ['3', '[UNK]', '[UNK]', 'and', 'the', 'd'],\n",
              " ['a', '6', '##0', 'win', '[UNK]', 'when'],\n",
              " ['win', '[UNK]', 'when', 'he', 'played', 'he'],\n",
              " ['.', '.', '.', '[UNK]', 'didn', '’'],\n",
              " ['[UNK]', 'didn', '’', 't', 're', '-'],\n",
              " ['##c', '##e', ',', '[UNK]', 'and', 'west'],\n",
              " ['[UNK]', 'and', 'west', 'left', '.', 'from'],\n",
              " ['left', '.', 'from', 'that', '[UNK]', 'team'],\n",
              " ['that', '[UNK]', 'team', ',', 'it', 'was'],\n",
              " ['just', 'him', 'and', '[UNK]', '.', 'did'],\n",
              " ['[UNK]', '.', 'did', 'anyone', 'even', 'watch'],\n",
              " ['part', '1', 'of', 'his', '[UNK]', '?'],\n",
              " ['his', '[UNK]', '?', 'they', 'made', 'it'],\n",
              " ['there', '.', 'he', '[UNK]', 'like', 'they'],\n",
              " ['[UNK]', 'like', 'they', 'didn', '’', 't'],\n",
              " ['.', 'they', 'could', '[UNK]', 're', '##g'],\n",
              " ['[UNK]', 're', '##g', '##r', '##e', '##t'],\n",
              " ['if', '(', 'go', '##d', '[UNK]', ')'],\n",
              " ['##d', '[UNK]', ')', '[UNK]', 'gets', '[UNK]'],\n",
              " ['[UNK]', 'gets', '[UNK]', 'again', 'we', 'have'],\n",
              " ['again', 'we', 'have', 'no', '[UNK]', 'but'],\n",
              " ['no', '[UNK]', 'but', 'i', 'think', '[UNK]'],\n",
              " ['i', 'think', '[UNK]', ',', 'his', 'best'],\n",
              " ['2', '+', '1', '[UNK]', 'being', '[UNK]'],\n",
              " ['[UNK]', 'being', '[UNK]', 'for', 'this', '.'],\n",
              " ['.', '.', 'actually', '[UNK]', ',', 'the'],\n",
              " ['[UNK]', ',', 'the', 'lakers', 'fa', '##n'],\n",
              " ['should', 'see', 'the', 'hate', '[UNK]', 'i'],\n",
              " ['hate', '[UNK]', 'i', 'get', 'in', 'my'],\n",
              " ['##x', 'from', 'them', '[UNK]', 'fuck', '.'],\n",
              " ['[UNK]', 'fuck', '.', 'this', 'is', '[UNK]'],\n",
              " ['this', 'is', '[UNK]', 'for', 'us', '.'],\n",
              " ['t', '##a', '##x', '[UNK]', 'is', '[UNK]'],\n",
              " ['[UNK]', 'is', '[UNK]', 'but', '[UNK]', 'probably'],\n",
              " ['but', '[UNK]', 'probably', 'would', 'have', 'got'],\n",
              " ['it', '’', 's', 'a', '[UNK]', 'con'],\n",
              " ['a', '[UNK]', 'con', '##t', '##r', '##a'],\n",
              " ['im', '##o', 'and', 'we', 'have', '[UNK]'],\n",
              " ['we', 'have', '[UNK]', 'run', '##n', '##ing'],\n",
              " ['run', '##n', '##ing', '[UNK]', '[UNK]', '.'],\n",
              " ['[UNK]', '[UNK]', '.', '.', '[UNK]', 'fans'],\n",
              " ['.', '[UNK]', 'fans', 'love', '[UNK]', 'i'],\n",
              " ['love', '[UNK]', 'i', 'agree', 'but', 'it'],\n",
              " ['’', 's', 'such', 'a', '[UNK]', 'con'],\n",
              " ['a', '[UNK]', 'con', '##t', '##r', '##a'],\n",
              " ['##c', '##t', '.', '.', '.', '[UNK]'],\n",
              " ['.', '.', '[UNK]', 'm', '##d', '##a'],\n",
              " ['does', 'a', 'good', '[UNK]', 'of', 't'],\n",
              " ['[UNK]', 'of', 't', '##a', '##k', '##ing'],\n",
              " ['##a', '##k', '##ing', 'care', 'of', '[UNK]'],\n",
              " ['care', 'of', '[UNK]', 'w', '##t', '##f'],\n",
              " ['deal', '?', 'this', '[UNK]', 'love', '##s'],\n",
              " ['[UNK]', 'love', '##s', 'his', '[UNK]', '[UNK]'],\n",
              " ['his', '[UNK]', '[UNK]', ':', 'fuck', 'it'],\n",
              " ['it', 'they', 'run', 'the', '[UNK]', 'so'],\n",
              " ['the', '[UNK]', 'so', 'well', 't', '##h'],\n",
              " ['’', 't', 'want', '[UNK]', 'di', '##p'],\n",
              " ['[UNK]', 'di', '##p', '##o', 'gonna', 'be'],\n",
              " ['##o', 'gonna', 'be', 'an', '[UNK]', '[UNK]'],\n",
              " ['an', '[UNK]', '[UNK]', 'in', 'the', '[UNK]'],\n",
              " ['in', 'the', '[UNK]', 'when', 'you', 'feel'],\n",
              " ['m', '##a', '##d', 'about', '[UNK]', 'what'],\n",
              " ['about', '[UNK]', 'what', '’', 's', 'w'],\n",
              " ['##e', '?', 'the', '[UNK]', 'that', '[UNK]'],\n",
              " ['[UNK]', 'that', '[UNK]', '[UNK]', 'w', '##r'],\n",
              " ['[UNK]', 'w', '##r', '##o', '##t', '##e'],\n",
              " ['that', 'the', 'win', '##k', '[UNK]', 'him'],\n",
              " ['##k', '[UNK]', 'him', '5', '##0', '##0'],\n",
              " ['you', 'guys', 'and', 'your', '[UNK]', '[UNK]'],\n",
              " ['your', '[UNK]', '[UNK]', 'lo', '##l', '.'],\n",
              " ['i', 'remember', 'him', 'getting', 'into', '[UNK]'],\n",
              " ['getting', 'into', '[UNK]', '[UNK]', 'in', 'game'],\n",
              " ['[UNK]', 'in', 'game', '1', 'and', 'k'],\n",
              " ['1', 'and', 'k', '##d', '[UNK]', '.'],\n",
              " ['##d', '[UNK]', '.', 'very', 'likely', 'now'],\n",
              " ['##k', '##ed', 'up', '[UNK]', '.', 'it'],\n",
              " ['[UNK]', '.', 'it', '’', 's', 'the'],\n",
              " ['’', 's', 'the', 'right', '[UNK]', 'to'],\n",
              " ['right', '[UNK]', 'to', 'make', '.', '[UNK]'],\n",
              " ['make', '.', '[UNK]', ',', 'i', '[UNK]'],\n",
              " [',', 'i', '[UNK]', '[UNK]', 'does', 'mel'],\n",
              " ['[UNK]', 'does', 'mel', '##o', 'some', '[UNK]'],\n",
              " ['##o', 'some', '[UNK]', '[UNK]', 'and', 'as'],\n",
              " ['[UNK]', 'and', 'as', '##k', '##s', 'him'],\n",
              " ['s', 'will', '##ing', 'to', '[UNK]', 'his'],\n",
              " ['to', '[UNK]', 'his', '[UNK]', 'for', '[UNK]'],\n",
              " ['[UNK]', 'for', '[UNK]', '[UNK]', '.', 'lakers'],\n",
              " ['[UNK]', '.', 'lakers', 'also', '[UNK]', 'a'],\n",
              " ['also', '[UNK]', 'a', 'lot', '##t', '##er'],\n",
              " ['they', 'might', 'get', '[UNK]', 'also', 'mel'],\n",
              " ['[UNK]', 'also', 'mel', '##o', '[UNK]', 'in'],\n",
              " ['##o', '[UNK]', 'in', 'an', 'off', '##s'],\n",
              " ['we', 'sign', '##ed', '[UNK]', 'to', 'a'],\n",
              " ['[UNK]', 'to', 'a', '3', 'year', 'deal'],\n",
              " ['.', 'we', 'have', 'all', 'the', '[UNK]'],\n",
              " ['all', 'the', '[UNK]', 'in', 'this', '[UNK]'],\n",
              " ['in', 'this', '[UNK]', 'lo', '##l', '.'],\n",
              " ['##e', '##n', '##g', 'or', '[UNK]', 'l'],\n",
              " ['or', '[UNK]', 'l', '##m', '##f', '##a'],\n",
              " ['’', 're', 'gonna', '[UNK]', 'them', 'i'],\n",
              " ['[UNK]', 'them', 'i', '[UNK]', 'it', 'was'],\n",
              " ['[UNK]', 'it', 'was', 'at', 'this', 'point'],\n",
              " ['but', 'i', 'am', 'also', '[UNK]', 'he'],\n",
              " ['also', '[UNK]', 'he', '’', 's', 'about'],\n",
              " ['.', 'i', 'mean', 'just', 'go', '[UNK]'],\n",
              " ['just', 'go', '[UNK]', 'their', 'sub', 'l'],\n",
              " ['’', 's', 'just', '[UNK]', 't', '##h'],\n",
              " ['[UNK]', 't', '##h', '##o', 'lo', '##l'],\n",
              " ['##n', '.', '.', '.', '[UNK]', 'lo'],\n",
              " ['.', '[UNK]', 'lo', '##y', '##a', '##l'],\n",
              " ['yeah', '.', '.', 'it', 'was', '[UNK]'],\n",
              " ['it', 'was', '[UNK]', 'and', 'not', 'the'],\n",
              " ['##o', '##m', 'of', '[UNK]', '(', 'r'],\n",
              " ['[UNK]', '(', 'r', '##o', '##d', '##n'],\n",
              " ['##o', '##d', '##n', '##e', '##y', '[UNK]'],\n",
              " ['##e', '##y', '[UNK]', ')', 'that', 'he'],\n",
              " ['”', 'might', 'be', '[UNK]', 'but', 'i'],\n",
              " ['[UNK]', 'but', 'i', '’', 'd', 'r'],\n",
              " ['##e', '##a', '##d', '[UNK]', 'in', '[UNK]'],\n",
              " ['[UNK]', 'in', '[UNK]', '/', 'd', '##e'],\n",
              " ['s', 'ok', ',', 'you', 'guys', '[UNK]'],\n",
              " ['you', 'guys', '[UNK]', 'it', 'r', '/'],\n",
              " ['nba', '’', 's', '[UNK]', 'for', 'that'],\n",
              " ['[UNK]', 'for', 'that', 'trade', ':', '-'],\n",
              " ['trade', ':', '-', '[UNK]', '/', '[UNK]'],\n",
              " ['[UNK]', '/', '[UNK]', '[UNK]', ':', '[UNK]'],\n",
              " ['[UNK]', ':', '[UNK]', 'got', '[UNK]', '-'],\n",
              " ['got', '[UNK]', '-', '[UNK]', '2018', ':'],\n",
              " ['[UNK]', '2018', ':', 'w', '##o', '##w'],\n",
              " ['w', '##o', '##w', ',', '[UNK]', 'won'],\n",
              " [',', '[UNK]', 'won', 'the', 'trade', 'and'],\n",
              " ['the', 'trade', 'and', '[UNK]', 'is', 'a'],\n",
              " ['[UNK]', 'is', 'a', 'la', '##k', '##er'],\n",
              " ['la', '##k', '##er', '-', '[UNK]', '2018'],\n",
              " ['-', '[UNK]', '2018', ':', 'trade', 'is'],\n",
              " ['a', 'la', '##k', '##er', 'in', '[UNK]'],\n",
              " ['##er', 'in', '[UNK]', '?', 's', '##t'],\n",
              " ['i', 'believe', 'that', '[UNK]', 'will', 'do'],\n",
              " ['[UNK]', 'will', 'do', 'mel', '##o', 'a'],\n",
              " ['mel', '##o', 'a', '[UNK]', 'and', 'as'],\n",
              " ['[UNK]', 'and', 'as', '##k', 'him', 'if'],\n",
              " ['go', 'to', 'a', '[UNK]', 'team', 'and'],\n",
              " ['[UNK]', 'team', 'and', 'as', '##k', 'him'],\n",
              " ['s', 'will', '##ing', 'to', '[UNK]', 'his'],\n",
              " ['to', '[UNK]', 'his', '[UNK]', '.', 'he'],\n",
              " ['[UNK]', '.', 'he', '’', 's', '[UNK]'],\n",
              " ['’', 's', '[UNK]', 'so', 'i', 'di'],\n",
              " ['##r', '##e', '##e', '[UNK]', ',', 'i'],\n",
              " ['[UNK]', ',', 'i', 'get', 'way', 'too'],\n",
              " ['get', 'way', 'too', 'much', 'hate', '[UNK]'],\n",
              " ['much', 'hate', '[UNK]', 'in', 'my', 'in'],\n",
              " ['##b', '##o', '##x', 'from', '[UNK]', 'lakers'],\n",
              " ['from', '[UNK]', 'lakers', 'fa', '##n', 'to'],\n",
              " ['fa', '##n', 'to', 'have', '[UNK]', 'about'],\n",
              " ['have', '[UNK]', 'about', 'this', 'yeah', '.'],\n",
              " ['im', '##o', '.', '[UNK]', 'its', 'am'],\n",
              " ['[UNK]', 'its', 'am', 'when', 'it', '[UNK]'],\n",
              " ['when', 'it', '[UNK]', ':', '[UNK]', 'got'],\n",
              " [':', '[UNK]', 'got', '[UNK]', 'all', 'star'],\n",
              " ['[UNK]', 'all', 'star', '[UNK]', ':', '[UNK]'],\n",
              " ['[UNK]', ':', '[UNK]', 'won', 'the', 'trade'],\n",
              " ['won', 'the', 'trade', 'and', '[UNK]', 'is'],\n",
              " ['and', '[UNK]', 'is', 'a', 'la', '##k'],\n",
              " ['a', 'la', '##k', '##er', '[UNK]', '2018'],\n",
              " ['##er', '[UNK]', '2018', '/', 'free', 'a'],\n",
              " ['trade', '-', 'r', '/', 'nba', '[UNK]'],\n",
              " ['/', 'nba', '[UNK]', '.', '[UNK]', 'or'],\n",
              " ['.', '[UNK]', 'or', '[UNK]', 'le', '##bron'],\n",
              " ['[UNK]', 'le', '##bron', 'go', '##es', '.'],\n",
              " ['us', 'to', 'give', 'you', 'an', '[UNK]'],\n",
              " ['you', 'an', '[UNK]', 'con', '##t', '##r'],\n",
              " ['##r', '##o', '##w', 'in', '2', '[UNK]'],\n",
              " ['in', '2', '[UNK]', 'first', '[UNK]', '?'],\n",
              " ['first', '[UNK]', '?', '[UNK]', ',', 'take'],\n",
              " ['[UNK]', ',', 'take', 'your', '[UNK]', 'ass'],\n",
              " ['your', '[UNK]', 'ass', 'to', 'r', '/'],\n",
              " ['to', 'r', '/', 'lakers', 'and', '[UNK]'],\n",
              " ['lakers', 'and', '[UNK]', 'them', 'in', 'a'],\n",
              " ['dr', '##a', '##f', '##t', 'where', '[UNK]'],\n",
              " ['##t', 'where', '[UNK]', 'high', 's', '##c'],\n",
              " ['##t', ')', 'this', 'is', '[UNK]', 'up'],\n",
              " ['is', '[UNK]', 'up', 'la', '##k', '##er'],\n",
              " ['##a', '##s', '##e', '[UNK]', 'at', 'its'],\n",
              " ['[UNK]', 'at', 'its', '[UNK]', 'we', 'could'],\n",
              " ['[UNK]', 'we', 'could', 'also', 'just', 's'],\n",
              " ['##t', '##c', '##h', 'him', 'and', '[UNK]'],\n",
              " ['him', 'and', '[UNK]', 'him', 'on', 'our'],\n",
              " ['##t', '##c', '##h', 'and', '[UNK]', 'him'],\n",
              " ['and', '[UNK]', 'him', '[UNK]', 'which', 'would'],\n",
              " ['[UNK]', 'which', 'would', 'all', '##o', '##w'],\n",
              " ['us', 'to', 'keep', 'our', 'first', '[UNK]'],\n",
              " ['our', 'first', '[UNK]', 'pick', '##s', '.'],\n",
              " ['away', 'from', 'this', '[UNK]', 'fa', '##n'],\n",
              " ['[UNK]', 'fa', '##n', '##b', '##a', '##s'],\n",
              " ['is', 'a', 'fa', 'in', '[UNK]', '.'],\n",
              " ['in', '[UNK]', '.', 'w', '##o', '##w'],\n",
              " ['##t', '##h', '##o', '##m', 'the', '[UNK]'],\n",
              " ['##m', 'the', '[UNK]', 'in', 'this', 'com'],\n",
              " ['this', 'is', 'a', '[UNK]', 'post', 'and'],\n",
              " ['[UNK]', 'post', 'and', 'a', '[UNK]', 'trade'],\n",
              " ['a', '[UNK]', 'trade', '.', 'there', '’'],\n",
              " ['.', 'there', '’', 's', 'no', '[UNK]'],\n",
              " ['s', 'no', '[UNK]', 'to', 'our', 'team'],\n",
              " ['if', 'the', 't', '##a', '##x', '[UNK]'],\n",
              " ['##a', '##x', '[UNK]', 'is', 'really', 'that'],\n",
              " ['problem', ',', 'we', 'can', 'just', '[UNK]'],\n",
              " ['can', 'just', '[UNK]', '&', 'amp', ';'],\n",
              " ['nba', 'is', 'getting', '[UNK]', 'of', 'one'],\n",
              " ['[UNK]', 'of', 'one', 'and', 'done', 'around'],\n",
              " ['reason', 'why', 'the', '[UNK]', 'and', 'many'],\n",
              " ['[UNK]', 'and', 'many', 'other', 'teams', 'will'],\n",
              " ['next', 'season', '.', '[UNK]', 'him', '##s'],\n",
              " ['[UNK]', 'him', '##s', '##e', '##l', '##f'],\n",
              " ['##e', '##l', '##f', '[UNK]', '[UNK]', 'to'],\n",
              " ['[UNK]', '[UNK]', 'to', 't', '##a', '##n'],\n",
              " ['right', 'there', '.', '[UNK]', 'but', 'it'],\n",
              " ['[UNK]', 'but', 'it', 'less', '##e', '##n'],\n",
              " ['less', '##e', '##n', '##s', 'the', '[UNK]'],\n",
              " ['##s', 'the', '[UNK]', '.', 'the', 'team'],\n",
              " ['##l', '##l', '##ed', 'out', 'for', '[UNK]'],\n",
              " ['out', 'for', '[UNK]', 'and', '[UNK]', '.'],\n",
              " ['and', '[UNK]', '.', 'i', 'think', 'they'],\n",
              " ['of', 'a', 'team', 'that', 'just', '[UNK]'],\n",
              " ['that', 'just', '[UNK]', 'out', 'on', 'a'],\n",
              " ['out', 'on', 'a', '[UNK]', 'free', 'a'],\n",
              " ['[UNK]', 'free', 'a', '##g', '##e', '##n'],\n",
              " ['##g', '##e', '##n', '##t', '[UNK]', 'never'],\n",
              " ['##t', '[UNK]', 'never', 'won', 'that', 'trade'],\n",
              " ['won', 'that', 'trade', '(', 'in', '[UNK]'],\n",
              " ['(', 'in', '[UNK]', ')', '.', 'we'],\n",
              " ['k', '##n', '##e', '##w', 'the', '[UNK]'],\n",
              " ['##w', 'the', '[UNK]', 'of', 't', '##r'],\n",
              " ['##a', '##d', '##ing', 'for', '[UNK]', '.'],\n",
              " ['for', '[UNK]', '.', 'teams', 'would', 'make'],\n",
              " ['times', '(', 'i', 'know', 'the', '[UNK]'],\n",
              " ['know', 'the', '[UNK]', 'would', ',', 's'],\n",
              " ['##n', '##d', '##er', 'too', '.', '[UNK]'],\n",
              " ['too', '.', '[UNK]', 'is', 'in', '[UNK]'],\n",
              " ['is', 'in', '[UNK]', 'now', '.', 'just'],\n",
              " [',', 'he', 'was', 'in', '[UNK]', '[UNK]'],\n",
              " ['in', '[UNK]', '[UNK]', 'in', 'game', '1'],\n",
              " ['end', '##ed', 'up', 'with', 'like', '[UNK]'],\n",
              " ['with', 'like', '[UNK]', '+', 'point', '##s'],\n",
              " ['+', 'point', '##s', ',', '[UNK]', '.'],\n",
              " [',', '[UNK]', '.', '[UNK]', '.', 'a'],\n",
              " ['[UNK]', '.', 'a', 'lot', 'of', 'great'],\n",
              " ['of', 'the', 'warriors', 'and', 'the', '[UNK]'],\n",
              " ['and', 'the', '[UNK]', '[UNK]', '/', '7'],\n",
              " ['[UNK]', '/', '7', '##6', '##ers', 'teams'],\n",
              " ['##6', '##ers', 'teams', '.', 'it', '[UNK]'],\n",
              " ['.', 'it', '[UNK]', '.', 'ok', '##c'],\n",
              " ['team', 'at', 'all', '.', 'it', '[UNK]'],\n",
              " ['.', 'it', '[UNK]', 'the', 'team', 'more'],\n",
              " ['.', 'it', '’', 's', '[UNK]', 'that'],\n",
              " ['s', '[UNK]', 'that', 'someone', 'would', 'think'],\n",
              " ['s', 'even', 'more', '[UNK]', 'to', 'believe'],\n",
              " ['[UNK]', 'to', 'believe', 'that', 'this', 'trade'],\n",
              " ['that', 'this', 'trade', 'can', '[UNK]', 'if'],\n",
              " ['can', '[UNK]', 'if', 'some', 'other', 'even'],\n",
              " ['##t', 'doesn', '’', 't', '[UNK]', '.'],\n",
              " ['t', '[UNK]', '.', '[UNK]', 'is', '[UNK]'],\n",
              " ['[UNK]', 'is', '[UNK]', 'different', '##ly', ','],\n",
              " ['should', 'take', 'a', '[UNK]', 'on', 'ka'],\n",
              " ['[UNK]', 'on', 'ka', '##w', '##hi', 'because'],\n",
              " ['(', 'the', 'same', 'way', '[UNK]', 'was'],\n",
              " ['way', '[UNK]', 'was', 'actually', ')', '.'],\n",
              " ['just', 'here', 'to', 'see', 'people', '[UNK]'],\n",
              " ['see', 'people', '[UNK]', 'his', '##to', '##r'],\n",
              " ['a', 'guy', 'on', '[UNK]', '[UNK]', 'con'],\n",
              " ['[UNK]', '[UNK]', 'con', '##t', '##r', '##a'],\n",
              " ['that', '.', 'everyone', '[UNK]', 'at', 'the'],\n",
              " ['[UNK]', 'at', 'the', '[UNK]', 'we', '[UNK]'],\n",
              " ['[UNK]', 'we', '[UNK]', 'to', 'ka', '##n'],\n",
              " ['##m', '##s', 'and', '[UNK]', 'read', 'through'],\n",
              " ['[UNK]', 'read', 'through', 'this', 'your', '##s'],\n",
              " ['/', 'comments', '/', '[UNK]', '/', '[UNK]'],\n",
              " ['[UNK]', '/', '[UNK]', '_', 'ok', '##l'],\n",
              " ['##a', '##h', '##o', '##ma', '_', '[UNK]'],\n",
              " ['##ma', '_', '[UNK]', '_', '[UNK]', '_'],\n",
              " ['_', '[UNK]', '_', '[UNK]', '_', '[UNK]'],\n",
              " ['[UNK]', '_', '[UNK]', '_', 'has', '/'],\n",
              " ['##7', '##m', '/', '[UNK]', '_', '[UNK]'],\n",
              " ['[UNK]', '_', '[UNK]', '_', 'ok', '##c'],\n",
              " ['_', 'with', '_', '[UNK]', '_', 'a'],\n",
              " ['[UNK]', '_', 'a', '##d', '##a', '##m'],\n",
              " ['##d', '##a', '##m', '##s', '/', '[UNK]'],\n",
              " ['##s', '/', '[UNK]', ',', 'it', 'seems'],\n",
              " ['.', '.', '.', 'so', 'true', '[UNK]'],\n",
              " ['so', 'true', '[UNK]', '.', '.', '.'],\n",
              " ['see', 'the', 'lakers', '[UNK]', '?', '&'],\n",
              " ['[UNK]', '?', '&', 'gt', ';', '[UNK]'],\n",
              " ['gt', ';', '[UNK]', 'in', 'every', 'game'],\n",
              " ['you', 'played', 'go', '[UNK]', 'the', 'm'],\n",
              " ['[UNK]', 'the', 'm', '##a', '##vs', '[UNK]'],\n",
              " ['##a', '##vs', '[UNK]', 't', '##a', '##n'],\n",
              " ['like', '6', '##0', 'games', '[UNK]', '5'],\n",
              " ['games', '[UNK]', '5', 'point', '##s', 'and'],\n",
              " ['point', '##s', 'and', '[UNK]', '/', 'm'],\n",
              " ['[UNK]', '/', 'm', '##a', '##vs', 'will'],\n",
              " ['##a', '##n', '##k', '##ed', 'a', '[UNK]'],\n",
              " ['##ed', 'a', '[UNK]', 'of', 'those', 'with'],\n",
              " ['of', 'those', 'with', 'bad', '[UNK]', 'in'],\n",
              " ['bad', '[UNK]', 'in', 'the', 'last', '[UNK]'],\n",
              " ['the', 'last', '[UNK]', 'of', '[UNK]', 'of'],\n",
              " ['of', '[UNK]', 'of', 'the', 'game', '.'],\n",
              " ['##d', '##d', '##ed', '[UNK]', 'and', 'likely'],\n",
              " ['[UNK]', 'and', 'likely', 'd', '##e', '##a'],\n",
              " ['##n', '##dr', '##e', '+', '[UNK]', '+'],\n",
              " ['+', '[UNK]', '+', 'd', '##s', '##j'],\n",
              " ['d', '##s', '##j', '##r', '+', '[UNK]'],\n",
              " ['##r', '+', '[UNK]', '+', '[UNK]', 'are'],\n",
              " ['+', '[UNK]', 'are', 'a', 'much', 'better'],\n",
              " ['team', '.', 'i', '[UNK]', 'in', 'new'],\n",
              " ['[UNK]', 'in', 'new', '[UNK]', '[UNK]', 't'],\n",
              " ['[UNK]', '[UNK]', 't', '##h', '##o', 'you'],\n",
              " ['are', 'one', 'of', 'the', '[UNK]', ','],\n",
              " ['the', '[UNK]', ',', 'im', '##o', '.'],\n",
              " ['m', 'not', 'trying', 'to', '[UNK]', 'an'],\n",
              " ['to', '[UNK]', 'an', '[UNK]', 'fa', '##n'],\n",
              " ['[UNK]', 'fa', '##n', '##b', '##a', '##s'],\n",
              " ['##b', '##a', '##s', '##e', 'but', '[UNK]'],\n",
              " ['##e', 'but', '[UNK]', 'fuck', 'some', 'of'],\n",
              " ['you', 'guys', 'are', '[UNK]', '.', 'we'],\n",
              " ['[UNK]', '.', 'we', 'wouldn', '’', 't'],\n",
              " ['wouldn', '’', 't', 'have', 'been', '[UNK]'],\n",
              " ['have', 'been', '[UNK]', '.', 'we', 'k'],\n",
              " ['##s', 'fans', 'in', '[UNK]', '.', 'warriors'],\n",
              " ['[UNK]', '.', 'warriors', 'fans', 'and', 'r'],\n",
              " ['fans', 'in', '2018', '.', 'now', '[UNK]'],\n",
              " ['.', 'now', '[UNK]', 'will', 'be', 'a'],\n",
              " ['will', 'be', 'a', '[UNK]', 'of', 'the'],\n",
              " ['[UNK]', 'of', 'the', 'warriors', ',', 'r'],\n",
              " ['and', 'lakers', 'fans', '.', '[UNK]', '.'],\n",
              " ['.', '[UNK]', '.', '.', '.', 'you'],\n",
              " ['.', '.', 'you', 'know', 'they', '[UNK]'],\n",
              " ['know', 'they', '[UNK]', 'him', 'right', '?'],\n",
              " ['s', 'not', 'just', '[UNK]', '.', 'no'],\n",
              " ['[UNK]', '.', 'no', '[UNK]', '[UNK]', '!'],\n",
              " ['[UNK]', '[UNK]', '!', 'he', 'gets', '“'],\n",
              " ['he', 'gets', '“', '[UNK]', '”', 'because'],\n",
              " ['[UNK]', '”', 'because', 'he', '[UNK]', 'the'],\n",
              " ['he', '[UNK]', 'the', 'warriors', 'and', 'not'],\n",
              " ['i', '’', 'm', 'gonna', '[UNK]', 'in'],\n",
              " ['gonna', '[UNK]', 'in', 'this', 'com', '##m'],\n",
              " ['##s', '##t', 'was', '[UNK]', 'that', '[UNK]'],\n",
              " ['[UNK]', 'that', '[UNK]', 'too', '##k', 'a'],\n",
              " ['3', '+', '1', '[UNK]', 'a', '1'],\n",
              " ['[UNK]', 'a', '1', '+', '1', '.'],\n",
              " ['+', '1', '.', '[UNK]', 'left', 'a'],\n",
              " ['[UNK]', 'left', 'a', 'lot', 'of', 'money'],\n",
              " ['it', '’', 's', '[UNK]', 'that', 'he'],\n",
              " ['[UNK]', 'that', 'he', 'too', '##k', 'this'],\n",
              " ['.', 'it', '’', 's', 'also', '[UNK]'],\n",
              " ['s', 'also', '[UNK]', 'that', 'he', 'think'],\n",
              " ['##k', 'a', '4', 'year', 'deal', '[UNK]'],\n",
              " ['year', 'deal', '[UNK]', 'a', '1', '+'],\n",
              " ['##c', '##k', '##ed', 'or', '[UNK]', 'at'],\n",
              " ['or', '[UNK]', 'at', '[UNK]', '[UNK]', 'to'],\n",
              " ['[UNK]', '[UNK]', 'to', 'ok', '##c', '.'],\n",
              " ['deal', '.', 'as', 'a', '[UNK]', 'fa'],\n",
              " ['a', '[UNK]', 'fa', '##n', ',', 'i'],\n",
              " ['##d', '##k', 'why', 't', '##f', '[UNK]'],\n",
              " ['t', '##f', '[UNK]', 'too', '##k', 'a'],\n",
              " ['s', '##e', '##n', '##s', '##e', '[UNK]'],\n",
              " ['##s', '##e', '[UNK]', 'but', 'i', 'guess'],\n",
              " ['long', 't', '##er', '##m', '[UNK]', 'after'],\n",
              " ['##m', '[UNK]', 'after', 'that', '[UNK]', '[UNK]'],\n",
              " ['that', '[UNK]', '[UNK]', 'a', '[UNK]', 'of'],\n",
              " ['a', '[UNK]', 'of', 'years', 'a', '##g'],\n",
              " ['+', '1', '.', 'go', '[UNK]', 'our'],\n",
              " ['go', '[UNK]', 'our', 'sub', '##r', '##ed'],\n",
              " ['##dit', 'in', 'the', '[UNK]', 'we', '##e'],\n",
              " ['[UNK]', 'we', '##e', '##k', '.', '[UNK]'],\n",
              " ['##k', '.', '[UNK]', 'of', 'yes', '##t'],\n",
              " ['##er', '##d', '##a', '##y', 'and', '[UNK]'],\n",
              " ['##y', 'and', '[UNK]', '(', 'his', '[UNK]'],\n",
              " ['(', 'his', '[UNK]', ')', '[UNK]', 'news'],\n",
              " [')', '[UNK]', 'news', ',', 'we', 'thought'],\n",
              " [',', 'we', 'thought', '[UNK]', 'was', 'go'],\n",
              " ['[UNK]', 'was', 'go', '##n', '##e', '.'],\n",
              " ['##n', '##e', '.', 'we', 'already', '[UNK]'],\n",
              " ['we', 'already', '[UNK]', 'to', 't', '##er'],\n",
              " ['it', '.', 'i', 'love', '[UNK]', 'and'],\n",
              " ['love', '[UNK]', 'and', '[UNK]', '[UNK]', 'should'],\n",
              " ['[UNK]', '[UNK]', 'should', 'be', 'an', '[UNK]'],\n",
              " ['be', 'an', '[UNK]', 'to', 'this', '[UNK]'],\n",
              " ['to', 'this', '[UNK]', 'thing', '.', 'i'],\n",
              " ['mean', 'he', '’', 's', '[UNK]', '('],\n",
              " ['s', '[UNK]', '(', '[UNK]', 'for', 'the'],\n",
              " ['[UNK]', 'for', 'the', 'd', '##e', '##n'],\n",
              " ['real', ',', 'i', 'hate', '[UNK]', '_'],\n",
              " ['hate', '[UNK]', '_', 'ball', '##s', '&'],\n",
              " ['gt', ';', 'most', '[UNK]', 'fans', 'hate'],\n",
              " ['[UNK]', 'fans', 'hate', '[UNK]', 'more', 'than'],\n",
              " ['[UNK]', 'more', 'than', '[UNK]', 'is', 'this'],\n",
              " ['[UNK]', 'is', 'this', '[UNK]', 'or', 'no'],\n",
              " ['[UNK]', 'or', 'no', 'yeah', 'man', ','],\n",
              " ['.', 'i', 'hate', '[UNK]', '_', 'ball'],\n",
              " ['[UNK]', '_', 'ball', 'because', 'the', 'con'],\n",
              " ['##c', '##t', 'isn', '’', 't', '[UNK]'],\n",
              " ['’', 't', '[UNK]', 'to', 'be', '[UNK]'],\n",
              " ['to', 'be', '[UNK]', 'in', 'its', 'first'],\n",
              " ['can', '’', 't', '[UNK]', 'the', 'last'],\n",
              " ['[UNK]', 'the', 'last', '4', 'years', 'of'],\n",
              " ['i', 'am', 'not', 'going', 'to', '[UNK]'],\n",
              " ['going', 'to', '[UNK]', 'no', '##r', 'd'],\n",
              " ['this', 'because', 'that', 'would', 'be', '[UNK]'],\n",
              " ['would', 'be', '[UNK]', '[UNK]', 'the', 'm'],\n",
              " ['[UNK]', 'the', 'm', '##o', '##d', '##s'],\n",
              " ['fuck', 'until', 'you', '[UNK]', 'something', 'to'],\n",
              " ['[UNK]', 'something', 'to', 'their', '[UNK]', 'which'],\n",
              " ['their', '[UNK]', 'which', 'is', '[UNK]', 'because'],\n",
              " ['is', '[UNK]', 'because', 'this', 'sub', 'has'],\n",
              " ['it', 'has', 'probably', '[UNK]', '-', '[UNK]'],\n",
              " ['[UNK]', '-', '[UNK]', 'people', 'on', 'at'],\n",
              " ['a', 'time', 'because', 'of', '[UNK]', 'season'],\n",
              " ['of', '[UNK]', 'season', '.', 'they', 'aren'],\n",
              " ['are', '.', 'i', '[UNK]', 'any', 'of'],\n",
              " ['[UNK]', 'any', 'of', 'them', 'know', '##ing'],\n",
              " ['an', '##s', '##w', '##er', 'that', '[UNK]'],\n",
              " ['##er', 'that', '[UNK]', '?', 'm', '##a'],\n",
              " ['##vs', 'also', 'i', 'am', 'just', '[UNK]'],\n",
              " ['am', 'just', '[UNK]', 'as', 'you', 'are'],\n",
              " ['but', 'i', 'think', 'him', 'and', '[UNK]'],\n",
              " ['him', 'and', '[UNK]', 'would', 'like', 'to'],\n",
              " ['still', 'a', 'good', '[UNK]', ',', 'im'],\n",
              " ['[UNK]', ',', 'im', '##o', '.', 'he'],\n",
              " ['##o', '.', 'he', 'has', 'his', '[UNK]'],\n",
              " ['has', 'his', '[UNK]', 'like', 'every', '[UNK]'],\n",
              " ['like', 'every', '[UNK]', 'in', 'the', 'nba'],\n",
              " ['##m', '##es', 'had', 'us', '[UNK]', 'the'],\n",
              " ['us', '[UNK]', 'the', 'top', '[UNK]', 'before'],\n",
              " ['top', '[UNK]', 'before', 'r', '##o', '##b'],\n",
              " ['it', '’', 's', 'a', '[UNK]', 'if'],\n",
              " ['a', '[UNK]', 'if', 'anything', ',', 'it'],\n",
              " ['anything', ',', 'it', 'was', '[UNK]', 'by'],\n",
              " ['was', '[UNK]', 'by', '[UNK]', '[UNK]', 'com'],\n",
              " ['[UNK]', '[UNK]', 'com', '##m', '##e', '##n'],\n",
              " ['##r', '##n', '##a', '##m', '##e', '[UNK]'],\n",
              " ['##m', '##e', '[UNK]', 'out', 'he', 'said'],\n",
              " ['t', 'like', 'the', '[UNK]', 'or', '[UNK]'],\n",
              " ['[UNK]', 'or', '[UNK]', '.', 'it', 'was'],\n",
              " ['just', 'him', 'and', '[UNK]', '.', 'he'],\n",
              " ['[UNK]', '.', 'he', 'could', '##n', '’'],\n",
              " ['t', 'win', 'with', 'those', '[UNK]', '”'],\n",
              " ['those', '[UNK]', '”', 'yeah', 'and', 'he'],\n",
              " ['was', 'just', 'him', 'and', '[UNK]', 'on'],\n",
              " ['and', '[UNK]', 'on', 'that', 'team', '.'],\n",
              " ['he', 'made', 'his', '[UNK]', 'yet', 'lo'],\n",
              " ['[UNK]', 'yet', 'lo', '##l', 'yeah', 'but'],\n",
              " ['all', 'good', 'and', 'it', '[UNK]', 'that'],\n",
              " ['it', '[UNK]', 'that', 'you', 'got', '[UNK]'],\n",
              " ['you', 'got', '[UNK]', 'for', 'a', '[UNK]'],\n",
              " ['for', 'a', '[UNK]', 'question', 'le', '##bron'],\n",
              " ['question', 'le', '##bron', 'going', 'to', '[UNK]'],\n",
              " ['going', 'to', '[UNK]', 'would', 'help', 'the'],\n",
              " ['ka', '##w', '##hi', '[UNK]', '.', '[UNK]'],\n",
              " ['[UNK]', '.', '[UNK]', 'and', '[UNK]', 'would'],\n",
              " ['and', '[UNK]', 'would', 'have', 'a', '[UNK]'],\n",
              " ['have', 'a', '[UNK]', 'war', '.', 'lo'],\n",
              " ['the', 'w', '##c', '##f', '[UNK]', 'lo'],\n",
              " ['##f', '[UNK]', 'lo', '##s', '##ing', 'in'],\n",
              " ['ll', 'be', 'a', '[UNK]', 'agree', '##m'],\n",
              " ['[UNK]', 'agree', '##m', '##e', '##n', '##t'],\n",
              " ['##e', '##n', '##t', 'that', 'he', '[UNK]'],\n",
              " ['that', 'he', '[UNK]', 'on', 'defense', 'and'],\n",
              " ['on', 'defense', 'and', 'just', '[UNK]', 'lo'],\n",
              " ['just', '[UNK]', 'lo', '##b', '##s', '.'],\n",
              " ['##s', 'a', 'lot', 'of', '[UNK]', 'so'],\n",
              " ['of', '[UNK]', 'so', 'we', 'may', 'even'],\n",
              " ['we', 'may', 'even', 'see', '[UNK]', 'get'],\n",
              " ['see', '[UNK]', 'get', 'some', 'post', '-'],\n",
              " ['some', 'post', '-', 'up', '[UNK]', 'where'],\n",
              " ['up', '[UNK]', 'where', 'he', 'can', '[UNK]'],\n",
              " ['he', 'can', '[UNK]', 'out', 'of', 'the'],\n",
              " ['##bron', ',', 'be', '##n', ',', '[UNK]'],\n",
              " ['##n', ',', '[UNK]', 'not', 'until', 'the'],\n",
              " ['not', 'until', 'the', '[UNK]', '[UNK]', 'we'],\n",
              " ['[UNK]', '[UNK]', 'we', 'all', 'are', '[UNK]'],\n",
              " ['all', 'are', '[UNK]', 'on', 'this', '[UNK]'],\n",
              " ['on', 'this', '[UNK]', 'day', 'or', '[UNK]'],\n",
              " ['day', 'or', '[UNK]', '’', 's', '[UNK]'],\n",
              " ['’', 's', '[UNK]', 'they', '’', 're'],\n",
              " ['they', 'have', 'a', '[UNK]', '[UNK]', '%'],\n",
              " ['[UNK]', '[UNK]', '%', 'too', '.', 'i'],\n",
              " ['##d', '##er', 'if', '[UNK]', '[UNK]', 'says'],\n",
              " ['[UNK]', '[UNK]', 'says', 'to', 'the', '7'],\n",
              " ['”', 'there', 'was', 'some', '[UNK]', 'that'],\n",
              " ['some', '[UNK]', 'that', '[UNK]', 'to', '##l'],\n",
              " ['[UNK]', 'to', '##l', '##d', 'ok', '##c'],\n",
              " ['##ing', 'in', 'ok', '##c', 'in', '[UNK]'],\n",
              " ['##c', 'in', '[UNK]', 'they', '’', 've'],\n",
              " ['been', 'playing', 'like', 'this', '(', '[UNK]'],\n",
              " ['this', '(', '[UNK]', '[UNK]', '%', ')'],\n",
              " ['[UNK]', '%', ')', 'for', 'a', 'while'],\n",
              " ['##r', '##o', '##w', '[UNK]', 'in', 'for'],\n",
              " ['[UNK]', 'in', 'for', 'the', 'spurs', 'to'],\n",
              " ['le', '##bron', 'would', 'want', '[UNK]', 'go'],\n",
              " ['want', '[UNK]', 'go', '##n', '##e', 'any'],\n",
              " ['##w', '##a', '##y', '##s', '[UNK]', '1'],\n",
              " ['##s', '[UNK]', '1', 'pick', 'and', '[UNK]'],\n",
              " ['pick', 'and', '[UNK]', 'en', '##g', '##e'],\n",
              " ['##n', '##d', 'can', '[UNK]', 'his', 'shot'],\n",
              " ['[UNK]', 'his', 'shot', '.', 'he', 'might'],\n",
              " ['not', 'be', 'read', '##y', 'to', '[UNK]'],\n",
              " ['##y', 'to', '[UNK]', 'to', 'a', '[UNK]'],\n",
              " ['to', 'a', '[UNK]', '[UNK]', 'team', 'just'],\n",
              " ['[UNK]', 'team', 'just', 'yet', '.', 'the'],\n",
              " ['yet', '.', 'the', 'same', 'way', '[UNK]'],\n",
              " ['same', 'way', '[UNK]', 'wasn', '’', 't'],\n",
              " ['it', 'can', 'you', '[UNK]', 'on', 'this'],\n",
              " ['[UNK]', 'on', 'this', '?', 'don', '’'],\n",
              " ['a', 'star', '.', '[UNK]', 'didn', \"'\"],\n",
              " ['[UNK]', 'didn', \"'\", 't', 'know', 'lo'],\n",
              " ['the', '2', '##n', '##d', '[UNK]', '/'],\n",
              " ['##d', '[UNK]', '/', 'w', '##c', '##f'],\n",
              " ['w', '##c', '##f', '[UNK]', 'lo', '##s'],\n",
              " ['[UNK]', 'lo', '##s', '##e', 'in', 'the'],\n",
              " ['finals', 'or', 'i', '[UNK]', 'the', '\"'],\n",
              " ['[UNK]', 'the', '\"', 't', '\"', 'ok'],\n",
              " ['##a', '##o', 'before', '[UNK]', '[UNK]', '5'],\n",
              " ['[UNK]', '[UNK]', '5', ':', '[UNK]', '[UNK]'],\n",
              " [':', '[UNK]', '[UNK]', '.', '.', '.'],\n",
              " ['.', '.', '.', 'they', 'got', '[UNK]'],\n",
              " ['they', 'got', '[UNK]', 'of', 'him', '?'],\n",
              " ['##ing', 'lakers', 'for', '[UNK]', 'like', 'every'],\n",
              " ['[UNK]', 'like', 'every', 'other', 'star', 'fa'],\n",
              " ['other', 'star', 'fa', '.', '[UNK]', '[UNK]'],\n",
              " ['.', '[UNK]', '[UNK]', 'is', 'probably', 'in'],\n",
              " ['##t', '##ing', '##s', 'tell', '##ing', '[UNK]'],\n",
              " ['tell', '##ing', '[UNK]', 'to', 'get', 'ka'],\n",
              " ['##s', '##e', 'does', 'a', 'good', '[UNK]'],\n",
              " ['a', 'good', '[UNK]', 'of', 'making', '[UNK]'],\n",
              " ['of', 'making', '[UNK]', 'look', 'bad', 'already'],\n",
              " ['##b', '##l', '##e', '[UNK]', '[UNK]', 'to'],\n",
              " ['[UNK]', '[UNK]', 'to', 'the', '[UNK]', '[UNK]'],\n",
              " ['the', '[UNK]', '[UNK]', ',', 'why', 'us'],\n",
              " ['lot', 'of', 'his', '[UNK]', '.', 'he'],\n",
              " ['[UNK]', '.', 'he', 'was', 'much', 'more'],\n",
              " ['was', 'much', 'more', '[UNK]', '[UNK]', '-'],\n",
              " ['[UNK]', '[UNK]', '-', '[UNK]', '.', 'he'],\n",
              " ['[UNK]', '.', 'he', '’', 's', 'not'],\n",
              " ['is', '.', 'this', 'was', 'a', '[UNK]'],\n",
              " ['was', 'a', '[UNK]', 'com', '##m', '##e'],\n",
              " ['&', 'gt', ';', '[UNK]', 'at', 'the'],\n",
              " ['[UNK]', 'at', 'the', 'time', 'probably', 'because'],\n",
              " ['don', '’', 't', 'believe', 'these', '[UNK]'],\n",
              " ['believe', 'these', '[UNK]', '.', 'do', 'you'],\n",
              " ['this', 'sub', 'and', 'the', '[UNK]', '[UNK]'],\n",
              " ['the', '[UNK]', '[UNK]', '.', 'con', '##g'],\n",
              " ['##s', '.', '.', '.', '?', '[UNK]'],\n",
              " ['.', '?', '[UNK]', '.', 'is', 'the'],\n",
              " ['.', 'is', 'the', '[UNK]', 'in', '?'],\n",
              " ['[UNK]', 'in', '?', 'they', '[UNK]', 'don'],\n",
              " ['they', '[UNK]', 'don', '’', 't', '.'],\n",
              " ['dr', '##a', '##w', '[UNK]', 'or', 'warriors'],\n",
              " ['[UNK]', 'or', 'warriors', 'in', 'the', '2'],\n",
              " ['in', 'the', '2', '##n', '##d', '[UNK]'],\n",
              " ['##n', '##d', '[UNK]', '.', '.', '.'],\n",
              " ['##d', 'to', 'you', 'guys', '[UNK]', 'at'],\n",
              " ['guys', '[UNK]', 'at', 'other', 'teams', '[UNK]'],\n",
              " ['other', 'teams', '[UNK]', 'players', 'that', 'aren'],\n",
              " ['on', 'the', 'trade', '[UNK]', 'it', '’'],\n",
              " ['[UNK]', 'it', '’', 'll', 'be', 'lakers'],\n",
              " ['probably', '7', '##6', '##ers', '-', '[UNK]'],\n",
              " ['##ers', '-', '[UNK]', '[UNK]', '-', 'r'],\n",
              " ['[UNK]', '-', 'r', '##o', '##c', '##k'],\n",
              " ['##e', '##t', '##s', '[UNK]', '-', 'someone'],\n",
              " ['[UNK]', '-', 'someone', 'else', '[UNK]', ','],\n",
              " ['else', '[UNK]', ',', 'no', 'you', 'have'],\n",
              " ['##t', 'la', '##k', '##er', '.', '[UNK]'],\n",
              " ['##er', '.', '[UNK]', 'or', '[UNK]', '[UNK]'],\n",
              " ['or', '[UNK]', '[UNK]', '[UNK]', '?', 'lo'],\n",
              " ['[UNK]', '?', 'lo', '##n', '##z', '##o'],\n",
              " ['as', 'far', 'as', '[UNK]', '.', '[UNK]'],\n",
              " ['[UNK]', '.', '[UNK]', 'is', 'a', '[UNK]'],\n",
              " ['is', 'a', '[UNK]', '4', 'and', 'i'],\n",
              " ['is', 'trying', 'to', '[UNK]', 'to', 'the'],\n",
              " ['[UNK]', 'to', 'the', 's', '##ma', '##l'],\n",
              " ['##n', '##o', '##c', '##k', 'on', '[UNK]'],\n",
              " ['##k', 'on', '[UNK]', '.', 'it', '’'],\n",
              " ['s', 'just', 'about', '[UNK]', '.', 'maybe'],\n",
              " ['[UNK]', '.', 'maybe', 'a', '3', 'team'],\n",
              " ['##e', '##n', '##d', '##s', '[UNK]', 'else'],\n",
              " ['##s', '[UNK]', 'else', '##w', '##h', '##er'],\n",
              " ['could', 'he', 'be', 'a', '[UNK]', '?'],\n",
              " ['a', '[UNK]', '?', 'or', 'is', 'it'],\n",
              " ['##e', '##a', '##t', '[UNK]', 'under', 'any'],\n",
              " ['[UNK]', 'under', 'any', '[UNK]', '?', 'i'],\n",
              " ['[UNK]', '?', 'i', '[UNK]', 'k', '##d'],\n",
              " ['[UNK]', 'k', '##d', '[UNK]', '[UNK]', 'this'],\n",
              " ['[UNK]', '[UNK]', 'this', 'year', 'if', 'that'],\n",
              " ['##o', '##w', 'on', 'his', '[UNK]', 'and'],\n",
              " ['his', '[UNK]', 'and', 'he', 'might', 'not'],\n",
              " ['he', 'might', 'not', '[UNK]', 'games', 'over'],\n",
              " ['[UNK]', 'games', 'over', '[UNK]', '.', 'we'],\n",
              " ['[UNK]', '.', 'we', '’', 'd', 'like'],\n",
              " ['##r', '##o', '##w', 'out', 'a', '[UNK]'],\n",
              " ['out', 'a', '[UNK]', '-', 'r', '##o'],\n",
              " ['##b', '##es', '-', '[UNK]', '-', '[UNK]'],\n",
              " ['[UNK]', '-', '[UNK]', '-', 'a', '##d'],\n",
              " ['##a', '##m', '##s', '[UNK]', 'to', '[UNK]'],\n",
              " ['[UNK]', 'to', '[UNK]', 'the', 'game', 'out'],\n",
              " ['the', 'reason', '##s', 'you', '[UNK]', '.'],\n",
              " ['you', '[UNK]', '.', '.', '.', 'i'],\n",
              " ['##ed', 'with', 'the', '[UNK]', 'but', 'it'],\n",
              " ['[UNK]', 'but', 'it', 'doesn', '’', 't'],\n",
              " ['want', '##ed', 'to', 'play', 'with', '[UNK]'],\n",
              " ['play', 'with', '[UNK]', 'i', '[UNK]', 'with'],\n",
              " ['i', '[UNK]', 'with', 't', '##h', '##o'],\n",
              " ['it', '’', 's', '[UNK]', 'dr', '##a'],\n",
              " ['[UNK]', 'dr', '##a', '##y', 'i', 'hate'],\n",
              " ['about', 'a', 'fa', '##k', '##e', '[UNK]'],\n",
              " ['##k', '##e', '[UNK]', 'hard', '##a', '##w'],\n",
              " ['hard', '##a', '##w', '##a', '##y', '[UNK]'],\n",
              " ['##a', '##y', '[UNK]', 'not', 'about', 'le'],\n",
              " ['.', 'it', '’', 's', '[UNK]', 'what'],\n",
              " ['s', '[UNK]', 'what', 'people', 'would', 'do'],\n",
              " ['##r', '##ma', 'on', 'this', 'sub', '[UNK]'],\n",
              " ['this', 'sub', '[UNK]', ',', '[UNK]', ','],\n",
              " [',', '[UNK]', ',', 'r', '##o', '##b'],\n",
              " ['##d', '##a', '##m', '##s', ',', '[UNK]'],\n",
              " ['##s', ',', '[UNK]', 'and', '[UNK]', 'not'],\n",
              " ['and', '[UNK]', 'not', 'sure', 'if', 's'],\n",
              " ['but', 'le', '##bron', 'does', 'need', '[UNK]'],\n",
              " ['does', 'need', '[UNK]', 's', '##p', '##a'],\n",
              " ['will', 'be', 'the', 'first', 'time', '[UNK]'],\n",
              " ['first', 'time', '[UNK]', 'has', 'the', 'same'],\n",
              " ['has', 'the', 'same', '[UNK]', '2', '[UNK]'],\n",
              " ['[UNK]', '2', '[UNK]', 'years', '.', '[UNK]'],\n",
              " ['years', '.', '[UNK]', 'to', 'see', 'what'],\n",
              " ['.', '&', 'gt', ';', '[UNK]', 'red'],\n",
              " [';', '[UNK]', 'red', '##dit', '[UNK]', '[UNK]'],\n",
              " ['##dit', '[UNK]', '[UNK]', 'are', 'you', 'even'],\n",
              " ['##s', '##e', 'or', '[UNK]', 'you', 'know'],\n",
              " ['[UNK]', 'you', 'know', 'how', 'to', 'use'],\n",
              " ['how', 'to', 'use', '[UNK]', 'but', 'not'],\n",
              " ['[UNK]', 'but', 'not', 'how', 'to', 'do'],\n",
              " ['##h', '?', 'w', '##t', '##f', '[UNK]'],\n",
              " ['##t', '##f', '[UNK]', 'are', 'my', 's'],\n",
              " ['.', 'i', 'can', 'see', 'the', '[UNK]'],\n",
              " ['see', 'the', '[UNK]', 'getting', 'there', 'as'],\n",
              " ['as', 'well', '.', 'he', '[UNK]', 'up'],\n",
              " ['he', '[UNK]', 'up', 'every', '[UNK]', 'we'],\n",
              " ['every', '[UNK]', 'we', 'had', 'that', '[UNK]'],\n",
              " ['had', 'that', '[UNK]', 'and', 'when', 'your'],\n",
              " ['mel', '##o', 'shot', '6', '-', '[UNK]'],\n",
              " ['6', '-', '[UNK]', 'on', '[UNK]', '3'],\n",
              " ['on', '[UNK]', '3', '##s', ')', 'then'],\n",
              " ['is', 'this', 'a', '[UNK]', 'and', 'on'],\n",
              " ['[UNK]', 'and', 'on', 'the', 'other', '[UNK]'],\n",
              " ['the', 'other', '[UNK]', ',', '[UNK]', 'would'],\n",
              " [',', '[UNK]', 'would', 'probably', 'make', 'it'],\n",
              " ['probably', 'make', 'it', 'every', 'year', '[UNK]'],\n",
              " ['every', 'year', '[UNK]', 'for', 'a', '##d'],\n",
              " ['for', 'a', '##d', '’', 's', '[UNK]'],\n",
              " ['’', 's', '[UNK]', 'year', 'maybe', 'on'],\n",
              " ['##c', '##e', 'if', '[UNK]', 'gets', '[UNK]'],\n",
              " ['[UNK]', 'gets', '[UNK]', '.', 'it', '’'],\n",
              " ['.', 'it', '’', 's', '[UNK]', 'to'],\n",
              " ['s', '[UNK]', 'to', 'tell', '.', 'they'],\n",
              " ['tell', '.', 'they', 'might', 'play', '[UNK]'],\n",
              " ['might', 'play', '[UNK]', 'and', '[UNK]', 'in'],\n",
              " ['and', '[UNK]', 'in', 'the', 'same', 'playoffs'],\n",
              " ['off', 'a', 'long', '[UNK]', '[UNK]', '[UNK]'],\n",
              " ['[UNK]', '[UNK]', '[UNK]', 'and', 'win', '[UNK]'],\n",
              " ['and', 'win', '[UNK]', '[UNK]', '.', 'it'],\n",
              " ['[UNK]', '.', 'it', '’', 's', 'not'],\n",
              " ['’', 's', 'not', '[UNK]', '[UNK]', '.'],\n",
              " ['[UNK]', '[UNK]', '.', 'it', '’', 's'],\n",
              " ['it', '’', 's', '[UNK]', 'the', '7'],\n",
              " ['[UNK]', 'the', '7', '##6', '##ers', '/'],\n",
              " ['##6', '##ers', '/', '[UNK]', '.', 'they'],\n",
              " ['[UNK]', '.', 'they', '’', 're', 'talking'],\n",
              " ['you', 'can', 'tell', 'how', '[UNK]', 'the'],\n",
              " ['how', '[UNK]', 'the', '[UNK]', 'to', '[UNK]'],\n",
              " ['[UNK]', 'to', '[UNK]', '[UNK]', '[UNK]', 'is'],\n",
              " ['[UNK]', '[UNK]', 'is', 'yeah', ',', 'it'],\n",
              " ['t', 'make', 'a', '[UNK]', 'post', 'about'],\n",
              " ['[UNK]', 'post', 'about', 'it', '3', 'teams'],\n",
              " ['lakers', 'also', 'go', 'on', 'the', '[UNK]'],\n",
              " ['on', 'the', '[UNK]', '[UNK]', '(', 'or'],\n",
              " ['[UNK]', '(', 'or', 'is', 'it', 'the'],\n",
              " ['is', 'it', 'the', '[UNK]', '?', ')'],\n",
              " ['[UNK]', '?', ')', 'r', '##o', '##a'],\n",
              " ['r', '##o', '##a', '##d', '[UNK]', 're'],\n",
              " ['##d', '[UNK]', 're', '##p', '##o', '##r'],\n",
              " ['##p', '##h', '##e', '##n', 'a', '[UNK]'],\n",
              " ['##n', 'a', '[UNK]', 'so', '.', '.'],\n",
              " ['.', 't', '##b', '##h', '[UNK]', 'will'],\n",
              " ['##h', '[UNK]', 'will', 'likely', 'have', 'the'],\n",
              " ['want', 'that', 'trade', ',', '[UNK]', '[UNK]'],\n",
              " [',', '[UNK]', '[UNK]', '.', 'after', 'that'],\n",
              " ['##ers', '##hi', '##p', '[UNK]', 'in', 'more'],\n",
              " ['[UNK]', 'in', 'more', 'guys', 'that', 'were'],\n",
              " ['been', 'there', ')', '.', '[UNK]', 'guys'],\n",
              " ['.', '[UNK]', 'guys', 'like', '[UNK]', 'and'],\n",
              " ['like', '[UNK]', 'and', '[UNK]', 'won', '’'],\n",
              " ['[UNK]', 'won', '’', 't', 'let', 'him'],\n",
              " ['&', 'gt', ';', '[UNK]', 'from', 'for'],\n",
              " ['[UNK]', 'from', 'for', '##m', '##er', 'team'],\n",
              " ['&', 'gt', ';', 'a', '##d', '[UNK]'],\n",
              " ['a', '##d', '[UNK]', 'at', '##t', '##a'],\n",
              " ['/', 'nba', '&', 'gt', ';', '[UNK]'],\n",
              " ['gt', ';', '[UNK]', 'from', 'for', '##m'],\n",
              " ['gt', ';', 'a', '##d', '[UNK]', 'at'],\n",
              " ['##d', '[UNK]', 'at', '##t', '##a', '##c'],\n",
              " ['##k', 'of', 'a', '[UNK]', 'that', 'was'],\n",
              " ['[UNK]', 'that', 'was', 'la', '##t', '##er'],\n",
              " ['la', '##t', '##er', '[UNK]', 'between', 'the'],\n",
              " ['[UNK]', 'between', 'the', 'two', '&', 'gt'],\n",
              " ['##w', '##e', '##e', '##t', '[UNK]', '.'],\n",
              " ['##t', '[UNK]', '.', 'i', 'know', 'this'],\n",
              " ['i', 'know', 'this', 'is', 'gonna', '[UNK]'],\n",
              " ['is', 'gonna', '[UNK]', 'so', '##o', '##n'],\n",
              " ['.', 'he', 'has', '[UNK]', 'but', 'his'],\n",
              " ['[UNK]', 'but', 'his', 'con', '##t', '##r'],\n",
              " ['##a', '##c', '##t', 'is', 'really', '[UNK]'],\n",
              " ['is', 'really', '[UNK]', 'and', 'i', 'would'],\n",
              " ['not', 'trade', 'him', '[UNK]', '.', 'how'],\n",
              " ['[UNK]', '.', 'how', 'do', 'you', 'know'],\n",
              " ['he', '’', 's', 'not', '[UNK]', 'on'],\n",
              " ['not', '[UNK]', 'on', 'the', 'court', '?'],\n",
              " ['what', 'if', 'he', 'just', '[UNK]', '?'],\n",
              " ['just', '[UNK]', '?', 'he', 'could', 'have'],\n",
              " ['start', '##ed', 'in', 'was', '[UNK]', 'got'],\n",
              " ['was', '[UNK]', 'got', 'up', '##s', '##e'],\n",
              " ['##t', 'and', 'now', '[UNK]', 'is', 'on'],\n",
              " ['[UNK]', 'is', 'on', 'the', 've', '##r'],\n",
              " ['you', 'can', 'if', 'you', 'have', '[UNK]'],\n",
              " ['you', 'have', '[UNK]', 's', '##c', '##o'],\n",
              " ['s', '##c', '##o', '##r', '##ers', '[UNK]'],\n",
              " ['##r', '##ers', '[UNK]', 'go', '##b', '##er'],\n",
              " ['##t', 'is', 'a', '[UNK]', '[UNK]', 'for'],\n",
              " ['[UNK]', '[UNK]', 'for', 'us', '.', '[UNK]'],\n",
              " ['us', '.', '[UNK]', '/', '[UNK]', ','],\n",
              " ['/', '[UNK]', ',', 'on', 'the', 'other'],\n",
              " ['on', 'the', 'other', '[UNK]', ',', 'would'],\n",
              " ['[UNK]', ',', 'would', 'love', 'to', 'see'],\n",
              " ['go', '##b', '##er', '##t', '[UNK]', 'them'],\n",
              " ['##t', '[UNK]', 'them', '.', 'did', '[UNK]'],\n",
              " ['.', 'did', '[UNK]', 'even', 'do', 'his'],\n",
              " ['even', 'do', 'his', '[UNK]', '[UNK]', 'and'],\n",
              " ['[UNK]', '[UNK]', 'and', 'try', 'to', 'get'],\n",
              " ['no', '##e', '##l', '?', '[UNK]', 'w'],\n",
              " ['?', '[UNK]', 'w', '##a', '##l', '##l'],\n",
              " ['is', 'probably', 'the', 'best', '[UNK]', 'point'],\n",
              " ['best', '[UNK]', 'point', '[UNK]', 'that', '[UNK]'],\n",
              " ['[UNK]', 'that', '[UNK]', 'will', 'ever', 'play'],\n",
              " ['stop', 'watch', '##ing', 'this', '[UNK]', '-'],\n",
              " ['this', '[UNK]', '-', '[UNK]', 'game', 'i'],\n",
              " ['[UNK]', 'game', 'i', 'don', '’', 't'],\n",
              " ['.', 'i', '’', 'm', '[UNK]', 'we'],\n",
              " ['m', '[UNK]', 'we', 'got', 'no', '##e'],\n",
              " ['##l', 'lo', '##l', '.', '[UNK]', '’'],\n",
              " ['.', '[UNK]', '’', 's', 'a', 'go'],\n",
              " ['guess', 'this', 'is', 'where', '[UNK]', 'play'],\n",
              " ['where', '[UNK]', 'play', '##s', 'a', 'r'],\n",
              " ['.', 'another', 'fa', 'that', '[UNK]', 'ok'],\n",
              " ['that', '[UNK]', 'ok', '##c', 'over', 'la'],\n",
              " ['##e', '##t', 'by', '##e', '[UNK]', 'by'],\n",
              " ['##e', '[UNK]', 'by', '##e', '[UNK]', 'they'],\n",
              " ['##e', '[UNK]', 'they', '[UNK]', 'in', 'other'],\n",
              " ['[UNK]', 'in', 'other', 'guys', 'into', 'the'],\n",
              " ['own', '##ers', '##hi', '##p', '[UNK]', 'since'],\n",
              " ['##p', '[UNK]', 'since', 'then', 'http', ':'],\n",
              " ['/', '/', 'www', '.', '[UNK]', '.'],\n",
              " ['.', '[UNK]', '.', 'com', '/', '[UNK]'],\n",
              " ['com', '/', '[UNK]', '-', 'a', '##d'],\n",
              " ['d', '##e', '##e', '##p', '-', '[UNK]'],\n",
              " ['##p', '-', '[UNK]', '/', '?', '?'],\n",
              " ['##a', '##l', '##t', 'for', 'these', '[UNK]'],\n",
              " ['for', 'these', '[UNK]', 'also', 'i', '’'],\n",
              " ['from', 'ok', '##c', '[UNK]', '.', '.'],\n",
              " ['[UNK]', '.', '.', '.', '?', '?'],\n",
              " ['?', 'w', '##t', '##f', '?', '[UNK]'],\n",
              " ['##f', '?', '[UNK]', 'we', '’', 're'],\n",
              " ['not', 'doing', 'that', 'his', '[UNK]', '[UNK]'],\n",
              " ['his', '[UNK]', '[UNK]', 'out', '.', 'i'],\n",
              " ['##t', '##ing', 'on', '[UNK]', ',', '[UNK]'],\n",
              " ['[UNK]', ',', '[UNK]', 'or', 'the', '[UNK]'],\n",
              " ['or', 'the', '[UNK]', 'ok', '##c', 'team'],\n",
              " [',', 'it', '’', 's', '[UNK]', 'down'],\n",
              " ['s', '[UNK]', 'down', 'to', 'r', '##o'],\n",
              " ['a', '##l', '##e', '##x', '[UNK]', '?'],\n",
              " ['##x', '[UNK]', '?', 'this', 'com', '##m'],\n",
              " ['##d', 'about', 'ok', '##c', 'than', '[UNK]'],\n",
              " ['##c', 'than', '[UNK]', 'about', 'his', '[UNK]'],\n",
              " ['about', 'his', '[UNK]', 'd', '##e', '##l'],\n",
              " ['##h', '##er', 'in', 'the', '[UNK]', 'court'],\n",
              " ['the', '[UNK]', 'court', 'but', 'if', 'lo'],\n",
              " ['doesn', '’', 't', '[UNK]', 'his', 'shot'],\n",
              " ['[UNK]', 'his', 'shot', 'then', 'they', '’'],\n",
              " ['then', 'they', '’', 'll', 'have', '[UNK]'],\n",
              " ['ll', 'have', '[UNK]', 'problem', '##s', 'in'],\n",
              " ['problem', '##s', 'in', 'the', '[UNK]', 'court'],\n",
              " ['the', '[UNK]', 'court', 'during', 'the', 'playoffs'],\n",
              " ['so', 'well', '.', 'the', '[UNK]', 'is'],\n",
              " ['the', '[UNK]', 'is', 'one', 'of', 'the'],\n",
              " ['’', 'll', 'see', 'the', '[UNK]', 'of'],\n",
              " ['the', '[UNK]', 'of', 'the', '“', 's'],\n",
              " ['##a', '##m', '##p', '##l', '##e', '[UNK]'],\n",
              " ['##l', '##e', '[UNK]', '”', 'me', '##m'],\n",
              " ['they', '’', 're', '[UNK]', 'of', 'an'],\n",
              " ['[UNK]', 'of', 'an', 'an', '##o', '##ma'],\n",
              " ['their', 'team', 't', '##h', '##o', '[UNK]'],\n",
              " ['##h', '##o', '[UNK]', '.', 'i', 'still'],\n",
              " ['##k', '##ing', ',', '[UNK]', 'and', 'the'],\n",
              " ['[UNK]', 'and', 'the', '[UNK]', 'would', 'still'],\n",
              " ['[UNK]', 'would', 'still', 'put', 'a', '[UNK]'],\n",
              " ['put', 'a', '[UNK]', 'on', 'the', 'court'],\n",
              " ['##r', '##t', '##h', '[UNK]', 'a', '[UNK]'],\n",
              " ['[UNK]', 'a', '[UNK]', 'for', '.', '[UNK]'],\n",
              " ['for', '.', '[UNK]', 'that', '’', 's'],\n",
              " ['that', '’', 's', 'not', '[UNK]', '.'],\n",
              " ['not', '[UNK]', '.', 'i', '[UNK]', 'the'],\n",
              " ['i', '[UNK]', 'the', 'team', 'will', '[UNK]'],\n",
              " ['team', 'will', '[UNK]', 'after', 'the', 'west'],\n",
              " ['##b', '##r', '##o', '##o', '##k', '[UNK]'],\n",
              " ['##o', '##k', '[UNK]', '.', 'they', '[UNK]'],\n",
              " ['.', 'they', '[UNK]', 'la', '##n', '##c'],\n",
              " ['t', 'even', 'a', 'good', '[UNK]', 'next'],\n",
              " ['good', '[UNK]', 'next', 'to', 'le', '##bron'],\n",
              " ['of', 'that', ',', '[UNK]', 'is', 'a'],\n",
              " ['[UNK]', 'is', 'a', 'be', '##n', '##c'],\n",
              " ['be', '##n', '##c', '##h', '[UNK]', '.'],\n",
              " ['##h', '[UNK]', '.', 'they', 'still', 'have'],\n",
              " ['they', 'still', 'have', 'a', '[UNK]', 'in'],\n",
              " ['a', '[UNK]', 'in', 'their', 'start', '##ing'],\n",
              " ['their', 'start', '##ing', '[UNK]', 'at', '[UNK]'],\n",
              " ['[UNK]', 'at', '[UNK]', '.', '[UNK]', ','],\n",
              " ['.', '[UNK]', ',', 's', '##t', '##a'],\n",
              " ['##n', '##d', 'over', 'this', '[UNK]', 'so'],\n",
              " ['this', '[UNK]', 'so', 'i', 'can', 'get'],\n",
              " ['##l', '##t', 'on', 'my', '[UNK]', 'more'],\n",
              " ['my', '[UNK]', 'more', 'players', 'to', 'play'],\n",
              " ['team', ',', 'more', '[UNK]', ',', 'con'],\n",
              " ['[UNK]', ',', 'con', '##t', '##r', '##a'],\n",
              " ['are', '10', '##0', '%', '[UNK]', 'we'],\n",
              " ['%', '[UNK]', 'we', 'a', '##d', '##d'],\n",
              " ['##ed', 'another', 'own', '##er', 'in', '[UNK]'],\n",
              " ['##er', 'in', '[UNK]', 'that', 'was', 'will'],\n",
              " ['’', 't', 'have', 'that', 'in', '[UNK]'],\n",
              " ['that', 'in', '[UNK]', '.', 'it', 'was'],\n",
              " ['.', 'it', 'was', 'just', '[UNK]', ','],\n",
              " ['just', '[UNK]', ',', '[UNK]', '.', 'i'],\n",
              " ['[UNK]', '.', 'i', '’', 'm', 'from'],\n",
              " ['’', 'm', 'from', '[UNK]', '.', 'i'],\n",
              " ['[UNK]', '.', 'i', '[UNK]', 'my', '[UNK]'],\n",
              " ['[UNK]', 'my', '[UNK]', 'fa', '##n', '##d'],\n",
              " ['##o', '##m', 'when', 'i', '[UNK]', 'the'],\n",
              " ['i', '[UNK]', 'the', 'team', 'would', 'go'],\n",
              " ['i', '’', 've', 'been', '[UNK]', 'my'],\n",
              " ['been', '[UNK]', 'my', '[UNK]', 'player', '('],\n",
              " ['[UNK]', 'player', '(', 'of', 'all', 'time'],\n",
              " ['.', 'can', '’', 't', '[UNK]', 'for'],\n",
              " ['t', '[UNK]', 'for', 'the', 'r', '##o'],\n",
              " ['##c', '##g', '##e', '##e', '[UNK]', 'it'],\n",
              " ['##e', '[UNK]', 'it', 'could', 'mean', 'a'],\n",
              " ['could', 'mean', 'a', '[UNK]', 'things', '.'],\n",
              " ['[UNK]', 'things', '.', '.', '.', '[UNK]'],\n",
              " ['.', '.', '[UNK]', 'on', 'in', 'the'],\n",
              " ['then', 'defense', 'is', '[UNK]', 'with', 'it'],\n",
              " ['[UNK]', 'with', 'it', 'it', 'could', 'also'],\n",
              " ['mean', 'that', 'his', '[UNK]', 'shot', 'is'],\n",
              " ['[UNK]', 'shot', 'is', 'pretty', '[UNK]', 'as'],\n",
              " ['pretty', '[UNK]', 'as', 'far', 'as', '[UNK]'],\n",
              " ['far', 'as', '[UNK]', 'and', 're', '##l'],\n",
              " ['’', 's', 'much', '[UNK]', 'to', 'con'],\n",
              " ['[UNK]', 'to', 'con', '##t', '##es', '##t'],\n",
              " ['yeah', ',', 'they', 'have', 'a', '[UNK]'],\n",
              " ['have', 'a', '[UNK]', 'of', '[UNK]', '[UNK]'],\n",
              " ['of', '[UNK]', '[UNK]', '[UNK]', 'le', '##bron'],\n",
              " ['[UNK]', 'le', '##bron', ',', 'la', '##n'],\n",
              " ['##a', '##c', '##e', 'the', '[UNK]', 'probably'],\n",
              " ['the', '[UNK]', 'probably', 'but', 'i', '[UNK]'],\n",
              " ['but', 'i', '[UNK]', 'it', '[UNK]', 'on'],\n",
              " ['it', '[UNK]', 'on', '##to', 'the', 'team'],\n",
              " ['a', '##d', '##d', '[UNK]', 'around', 'him'],\n",
              " ['[UNK]', 'around', 'him', 'that', 'just', 'don'],\n",
              " ['that', 'just', 'don', '’', 't', '[UNK]'],\n",
              " ['’', 't', '[UNK]', '?', 'he', '’'],\n",
              " ['play', 'with', 'le', '##bron', '.', '[UNK]'],\n",
              " ['##bron', '.', '[UNK]', 'also', 'sign', '##ed'],\n",
              " ['##o', '##l', '##e', '.', '[UNK]', '.'],\n",
              " ['.', '[UNK]', '.', 'he', 'might', 'start'],\n",
              " ['##n', '##g', 'to', 'a', '[UNK]', '3'],\n",
              " ['a', '[UNK]', '3', '##r', '##d', 'team'],\n",
              " ['##a', '##m', 'or', '[UNK]', '+', 'ass'],\n",
              " ['[UNK]', '+', 'ass', '##e', '##t', '##s'],\n",
              " ['##w', '##hi', 'to', 'la', 'and', '[UNK]'],\n",
              " ['la', 'and', '[UNK]', 'up', 'a', 's'],\n",
              " ['##l', '##o', '##t', 'for', '[UNK]', '?'],\n",
              " ['for', '[UNK]', '?', 'what', 'would', 'these'],\n",
              " ['what', 'would', 'these', '[UNK]', 'teams', '[UNK]'],\n",
              " ['[UNK]', 'teams', '[UNK]', 'back', 'to', 'the'],\n",
              " ['at', 'the', 'trade', '[UNK]', '.', '.'],\n",
              " ['[UNK]', '.', '.', '.', '?', 'he'],\n",
              " ['.', '?', 'he', 'left', '[UNK]', 'part'],\n",
              " ['left', '[UNK]', 'part', '##ly', 'for', 'this'],\n",
              " ['##n', '##z', '##o', 'can', '[UNK]', 'to'],\n",
              " ['can', '[UNK]', 'to', '[UNK]', 'on', 'a'],\n",
              " ['[UNK]', 'on', 'a', 't', '##a', '##n'],\n",
              " ['##er', 'team', 'much', 'as', '[UNK]', '.'],\n",
              " ['as', '[UNK]', '.', 'ok', '##c', 'i'],\n",
              " ['he', '##a', '##r', '##d', '[UNK]', '[UNK]'],\n",
              " ['##d', '[UNK]', '[UNK]', 'so', 'i', '##d'],\n",
              " ['##e', 'from', 'the', '[UNK]', '/', '[UNK]'],\n",
              " ['[UNK]', '/', '[UNK]', 'i', 'have', '##n'],\n",
              " ['’', 't', 'either', '.', '[UNK]', ','],\n",
              " ['.', '[UNK]', ',', 'it', '’', 's'],\n",
              " ['it', '’', 's', '[UNK]', 'up', 'by'],\n",
              " ['[UNK]', 'up', 'by', 'w', '##o', '##j'],\n",
              " ['mel', '##o', 'be', 'our', '[UNK]', 'in'],\n",
              " ['our', '[UNK]', 'in', 'the', '2', '##n'],\n",
              " ['the', '2', '##n', '##d', '[UNK]', '[UNK]'],\n",
              " ['##d', '[UNK]', '[UNK]', 'u', 'right', 'about'],\n",
              " ['got', '##t', '##a', '[UNK]', 'that', '[UNK]'],\n",
              " ['[UNK]', 'that', '[UNK]', '/', 'r', '##o'],\n",
              " ['##r', '##d', 'not', '[UNK]', 'by', 'any'],\n",
              " ['[UNK]', 'by', 'any', 'big', '[UNK]', 're'],\n",
              " ['big', '[UNK]', 're', '##p', '##o', '##r'],\n",
              " ['##t', '##er', 't', '##h', '##o', '[UNK]'],\n",
              " ['##h', '##o', '[UNK]', 'that', 'this', '[UNK]'],\n",
              " ['that', 'this', '[UNK]', 'is', 'used', 'to'],\n",
              " ['is', 'used', 'to', '[UNK]', 'another', '[UNK]'],\n",
              " ['[UNK]', 'another', '[UNK]', 'player', 'but', 'any'],\n",
              " ['##bron', 'is', 'pretty', 'ball', '-', '[UNK]'],\n",
              " ['ball', '-', '[UNK]', '(', 'nothing', 'wrong'],\n",
              " ['##z', '##o', 'need', '##s', 'to', '[UNK]'],\n",
              " ['##s', 'to', '[UNK]', 'a', '[UNK]', '[UNK]'],\n",
              " ['a', '[UNK]', '[UNK]', 'in', 'or', '##d'],\n",
              " ['in', 'or', '##d', '##er', 'to', '[UNK]'],\n",
              " ['##er', 'to', '[UNK]', 'le', '##bron', 'well'],\n",
              " ['le', '##bron', 'well', '.', '“', '[UNK]'],\n",
              " ['.', '“', '[UNK]', '[UNK]', '”', 's'],\n",
              " ['[UNK]', '”', 's', '##a', '##ma', '##n'],\n",
              " ['##t', '##h', '##a', ',', '[UNK]', 'doing'],\n",
              " [',', '[UNK]', 'doing', '[UNK]', 't', '##h'],\n",
              " ['[UNK]', 't', '##h', '##o', 'this', '[UNK]'],\n",
              " ['##o', 'this', '[UNK]', 'give', '##s', 'them'],\n",
              " ['##e', '##a', '##t', '/', '[UNK]', 'run'],\n",
              " ['/', '[UNK]', 'run', '##n', '##er', 'but'],\n",
              " ['i', 'think', 'the', '[UNK]', 'the', 'lakers'],\n",
              " ['[UNK]', 'the', 'lakers', 'are', 'going', 'with'],\n",
              " ['are', 'going', 'with', 'is', '[UNK]', 'play'],\n",
              " ['is', '[UNK]', 'play', '##ma', '##k', '##ers'],\n",
              " ['and', 'let', '##t', '##ing', 'everyone', '[UNK]'],\n",
              " ['##ing', 'everyone', '[UNK]', 'for', '[UNK]', 'other'],\n",
              " ['for', '[UNK]', 'other', '.', 'good', '[UNK]'],\n",
              " ['.', 'good', '[UNK]', '.', 'but', 'still'],\n",
              " ['##ers', '.', 'no', '[UNK]', 't', '##b'],\n",
              " ['[UNK]', 't', '##b', '##h', '.', 'i'],\n",
              " ['##w', 'you', 'were', 'a', '[UNK]', '[UNK]'],\n",
              " ['a', '[UNK]', '[UNK]', 'fa', '##n', 'no'],\n",
              " [',', 'it', '’', 's', 'one', '[UNK]'],\n",
              " ['s', 'one', '[UNK]', 'of', 'a', '[UNK]'],\n",
              " ['of', 'a', '[UNK]', 'league', 'game', 'because'],\n",
              " ['##r', '##a', '##c', '##t', 'is', '[UNK]'],\n",
              " ['##t', 'is', '[UNK]', '[UNK]', 'now', 'that'],\n",
              " ['[UNK]', 'now', 'that', 'le', '##bron', 'isn'],\n",
              " ['’', 't', 'there', 'yes', ',', '[UNK]'],\n",
              " ['yes', ',', '[UNK]', 'they', '’', 're'],\n",
              " ['they', '’', 're', 'good', '[UNK]', 'game'],\n",
              " ['good', '[UNK]', 'game', ',', 'im', '##o'],\n",
              " ['he', '’', 'll', '[UNK]', '[UNK]', 'or'],\n",
              " ['[UNK]', '[UNK]', 'or', 'take', 'a', 'better'],\n",
              " ['##y', 'if', 'he', 'gets', 'the', '[UNK]'],\n",
              " ['gets', 'the', '[UNK]', '.', '[UNK]', ','],\n",
              " ['.', '[UNK]', ',', 'i', 'need', '##a'],\n",
              " ['##o', '##w', '##ing', '[UNK]', 'yeah', '1'],\n",
              " ['[UNK]', 'yeah', '1', '[UNK]', '=', '1'],\n",
              " ['[UNK]', '=', '1', '[UNK]', 'i', 'think'],\n",
              " ['[UNK]', 'i', 'think', 'the', 'only', 'reason'],\n",
              " ['he', 'probably', 'got', 'from', 'the', '[UNK]'],\n",
              " ['from', 'the', '[UNK]', 'of', 'the', 'league'],\n",
              " ['something', 'that', 'isn', '’', 't', '[UNK]'],\n",
              " ['’', 't', '[UNK]', 'to', 'what', 'he'],\n",
              " ['’', 's', 'something', '[UNK]', 'to', 'the'],\n",
              " ['[UNK]', 'to', 'the', '5', '.', '[UNK]'],\n",
              " ['5', '.', '[UNK]', 'he', 'got', 'with'],\n",
              " ['this', 'little', 'but', '[UNK]', 'a', 'free'],\n",
              " ['[UNK]', 'a', 'free', 'r', '##ing', '”'],\n",
              " ['m', 'not', 'sure', '[UNK]', '.', '[UNK]'],\n",
              " ['[UNK]', '.', '[UNK]', 'maybe', 's', '##a'],\n",
              " ['maybe', 's', '##a', '##w', 'a', '[UNK]'],\n",
              " ['##w', 'a', '[UNK]', 'with', 'r', '##a'],\n",
              " ['him', 'up', '.', '[UNK]', '[UNK]', 'back'],\n",
              " ['[UNK]', '[UNK]', 'back', 'to', '[UNK]', 'and'],\n",
              " ...]"
            ]
          },
          "metadata": {},
          "execution_count": 12
        }
      ],
      "source": [
        "user_tokenized = small_tokenizer.tokenize(\" \".join(user_comments))\n",
        "[user_tokenized[i * 3: i * 3 + 6] for i in range(int(len(user_tokenized) / 3)) if \"[UNK]\" in user_tokenized[i * 3: i * 3 + 6]]"
      ]
    },
    {
      "cell_type": "code",
      "execution_count": null,
      "metadata": {
        "id": "zpPtxV5l0Pur",
        "colab": {
          "base_uri": "https://localhost:8080/"
        },
        "outputId": "f6182b8b-43d2-48c0-ac44-482865b6c034"
      },
      "outputs": [
        {
          "output_type": "execute_result",
          "data": {
            "text/plain": [
              "['Hmm,',\n",
              " 'be',\n",
              " 'this',\n",
              " 'really',\n",
              " 'worse',\n",
              " 'than',\n",
              " 'the',\n",
              " 'haiku',\n",
              " 'that',\n",
              " 'Magic']"
            ]
          },
          "metadata": {},
          "execution_count": 13
        }
      ],
      "source": [
        "user_lemmed_comments = [lem(word) for word in user_comments_str.split()]\n",
        "user_lemmed_comments[:10]"
      ]
    },
    {
      "cell_type": "markdown",
      "metadata": {
        "id": "qtYjHvW31xIb"
      },
      "source": [
        "##### Random user's UNKs"
      ]
    },
    {
      "cell_type": "code",
      "execution_count": null,
      "metadata": {
        "id": "WKjopRSS1we7"
      },
      "outputs": [],
      "source": [
        "from collections import Counter\n",
        "\n",
        "\n",
        "all_unk_tokens = nba_unk_tokens #+ politics_unk_tokens\n",
        "\n",
        "\n",
        "\"\"\"\n",
        "all_tokens_count = len(all_unk_tokens)\n",
        "all_tokens_user_count = [0] * all_tokens_count\n",
        "for user in _users:\n",
        "    user_bin = \"0\" * (all_tokens_count - len(bin(user)[2:])) + bin(user)[2:]\n",
        "    for i in range(len(user_bin)):\n",
        "        all_tokens_user_count[i] += int(user_bin[i])\n",
        "all_unk_tokens = list(map(lambda x: x[1], filter(lambda token_key_value: all_tokens_user_count[token_key_value[0]] <= 10, enumerate(all_unk_tokens))))\n",
        "\"\"\"\n",
        "\n",
        "def get_user_unk_tokens(user):\n",
        "    joined_comments = \" \".join(all_comments[user])\n",
        "    return [joined_comments.count(n) for n in all_unk_tokens]\n",
        "\n",
        "def get_user_unk_tokens_optimized(user):\n",
        "    joined_comments = \" \".join(all_comments[user])\n",
        "\n",
        "    word_counts = Counter(joined_comments.split())\n",
        "    return [word_counts[unk] for unk in all_unk_tokens]"
      ]
    },
    {
      "cell_type": "code",
      "execution_count": null,
      "metadata": {
        "id": "oS3MlF_bZROT"
      },
      "outputs": [],
      "source": [
        "# rels = { user: get_user_unk_tokens(user) for user in all_comments }"
      ]
    },
    {
      "cell_type": "code",
      "source": [
        "a = [10, 20, 15]\n",
        "list(map(lambda y: y[1], list(filter(lambda x: x[1] > 10, enumerate(a)))))"
      ],
      "metadata": {
        "id": "RMhelgFt_uYf",
        "colab": {
          "base_uri": "https://localhost:8080/"
        },
        "outputId": "995f9cd0-8072-46ee-feee-6791bea60850"
      },
      "execution_count": null,
      "outputs": [
        {
          "output_type": "execute_result",
          "data": {
            "text/plain": [
              "[20, 15]"
            ]
          },
          "metadata": {},
          "execution_count": 16
        }
      ]
    },
    {
      "cell_type": "code",
      "source": [
        "rels = { user: get_user_unk_tokens_optimized(user) for user in [i for i in all_comments] }"
      ],
      "metadata": {
        "id": "X8u6F93DfLcO"
      },
      "execution_count": null,
      "outputs": []
    },
    {
      "cell_type": "code",
      "execution_count": null,
      "metadata": {
        "id": "QEu8OYTyed2b",
        "colab": {
          "base_uri": "https://localhost:8080/"
        },
        "outputId": "58658985-3188-4b92-c94d-1c33e226e251"
      },
      "outputs": [
        {
          "output_type": "execute_result",
          "data": {
            "text/plain": [
              "398572"
            ]
          },
          "metadata": {},
          "execution_count": 18
        }
      ],
      "source": [
        "my_sum = 0\n",
        "for r in rels.values():\n",
        "    my_sum += sum(r)\n",
        "my_sum"
      ]
    },
    {
      "cell_type": "code",
      "execution_count": null,
      "metadata": {
        "id": "KrXKgkQiftbC"
      },
      "outputs": [],
      "source": [
        "#rels2 = [list(map(lambda x: round(x / sum(val) if sum(val) > 0 else 0, 5), val)) for val in rels.values()]\n",
        "#len(rels2)"
      ]
    },
    {
      "cell_type": "code",
      "execution_count": null,
      "metadata": {
        "id": "E3wLyRKlncxb",
        "colab": {
          "base_uri": "https://localhost:8080/",
          "height": 35
        },
        "outputId": "76286d71-e5a5-40d8-8662-46dde27271ec"
      },
      "outputs": [
        {
          "output_type": "execute_result",
          "data": {
            "text/plain": [
              "'\\nimport json\\nwith open(\\'rels.txt\\', \\'w\\') as r:\\n    for i in rels2:\\n        r.write(json.dumps(i) + \"\\n\")\\n'"
            ],
            "application/vnd.google.colaboratory.intrinsic+json": {
              "type": "string"
            }
          },
          "metadata": {},
          "execution_count": 20
        }
      ],
      "source": [
        "\"\"\"\n",
        "import json\n",
        "with open('rels.txt', 'w') as r:\n",
        "    for i in rels2:\n",
        "        r.write(json.dumps(i) + \"\\n\")\n",
        "\"\"\""
      ]
    },
    {
      "cell_type": "code",
      "execution_count": null,
      "metadata": {
        "id": "mteel81OxMBB"
      },
      "outputs": [],
      "source": [
        "#_users = list(set(i) for i in rels.values())\n",
        "\n",
        "bool_arr_to_int = lambda arr: int(\"\".join(map(lambda x: str(int(x)), arr)), 2)\n",
        "\n",
        "_users = list(bool_arr_to_int(list(map(bool, i))) for i in rels.values())"
      ]
    },
    {
      "cell_type": "markdown",
      "source": [
        "##### Optimized token search with binary digits"
      ],
      "metadata": {
        "id": "HTIx3Dv2A3S1"
      }
    },
    {
      "cell_type": "code",
      "source": [
        "# def matching(source_user, target_user):\n",
        "#    return len(source_user.intersection(target_user)) / (len(source_user) + len(target_user))\n",
        "\n",
        "def matching(source_user: int, target_user: int):\n",
        "    source_user_shift = 2 ** (len(bin(source_user)) - 2) + source_user\n",
        "    return bin(source_user_shift & target_user).count(\"1\") / bin(source_user).count(\"1\")\n"
      ],
      "metadata": {
        "id": "1GewuRjJfK5d"
      },
      "execution_count": null,
      "outputs": []
    },
    {
      "cell_type": "code",
      "source": [
        "len(all_unk_tokens)"
      ],
      "metadata": {
        "id": "INBkxyzO-g_h",
        "colab": {
          "base_uri": "https://localhost:8080/"
        },
        "outputId": "77178d52-09ce-4e2c-9102-03e0f88b2d34"
      },
      "execution_count": null,
      "outputs": [
        {
          "output_type": "execute_result",
          "data": {
            "text/plain": [
              "8502"
            ]
          },
          "metadata": {},
          "execution_count": 26
        }
      ]
    },
    {
      "cell_type": "code",
      "execution_count": null,
      "metadata": {
        "id": "imDmfP4RhnO6",
        "colab": {
          "base_uri": "https://localhost:8080/",
          "height": 1000
        },
        "outputId": "67aa0345-7b58-471c-ed28-4cb441639424"
      },
      "outputs": [
        {
          "output_type": "execute_result",
          "data": {
            "text/plain": [
              "'\\n     u1, u2, u3, ..., un\\nu1    1 0.2 xxx\\nu2  0.2   1 yyy      ...\\nu3  xxx yyy   1\\n...\\nun      ...            1\\n\\n'"
            ],
            "application/vnd.google.colaboratory.intrinsic+json": {
              "type": "string"
            }
          },
          "metadata": {},
          "execution_count": 27
        }
      ],
      "source": [
        "# focus = _users[80:120]\n",
        "focus = _users\n",
        "matrix = list(list(matching(user_j, user_i) for user_i in focus) for user_j in focus)\n",
        "\"\"\"\n",
        "_user1 = {token1, token2, token3, token4}\n",
        "_user2 = {token4, token5, token6, token7, token12}\n",
        "...\n",
        "_usern = {token3, token6, token7}\n",
        "\n",
        "_users = [user1, user2, ..., usern]\n",
        "\n",
        "matrix = [\n",
        "    [matching(user1, user1), matching(user1, user2), ..., matching(user1, usern)],\n",
        "    [matching(user2, user1), matching(user2, user2), ..., matching(user2, usern)],\n",
        "    ...\n",
        "    [matching(usern, user1), matching(usern, user2), ..., matching(usern, usern)],\n",
        "]\n",
        "\"\"\"\n",
        "\n",
        "# User x with all others\n",
        "\n",
        "# User x with user y\n",
        "\n",
        "\"\"\"\n",
        "     u1, u2, u3, ..., un\n",
        "u1    1 0.2 xxx\n",
        "u2  0.2   1 yyy      ...\n",
        "u3  xxx yyy   1\n",
        "...\n",
        "un      ...            1\n",
        "\n",
        "\"\"\"\n"
      ]
    },
    {
      "cell_type": "code",
      "execution_count": null,
      "metadata": {
        "id": "W06_xByCyR05",
        "colab": {
          "base_uri": "https://localhost:8080/",
          "height": 54
        },
        "outputId": "86926752-72b8-4253-f41d-12b89367197e"
      },
      "outputs": [
        {
          "output_type": "display_data",
          "data": {
            "text/plain": [
              "<Figure size 640x480 with 2 Axes>"
            ],
            "image/png": "[encoded data removed]"
          },
          "metadata": {}
        }
      ],
      "source": [
        "import seaborn as sns\n",
        "import matplotlib.pyplot as plt\n",
        "import numpy as np\n",
        "\n",
        "ax = sns.heatmap(matrix)\n",
        "\n",
        "plt.show()"
      ]
    },
    {
      "cell_type": "code",
      "execution_count": null,
      "metadata": {
        "id": "EKzy_ySHcw0B",
        "colab": {
          "base_uri": "https://localhost:8080/",
          "height": 143
        },
        "outputId": "830448a6-71e6-4856-ba94-e73253d57c77"
      },
      "outputs": [
        {
          "output_type": "display_data",
          "data": {
            "text/plain": [
              "<Figure size 640x480 with 1 Axes>"
            ],
            "image/png": "[encoded data removed]"
          },
          "metadata": {}
        },
        {
          "output_type": "display_data",
          "data": {
            "text/plain": [
              "<Figure size 640x480 with 1 Axes>"
            ],
            "image/png": "[encoded data removed]"
          },
          "metadata": {}
        },
        {
          "output_type": "stream",
          "name": "stdout",
          "text": [
            "531.91\n",
            "892.83\n",
            "515\n",
            "830\n"
          ]
        }
      ],
      "source": [
        "import matplotlib.pyplot as plt\n",
        "import statistics\n",
        "\n",
        "nba_users_unk_counts = [bin(user).count(\"1\") for user in _users[1:100]]\n",
        "politics_users_unk_counts = [bin(user).count(\"1\") for user in _users[101:200]]\n",
        "\n",
        "indices = range(len(nba_users_unk_counts))\n",
        "fig, ax = plt.subplots()\n",
        "ax.plot(indices, nba_users_unk_counts)\n",
        "\n",
        "ax.set_xlabel('X-axis')\n",
        "ax.set_ylabel('Y-axis')\n",
        "ax.set_title('NBA Plot')\n",
        "\n",
        "plt.show()\n",
        "\n",
        "indices = range(len(politics_users_unk_counts))\n",
        "fig, ax = plt.subplots()\n",
        "ax.plot(indices, politics_users_unk_counts)\n",
        "\n",
        "ax.set_xlabel('X-axis')\n",
        "ax.set_ylabel('Y-axis')\n",
        "ax.set_title('Politics Plot')\n",
        "\n",
        "plt.show()\n",
        "\n",
        "print(sum(nba_users_unk_counts) / 100)\n",
        "print(sum(politics_users_unk_counts) / 100)\n",
        "\n",
        "# Calculate middle values\n",
        "print(statistics.median(nba_users_unk_counts))\n",
        "print(statistics.median(politics_users_unk_counts))"
      ]
    },
    {
      "cell_type": "markdown",
      "source": [
        "##### Simulation setup"
      ],
      "metadata": {
        "id": "WWYcGGMwK5hQ"
      }
    },
    {
      "cell_type": "code",
      "source": [
        "len(bin(_users[0])[2:])"
      ],
      "metadata": {
        "id": "fuIbbD6O-tKd",
        "colab": {
          "base_uri": "https://localhost:8080/"
        },
        "outputId": "db47d8ed-2b69-445b-99a3-bd61c8f02806"
      },
      "execution_count": null,
      "outputs": [
        {
          "output_type": "execute_result",
          "data": {
            "text/plain": [
              "8495"
            ]
          },
          "metadata": {},
          "execution_count": 30
        }
      ]
    },
    {
      "cell_type": "code",
      "source": [
        "from numpy.random import randint\n",
        "\n",
        "def get_random_cluster():\n",
        "    token_cluster_indices = [randint(0, 10) for unk_token in all_unk_tokens]\n",
        "\n",
        "    clusters_count = 10\n",
        "    cluster_str_len = len(all_unk_tokens)\n",
        "    clusters_arr = [list('0' * cluster_str_len) for i in range(clusters_count)]\n",
        "\n",
        "    for index, token_cluster_index in enumerate(token_cluster_indices):\n",
        "        clusters_arr[token_cluster_index][index] = \"1\"\n",
        "\n",
        "    return list(map(lambda cluster_arr: int(''.join(cluster_arr), 2), clusters_arr))\n",
        "\n",
        "clusters = get_random_cluster()"
      ],
      "metadata": {
        "id": "EptdoTAAbh8P"
      },
      "execution_count": null,
      "outputs": []
    },
    {
      "cell_type": "code",
      "source": [
        "import numpy as np\n",
        "\n",
        "# Matching score of user x in regards to a cluster\n",
        "def get_cluster_index_with_max_matching_score(_user):\n",
        "  matching_scores = [matching(_user, cluser) for cluser in clusters]\n",
        "  return np.argmax(matching_scores)\n",
        "\n",
        "# Matching score of user x in regards to a cluster\n",
        "def get_max_matching_score(_user, _clusters):\n",
        "  matching_scores = [matching(_user, cluser) for cluser in _clusters]\n",
        "  return max(matching_scores)\n",
        "\n",
        "get_cluster_index_with_max_matching_score(_users[0])"
      ],
      "metadata": {
        "id": "f4U2zne5ckvQ",
        "colab": {
          "base_uri": "https://localhost:8080/"
        },
        "outputId": "20bcef06-3ca8-4e6d-d49a-3e817d3b3bf2"
      },
      "execution_count": null,
      "outputs": [
        {
          "output_type": "execute_result",
          "data": {
            "text/plain": [
              "3"
            ]
          },
          "metadata": {},
          "execution_count": 32
        }
      ]
    },
    {
      "cell_type": "code",
      "source": [
        "def get_better_distributed_clusters(min_count=0, max_count=9999):\n",
        "    global clusters\n",
        "    while True:\n",
        "        cluster_user = [list() for i in range(10)]\n",
        "        clusters = get_random_cluster()\n",
        "\n",
        "        for index, user in enumerate(_users):\n",
        "            cluster = get_cluster_index_with_max_matching_score(user)\n",
        "            cluster_user[cluster].append(index)\n",
        "\n",
        "        if min(list(map(len, cluster_user))) >= min_count and max(list(map(len, cluster_user))) <= max_count:\n",
        "            return clusters, cluster_user\n",
        "\n",
        "clusters, cluster_user = get_better_distributed_clusters(5, 60)\n",
        "list(map(len, cluster_user))"
      ],
      "metadata": {
        "id": "F5PPk8HSFwNI",
        "colab": {
          "base_uri": "https://localhost:8080/"
        },
        "outputId": "a5559a16-489a-4437-a209-755bbe57f3fb"
      },
      "execution_count": null,
      "outputs": [
        {
          "output_type": "execute_result",
          "data": {
            "text/plain": [
              "[46, 14, 19, 13, 44, 8, 14, 9, 30, 10]"
            ]
          },
          "metadata": {},
          "execution_count": 33
        }
      ]
    },
    {
      "cell_type": "code",
      "source": [
        "import random\n",
        "\n",
        "all_tokens_count = len(all_unk_tokens)\n",
        "\n",
        "all_tokens_user_count = [0] * all_tokens_count\n",
        "for user in _users:\n",
        "    user_bin = \"0\" * (all_tokens_count - len(bin(user)[2:])) + bin(user)[2:]\n",
        "    for i in range(len(user_bin)):\n",
        "        all_tokens_user_count[i] += int(user_bin[i])\n",
        "\n",
        "def get_x_tokens_not_in_cluster(_user, _cluster, x=100):\n",
        "    tokens_int = _user & ~_cluster # Exists on user and not in cluster\n",
        "    tokens_cut = bin(tokens_int)[2:]\n",
        "    missing_leading_zeroes = all_tokens_count - len(tokens_cut)\n",
        "    tokens = \"0\" * missing_leading_zeroes + tokens_cut\n",
        "\n",
        "    one_indices = [i for i, val in enumerate(tokens) if val == \"1\" and all_tokens_user_count[i] <= 10]\n",
        "\n",
        "    return random.sample(one_indices, min(x, len(one_indices)))"
      ],
      "metadata": {
        "id": "6UNv9ekL3-5O"
      },
      "execution_count": null,
      "outputs": []
    },
    {
      "cell_type": "code",
      "source": [
        "import bisect\n",
        "\n",
        "def binary_search(arr, target):\n",
        "    index = bisect.bisect_left(arr, target)\n",
        "    if index < len(arr) and arr[index] == target:\n",
        "        return index\n",
        "    else:\n",
        "        return -1  # Target not found"
      ],
      "metadata": {
        "id": "RapiVgbI-51H"
      },
      "execution_count": null,
      "outputs": []
    },
    {
      "cell_type": "code",
      "source": [
        "# User voing:\n",
        "#       Ako naraste max matching score od matching scora njegovog clustera +1 (barem 5% veci)\n",
        "#       Ako padne max matching score od matching scora njegovog clustera -1 (barem 5% manji)\n",
        "# Random user predlaze 100 tokena koji nisu u njegovom clusteru (on je u clusteru get_cluster_index_with_max_matching_score(user) ) (test sa 10 tokena prvo)\n",
        "\n",
        "import math\n",
        "\n",
        "# Map to fetch cluster by token\n",
        "def get_unk_tokens_cluster_map():\n",
        "    all_tokens_count = len(all_unk_tokens)\n",
        "    unk_tokens_cluster_map = [-1] * len(all_unk_tokens)\n",
        "    for i, c in enumerate(clusters):\n",
        "        one_indices = [j + all_tokens_count - len(bin(c)[2:]) for j, val in enumerate(bin(c)[2:]) if val == \"1\"]\n",
        "        for index in one_indices:\n",
        "            unk_tokens_cluster_map[index] = i\n",
        "\n",
        "    return unk_tokens_cluster_map\n",
        "\n",
        "def get_new_clusters_after_transfering_token(cluster_from_index, cluster_to_index, token_to_transfer):\n",
        "    # token transition from cluster to cluster\n",
        "    temp_clusters = [i for i in clusters]\n",
        "    temp_clusters[cluster_from_index] = temp_clusters[cluster_from_index] - (2 ** (all_tokens_count - token_to_transfer - 1))\n",
        "    temp_clusters[cluster_to_index] = temp_clusters[cluster_to_index] + (2 ** (all_tokens_count - token_to_transfer - 1))\n",
        "    return temp_clusters\n",
        "\n",
        "\n",
        "def user_propose_tokens(user, batch_size):\n",
        "    cluster_index = get_cluster_index_with_max_matching_score(user)\n",
        "    cluster = clusters[cluster_index] # User cluster\n",
        "\n",
        "    return get_x_tokens_not_in_cluster(user, cluster, batch_size) # Tokens to transfer\n",
        "\n",
        "\n",
        "def user_vote(user, token_index, unk_tokens_cluster_map, min_increase=0):\n",
        "    matching_score = get_max_matching_score(user, clusters)\n",
        "    cluster_index = get_cluster_index_with_max_matching_score(user)\n",
        "\n",
        "    # TODO treba vidjet dal se glasa token po token ili jedan glas za cijeli batch\n",
        "\n",
        "    new_clusters = get_new_clusters_after_transfering_token(unk_tokens_cluster_map[token_index], cluster_index, token_index)\n",
        "    new_matching_score = get_max_matching_score(user, new_clusters)\n",
        "\n",
        "    if new_matching_score > matching_score + min_increase:\n",
        "        #print(new_matching_score - matching_score)\n",
        "        return 1\n",
        "\n",
        "    if new_matching_score < matching_score - min_increase:\n",
        "        return -1\n",
        "\n",
        "    return 0\n",
        "\n",
        "\n",
        "def do_vote(user, unk_tokens_cluster_map, batch_size, min_inc):\n",
        "    proposed_tokens = user_propose_tokens(user, batch_size)\n",
        "\n",
        "    votes = [0] * len(proposed_tokens)\n",
        "    for _user in _users:\n",
        "        for i, proposed_token in enumerate(proposed_tokens):\n",
        "            votes[i] += user_vote(_user, proposed_token, unk_tokens_cluster_map, min_inc)\n",
        "\n",
        "    return proposed_tokens, votes"
      ],
      "metadata": {
        "id": "zSEqzMpXAp27"
      },
      "execution_count": null,
      "outputs": []
    },
    {
      "cell_type": "markdown",
      "source": [
        "#### The simulation"
      ],
      "metadata": {
        "id": "DQn2LtfJJWs2"
      }
    },
    {
      "cell_type": "code",
      "source": [
        "len(all_unk_tokens)"
      ],
      "metadata": {
        "id": "hTZMd8b4BX7G",
        "colab": {
          "base_uri": "https://localhost:8080/"
        },
        "outputId": "360d27b8-9aaf-4986-8ac9-b827e053a862"
      },
      "execution_count": null,
      "outputs": [
        {
          "output_type": "execute_result",
          "data": {
            "text/plain": [
              "8502"
            ]
          },
          "metadata": {},
          "execution_count": 37
        }
      ]
    },
    {
      "cell_type": "code",
      "source": [
        "def save_clusters():\n",
        "    global clusters_copy\n",
        "    clusters_copy = [i for i in clusters]\n",
        "save_clusters()\n",
        "#unk_tokens_cluster_map = get_unk_tokens_cluster_map()\n",
        "#unk_tokens_cluster_map"
      ],
      "metadata": {
        "id": "GNRM53uhJpC8"
      },
      "execution_count": null,
      "outputs": []
    },
    {
      "cell_type": "code",
      "source": [
        "def load_clusters():\n",
        "    global clusters\n",
        "    clusters = [i for i in clusters_copy]"
      ],
      "metadata": {
        "id": "a69uiGgnJsJw"
      },
      "execution_count": null,
      "outputs": []
    },
    {
      "cell_type": "code",
      "source": [
        "def cluster_user_status():\n",
        "    cluster_user = [list() for i in range(10)]\n",
        "\n",
        "    for index, user in enumerate(_users):\n",
        "        cluster = get_cluster_index_with_max_matching_score(user)\n",
        "        cluster_user[cluster].append(index)\n",
        "\n",
        "    return list(map(len, cluster_user))"
      ],
      "metadata": {
        "id": "hLRsE8Lcs9Tf"
      },
      "execution_count": null,
      "outputs": []
    },
    {
      "cell_type": "code",
      "source": [
        "def get_purities():\n",
        "    purity_cluster_user = [list() for i in range(10)]\n",
        "\n",
        "    for index, user in enumerate(_users):\n",
        "        c = get_cluster_index_with_max_matching_score(user)\n",
        "        purity_cluster_user[c].append(index)\n",
        "\n",
        "    return list(map(lambda cluster: round(2 * abs(50 - sum(100 * list(map(lambda user: user <= (len(_users) / 2), cluster))) / len(cluster)), 1), purity_cluster_user))\n",
        "\n",
        "get_purities()"
      ],
      "metadata": {
        "colab": {
          "base_uri": "https://localhost:8080/"
        },
        "id": "fpI8M9fcPPG5",
        "outputId": "9c091454-34f5-4c1a-c65f-42d20eb65af5"
      },
      "execution_count": null,
      "outputs": [
        {
          "output_type": "execute_result",
          "data": {
            "text/plain": [
              "[4.3, 57.1, 5.3, 38.5, 63.6, 0.0, 14.3, 33.3, 20.0, 80.0]"
            ]
          },
          "metadata": {},
          "execution_count": 41
        }
      ]
    },
    {
      "cell_type": "code",
      "source": [
        "import random\n",
        "\n",
        "def simulation_loop(vote_batch_size, min_inc):\n",
        "    global clusters\n",
        "    user = random.choice(_users)\n",
        "    unk_tokens_cluster_map = get_unk_tokens_cluster_map()\n",
        "    tokens, votes = do_vote(user, unk_tokens_cluster_map, vote_batch_size, min_inc)\n",
        "\n",
        "    user_cluster_index = get_cluster_index_with_max_matching_score(user)\n",
        "    for i in range(len(tokens)):\n",
        "        if votes[i] > 0:\n",
        "            unk_tokens_cluster_map = get_unk_tokens_cluster_map()\n",
        "            clusters = get_new_clusters_after_transfering_token(unk_tokens_cluster_map[tokens[i]], user_cluster_index, tokens[i])"
      ],
      "metadata": {
        "id": "hWtvURa5oq-c"
      },
      "execution_count": null,
      "outputs": []
    },
    {
      "cell_type": "code",
      "source": [
        "load_clusters()\n",
        "print(\"Initial array\", cluster_user_status())\n",
        "for i in range(1000):\n",
        "    simulation_loop(100, 0)\n",
        "    print(\"Loop\", i)\n",
        "    cus = cluster_user_status()\n",
        "    gp = get_purities()\n",
        "\n",
        "    print(list(map(lambda x: \" \" * (5 - len(str(x))) + str(x), cus)), \"Clusters over 30 users:\", len(list(filter(lambda x: x > 30, cus))))\n",
        "    print(list(map(lambda x: \" \" * (5 - len(str(x[1]))) + (str(x[1]) if cus[x[0]] > 30 else (\" \" * len(str(x[1])))), enumerate(gp))))\n",
        "    print()"
      ],
      "metadata": {
        "colab": {
          "base_uri": "https://localhost:8080/",
          "height": 1000
        },
        "id": "vbukIxTztLjC",
        "outputId": "0883dc35-e0cc-4c8c-8576-05e28904d9db"
      },
      "execution_count": null,
      "outputs": [
        {
          "output_type": "stream",
          "name": "stdout",
          "text": [
            "Initial array [46, 14, 19, 13, 44, 8, 14, 9, 30, 10]\n",
            "Loop 0\n",
            "['   46', '   14', '   20', '   15', '   43', '    8', '   13', '    6', '   27', '   15'] Clusters over 30 users: 2\n",
            "['  4.3', '     ', '     ', '     ', ' 62.8', '     ', '     ', '     ', '     ', '     ']\n",
            "\n",
            "Loop 1\n",
            "['   44', '   13', '   32', '   14', '   39', '    8', '   13', '    6', '   25', '   13'] Clusters over 30 users: 3\n",
            "['  4.5', '     ', ' 18.8', '     ', ' 74.4', '     ', '     ', '     ', '     ', '     ']\n",
            "\n",
            "Loop 2\n",
            "['   45', '   13', '   31', '   15', '   39', '    8', '   12', '    6', '   25', '   13'] Clusters over 30 users: 3\n",
            "['  6.7', '     ', ' 22.6', '     ', ' 74.4', '     ', '     ', '     ', '     ', '     ']\n",
            "\n",
            "Loop 3\n",
            "['   44', '   13', '   39', '   14', '   38', '    7', '    9', '    7', '   25', '   11'] Clusters over 30 users: 3\n",
            "['  9.1', '     ', ' 23.1', '     ', ' 73.7', '     ', '     ', '     ', '     ', '     ']\n",
            "\n",
            "Loop 4\n",
            "['   44', '   13', '   38', '   14', '   38', '    8', '    9', '    7', '   25', '   11'] Clusters over 30 users: 3\n",
            "['  9.1', '     ', ' 26.3', '     ', ' 73.7', '     ', '     ', '     ', '     ', '     ']\n",
            "\n",
            "Loop 5\n",
            "['   43', '   24', '   37', '   14', '   35', '    8', '    7', '    7', '   21', '   11'] Clusters over 30 users: 3\n",
            "[' 11.6', '     ', ' 24.3', '     ', ' 77.1', '     ', '     ', '     ', '     ', '     ']\n",
            "\n",
            "Loop 6\n",
            "['   41', '   35', '   31', '   12', '   36', '    7', '    7', '    6', '   21', '   11'] Clusters over 30 users: 4\n",
            "['  2.4', ' 42.9', ' 16.1', '     ', ' 77.8', '     ', '     ', '     ', '     ', '     ']\n",
            "\n",
            "Loop 7\n",
            "['   35', '   54', '   28', '   12', '   34', '    7', '    7', '    3', '   17', '   10'] Clusters over 30 users: 3\n",
            "['  2.9', ' 48.1', '     ', '     ', ' 76.5', '     ', '     ', '     ', '     ', '     ']\n",
            "\n",
            "Loop 8\n",
            "['   36', '   54', '   27', '   12', '   33', '    7', '    7', '    3', '   20', '    8'] Clusters over 30 users: 3\n",
            "['  0.0', ' 48.1', '     ', '     ', ' 75.8', '     ', '     ', '     ', '     ', '     ']\n",
            "\n",
            "Loop 9\n",
            "['   29', '   72', '   23', '    9', '   32', '    7', '    6', '    3', '   20', '    6'] Clusters over 30 users: 2\n",
            "['     ', ' 50.0', '     ', '     ', ' 81.2', '     ', '     ', '     ', '     ', '     ']\n",
            "\n",
            "Loop 10\n",
            "['   29', '   72', '   23', '    9', '   32', '    7', '    6', '    3', '   20', '    6'] Clusters over 30 users: 2\n",
            "['     ', ' 50.0', '     ', '     ', ' 81.2', '     ', '     ', '     ', '     ', '     ']\n",
            "\n",
            "Loop 11\n",
            "['   22', '   88', '   21', '    8', '   28', '    7', '    5', '    3', '   19', '    6'] Clusters over 30 users: 1\n",
            "['     ', ' 45.5', '     ', '     ', '     ', '     ', '     ', '     ', '     ', '     ']\n",
            "\n",
            "Loop 12\n",
            "['   22', '   91', '   20', '    8', '   28', '    7', '    3', '    3', '   19', '    6'] Clusters over 30 users: 1\n",
            "['     ', ' 45.1', '     ', '     ', '     ', '     ', '     ', '     ', '     ', '     ']\n",
            "\n",
            "Loop 13\n",
            "['   22', '   91', '   20', '    8', '   29', '    7', '    3', '    3', '   18', '    6'] Clusters over 30 users: 1\n",
            "['     ', ' 45.1', '     ', '     ', '     ', '     ', '     ', '     ', '     ', '     ']\n",
            "\n",
            "Loop 14\n",
            "['   26', '   90', '   17', '    8', '   29', '    7', '    3', '    3', '   18', '    6'] Clusters over 30 users: 1\n",
            "['     ', ' 44.4', '     ', '     ', '     ', '     ', '     ', '     ', '     ', '     ']\n",
            "\n",
            "Loop 15\n",
            "['   30', '   84', '   15', '    8', '   29', '    5', '    3', '    3', '   24', '    6'] Clusters over 30 users: 1\n",
            "['     ', ' 45.2', '     ', '     ', '     ', '     ', '     ', '     ', '     ', '     ']\n",
            "\n",
            "Loop 16\n",
            "['   29', '   85', '   15', '    8', '   29', '    6', '    3', '    3', '   23', '    6'] Clusters over 30 users: 1\n",
            "['     ', ' 43.5', '     ', '     ', '     ', '     ', '     ', '     ', '     ', '     ']\n",
            "\n",
            "Loop 17\n",
            "['   28', '   90', '   14', '    8', '   28', '    6', '    3', '    3', '   22', '    5'] Clusters over 30 users: 1\n",
            "['     ', ' 37.8', '     ', '     ', '     ', '     ', '     ', '     ', '     ', '     ']\n",
            "\n",
            "Loop 18\n",
            "['   27', '   88', '   14', '    8', '   29', '    6', '    3', '    3', '   24', '    5'] Clusters over 30 users: 1\n",
            "['     ', ' 40.9', '     ', '     ', '     ', '     ', '     ', '     ', '     ', '     ']\n",
            "\n",
            "Loop 19\n",
            "['   30', '   87', '   14', '    7', '   27', '    6', '    3', '    3', '   25', '    5'] Clusters over 30 users: 1\n",
            "['     ', ' 40.2', '     ', '     ', '     ', '     ', '     ', '     ', '     ', '     ']\n",
            "\n",
            "Loop 20\n",
            "['   35', '   81', '   14', '    7', '   28', '    6', '    3', '    2', '   26', '    5'] Clusters over 30 users: 2\n",
            "[' 31.4', ' 45.7', '     ', '     ', '     ', '     ', '     ', '     ', '     ', '     ']\n",
            "\n",
            "Loop 21\n",
            "['   35', '   81', '   14', '    7', '   28', '    6', '    3', '    2', '   26', '    5'] Clusters over 30 users: 2\n",
            "[' 31.4', ' 45.7', '     ', '     ', '     ', '     ', '     ', '     ', '     ', '     ']\n",
            "\n",
            "Loop 22\n",
            "['   36', '   69', '   14', '    6', '   29', '    6', '    3', '    1', '   37', '    6'] Clusters over 30 users: 3\n",
            "[' 27.8', ' 44.9', '     ', '     ', '     ', '     ', '     ', '     ', ' 18.9', '     ']\n",
            "\n",
            "Loop 23\n",
            "['   33', '   81', '   12', '    6', '   29', '    6', '    3', '    1', '   31', '    5'] Clusters over 30 users: 3\n",
            "[' 39.4', ' 45.7', '     ', '     ', '     ', '     ', '     ', '     ', ' 16.1', '     ']\n",
            "\n",
            "Loop 24\n"
          ]
        },
        {
          "output_type": "error",
          "ename": "ZeroDivisionError",
          "evalue": "ignored",
          "traceback": [
            "\u001b[0;31m---------------------------------------------------------------------------\u001b[0m",
            "\u001b[0;31mZeroDivisionError\u001b[0m                         Traceback (most recent call last)",
            "\u001b[0;32m<ipython-input-44-5e136242cb2b>\u001b[0m in \u001b[0;36m<cell line: 3>\u001b[0;34m()\u001b[0m\n\u001b[1;32m      5\u001b[0m     \u001b[0mprint\u001b[0m\u001b[0;34m(\u001b[0m\u001b[0;34m\"Loop\"\u001b[0m\u001b[0;34m,\u001b[0m \u001b[0mi\u001b[0m\u001b[0;34m)\u001b[0m\u001b[0;34m\u001b[0m\u001b[0;34m\u001b[0m\u001b[0m\n\u001b[1;32m      6\u001b[0m     \u001b[0mcus\u001b[0m \u001b[0;34m=\u001b[0m \u001b[0mcluster_user_status\u001b[0m\u001b[0;34m(\u001b[0m\u001b[0;34m)\u001b[0m\u001b[0;34m\u001b[0m\u001b[0;34m\u001b[0m\u001b[0m\n\u001b[0;32m----> 7\u001b[0;31m     \u001b[0mgp\u001b[0m \u001b[0;34m=\u001b[0m \u001b[0mget_purities\u001b[0m\u001b[0;34m(\u001b[0m\u001b[0;34m)\u001b[0m\u001b[0;34m\u001b[0m\u001b[0;34m\u001b[0m\u001b[0m\n\u001b[0m\u001b[1;32m      8\u001b[0m \u001b[0;34m\u001b[0m\u001b[0m\n\u001b[1;32m      9\u001b[0m     \u001b[0mprint\u001b[0m\u001b[0;34m(\u001b[0m\u001b[0mlist\u001b[0m\u001b[0;34m(\u001b[0m\u001b[0mmap\u001b[0m\u001b[0;34m(\u001b[0m\u001b[0;32mlambda\u001b[0m \u001b[0mx\u001b[0m\u001b[0;34m:\u001b[0m \u001b[0;34m\" \"\u001b[0m \u001b[0;34m*\u001b[0m \u001b[0;34m(\u001b[0m\u001b[0;36m5\u001b[0m \u001b[0;34m-\u001b[0m \u001b[0mlen\u001b[0m\u001b[0;34m(\u001b[0m\u001b[0mstr\u001b[0m\u001b[0;34m(\u001b[0m\u001b[0mx\u001b[0m\u001b[0;34m)\u001b[0m\u001b[0;34m)\u001b[0m\u001b[0;34m)\u001b[0m \u001b[0;34m+\u001b[0m \u001b[0mstr\u001b[0m\u001b[0;34m(\u001b[0m\u001b[0mx\u001b[0m\u001b[0;34m)\u001b[0m\u001b[0;34m,\u001b[0m \u001b[0mcus\u001b[0m\u001b[0;34m)\u001b[0m\u001b[0;34m)\u001b[0m\u001b[0;34m,\u001b[0m \u001b[0;34m\"Clusters over 30 users:\"\u001b[0m\u001b[0;34m,\u001b[0m \u001b[0mlen\u001b[0m\u001b[0;34m(\u001b[0m\u001b[0mlist\u001b[0m\u001b[0;34m(\u001b[0m\u001b[0mfilter\u001b[0m\u001b[0;34m(\u001b[0m\u001b[0;32mlambda\u001b[0m \u001b[0mx\u001b[0m\u001b[0;34m:\u001b[0m \u001b[0mx\u001b[0m \u001b[0;34m>\u001b[0m \u001b[0;36m30\u001b[0m\u001b[0;34m,\u001b[0m \u001b[0mcus\u001b[0m\u001b[0;34m)\u001b[0m\u001b[0;34m)\u001b[0m\u001b[0;34m)\u001b[0m\u001b[0;34m)\u001b[0m\u001b[0;34m\u001b[0m\u001b[0;34m\u001b[0m\u001b[0m\n",
            "\u001b[0;32m<ipython-input-41-06a00abfa7f8>\u001b[0m in \u001b[0;36mget_purities\u001b[0;34m()\u001b[0m\n\u001b[1;32m      6\u001b[0m         \u001b[0mpurity_cluster_user\u001b[0m\u001b[0;34m[\u001b[0m\u001b[0mc\u001b[0m\u001b[0;34m]\u001b[0m\u001b[0;34m.\u001b[0m\u001b[0mappend\u001b[0m\u001b[0;34m(\u001b[0m\u001b[0mindex\u001b[0m\u001b[0;34m)\u001b[0m\u001b[0;34m\u001b[0m\u001b[0;34m\u001b[0m\u001b[0m\n\u001b[1;32m      7\u001b[0m \u001b[0;34m\u001b[0m\u001b[0m\n\u001b[0;32m----> 8\u001b[0;31m     \u001b[0;32mreturn\u001b[0m \u001b[0mlist\u001b[0m\u001b[0;34m(\u001b[0m\u001b[0mmap\u001b[0m\u001b[0;34m(\u001b[0m\u001b[0;32mlambda\u001b[0m \u001b[0mcluster\u001b[0m\u001b[0;34m:\u001b[0m \u001b[0mround\u001b[0m\u001b[0;34m(\u001b[0m\u001b[0;36m2\u001b[0m \u001b[0;34m*\u001b[0m \u001b[0mabs\u001b[0m\u001b[0;34m(\u001b[0m\u001b[0;36m50\u001b[0m \u001b[0;34m-\u001b[0m \u001b[0msum\u001b[0m\u001b[0;34m(\u001b[0m\u001b[0;36m100\u001b[0m \u001b[0;34m*\u001b[0m \u001b[0mlist\u001b[0m\u001b[0;34m(\u001b[0m\u001b[0mmap\u001b[0m\u001b[0;34m(\u001b[0m\u001b[0;32mlambda\u001b[0m \u001b[0muser\u001b[0m\u001b[0;34m:\u001b[0m \u001b[0muser\u001b[0m \u001b[0;34m<=\u001b[0m \u001b[0;34m(\u001b[0m\u001b[0mlen\u001b[0m\u001b[0;34m(\u001b[0m\u001b[0m_users\u001b[0m\u001b[0;34m)\u001b[0m \u001b[0;34m/\u001b[0m \u001b[0;36m2\u001b[0m\u001b[0;34m)\u001b[0m\u001b[0;34m,\u001b[0m \u001b[0mcluster\u001b[0m\u001b[0;34m)\u001b[0m\u001b[0;34m)\u001b[0m\u001b[0;34m)\u001b[0m \u001b[0;34m/\u001b[0m \u001b[0mlen\u001b[0m\u001b[0;34m(\u001b[0m\u001b[0mcluster\u001b[0m\u001b[0;34m)\u001b[0m\u001b[0;34m)\u001b[0m\u001b[0;34m,\u001b[0m \u001b[0;36m1\u001b[0m\u001b[0;34m)\u001b[0m\u001b[0;34m,\u001b[0m \u001b[0mpurity_cluster_user\u001b[0m\u001b[0;34m)\u001b[0m\u001b[0;34m)\u001b[0m\u001b[0;34m\u001b[0m\u001b[0;34m\u001b[0m\u001b[0m\n\u001b[0m\u001b[1;32m      9\u001b[0m \u001b[0;34m\u001b[0m\u001b[0m\n\u001b[1;32m     10\u001b[0m \u001b[0mget_purities\u001b[0m\u001b[0;34m(\u001b[0m\u001b[0;34m)\u001b[0m\u001b[0;34m\u001b[0m\u001b[0;34m\u001b[0m\u001b[0m\n",
            "\u001b[0;32m<ipython-input-41-06a00abfa7f8>\u001b[0m in \u001b[0;36m<lambda>\u001b[0;34m(cluster)\u001b[0m\n\u001b[1;32m      6\u001b[0m         \u001b[0mpurity_cluster_user\u001b[0m\u001b[0;34m[\u001b[0m\u001b[0mc\u001b[0m\u001b[0;34m]\u001b[0m\u001b[0;34m.\u001b[0m\u001b[0mappend\u001b[0m\u001b[0;34m(\u001b[0m\u001b[0mindex\u001b[0m\u001b[0;34m)\u001b[0m\u001b[0;34m\u001b[0m\u001b[0;34m\u001b[0m\u001b[0m\n\u001b[1;32m      7\u001b[0m \u001b[0;34m\u001b[0m\u001b[0m\n\u001b[0;32m----> 8\u001b[0;31m     \u001b[0;32mreturn\u001b[0m \u001b[0mlist\u001b[0m\u001b[0;34m(\u001b[0m\u001b[0mmap\u001b[0m\u001b[0;34m(\u001b[0m\u001b[0;32mlambda\u001b[0m \u001b[0mcluster\u001b[0m\u001b[0;34m:\u001b[0m \u001b[0mround\u001b[0m\u001b[0;34m(\u001b[0m\u001b[0;36m2\u001b[0m \u001b[0;34m*\u001b[0m \u001b[0mabs\u001b[0m\u001b[0;34m(\u001b[0m\u001b[0;36m50\u001b[0m \u001b[0;34m-\u001b[0m \u001b[0msum\u001b[0m\u001b[0;34m(\u001b[0m\u001b[0;36m100\u001b[0m \u001b[0;34m*\u001b[0m \u001b[0mlist\u001b[0m\u001b[0;34m(\u001b[0m\u001b[0mmap\u001b[0m\u001b[0;34m(\u001b[0m\u001b[0;32mlambda\u001b[0m \u001b[0muser\u001b[0m\u001b[0;34m:\u001b[0m \u001b[0muser\u001b[0m \u001b[0;34m<=\u001b[0m \u001b[0;34m(\u001b[0m\u001b[0mlen\u001b[0m\u001b[0;34m(\u001b[0m\u001b[0m_users\u001b[0m\u001b[0;34m)\u001b[0m \u001b[0;34m/\u001b[0m \u001b[0;36m2\u001b[0m\u001b[0;34m)\u001b[0m\u001b[0;34m,\u001b[0m \u001b[0mcluster\u001b[0m\u001b[0;34m)\u001b[0m\u001b[0;34m)\u001b[0m\u001b[0;34m)\u001b[0m \u001b[0;34m/\u001b[0m \u001b[0mlen\u001b[0m\u001b[0;34m(\u001b[0m\u001b[0mcluster\u001b[0m\u001b[0;34m)\u001b[0m\u001b[0;34m)\u001b[0m\u001b[0;34m,\u001b[0m \u001b[0;36m1\u001b[0m\u001b[0;34m)\u001b[0m\u001b[0;34m,\u001b[0m \u001b[0mpurity_cluster_user\u001b[0m\u001b[0;34m)\u001b[0m\u001b[0;34m)\u001b[0m\u001b[0;34m\u001b[0m\u001b[0;34m\u001b[0m\u001b[0m\n\u001b[0m\u001b[1;32m      9\u001b[0m \u001b[0;34m\u001b[0m\u001b[0m\n\u001b[1;32m     10\u001b[0m \u001b[0mget_purities\u001b[0m\u001b[0;34m(\u001b[0m\u001b[0;34m)\u001b[0m\u001b[0;34m\u001b[0m\u001b[0;34m\u001b[0m\u001b[0m\n",
            "\u001b[0;31mZeroDivisionError\u001b[0m: division by zero"
          ]
        }
      ]
    },
    {
      "cell_type": "code",
      "source": [
        "a = [1, 3, 2]\n",
        "b = [0.1, 0.2, 0.3]\n",
        "sorted(zip(a, b), key=lambda x: x[0], reverse=True)"
      ],
      "metadata": {
        "colab": {
          "base_uri": "https://localhost:8080/"
        },
        "id": "hRb2X54AcpRi",
        "outputId": "cccdc77d-9b39-4581-9688-a8d13c9670c4"
      },
      "execution_count": null,
      "outputs": [
        {
          "output_type": "execute_result",
          "data": {
            "text/plain": [
              "[(3, 0.2), (2, 0.3), (1, 0.1)]"
            ]
          },
          "metadata": {},
          "execution_count": 134
        }
      ]
    },
    {
      "cell_type": "code",
      "source": [
        "\n",
        "# TODO Simulation Loop (barem 10*200 = 2000 ciklusa)\n",
        "#\n",
        "#\n",
        "#\n",
        "#   Ako je suma glasanja >0, prebaci taj token (optimizirati za sve tokene odjednom - batch voting)\n",
        "#\n",
        "#   Prati mean(max_matching_score) - MMMS i reportaj purity jer imaš labele. MMMS utječe na simulated annealing parameter"
      ],
      "metadata": {
        "id": "bmwHM95J7fk3"
      },
      "execution_count": null,
      "outputs": []
    },
    {
      "cell_type": "code",
      "source": [
        "all_tokens_user_count = [0] * len(all_unk_tokens)\n",
        "for user in _users:\n",
        "    user_bin = \"0\" * (len(all_unk_tokens) - len(bin(user)[2:])) + bin(user)[2:]\n",
        "    for i in range(len(user_bin)):\n",
        "        all_tokens_user_count[i] += int(user_bin[i])\n",
        "\n",
        "print(all_tokens_user_count[:100])"
      ],
      "metadata": {
        "colab": {
          "base_uri": "https://localhost:8080/"
        },
        "id": "ohHaNEIN3DKO",
        "outputId": "26128bfd-8750-4de0-da97-e7f4eefb73ef"
      },
      "execution_count": null,
      "outputs": [
        {
          "output_type": "stream",
          "name": "stdout",
          "text": [
            "[1, 4, 0, 2, 1, 1, 0, 148, 0, 33, 7, 1, 0, 76, 162, 3, 17, 109, 171, 2, 64, 0, 6, 2, 88, 31, 5, 24, 5, 5, 7, 1, 33, 13, 45, 0, 2, 43, 28, 141, 22, 51, 8, 0, 1, 9, 7, 13, 87, 34, 19, 46, 0, 59, 12, 10, 1, 0, 1, 32, 14, 0, 111, 6, 3, 102, 99, 12, 37, 44, 178, 5, 1, 1, 7, 12, 72, 59, 3, 0, 23, 11, 0, 4, 0, 3, 41, 2, 7, 9, 89, 20, 1, 5, 2, 0, 4, 19, 22, 134]\n"
          ]
        }
      ]
    },
    {
      "cell_type": "code",
      "source": [
        "print(\">10 =\", 100 * len([i for i in all_tokens_user_count if i > 10]) / len(all_tokens_user_count))\n",
        "print(\">50 =\", 100 * len([i for i in all_tokens_user_count if i > 50]) / len(all_tokens_user_count))\n",
        "print(\">100 =\", 100 * len([i for i in all_tokens_user_count if i > 100]) / len(all_tokens_user_count))"
      ],
      "metadata": {
        "colab": {
          "base_uri": "https://localhost:8080/"
        },
        "id": "kat2zQQR3SI3",
        "outputId": "c8188058-4959-4c2a-8d1e-8ec1d97e87f6"
      },
      "execution_count": null,
      "outputs": [
        {
          "output_type": "stream",
          "name": "stdout",
          "text": [
            ">10 =  34.227240649258995\n",
            ">50 =  10.597506469066102\n",
            ">100 =  4.222535873912021\n"
          ]
        }
      ]
    },
    {
      "cell_type": "code",
      "source": [
        "# Isklljucio sam tokene koji se ponavljaju kod vise od 10 usera\n",
        "# Promjenio sam da user vote-a 10 tokena a ne 100.\n",
        "\n",
        "# I dalje se desava da useri odu u 1 cluster\n",
        "# ŠProbati pratiti puritz clustera na svaku iteraciju"
      ],
      "metadata": {
        "id": "VYW3iNKRHu0P"
      },
      "execution_count": null,
      "outputs": []
    }
  ],
  "metadata": {
    "colab": {
      "collapsed_sections": [
        "Uw_vHitmsBzs",
        "WN01UidMg_5J",
        "8XlaIv3tZdtZ",
        "9X4lTMUx91_x",
        "j3e5FEGUaOmf",
        "oUJq3MXTiFJn",
        "ZYkHR5j4t_jz",
        "HTIx3Dv2A3S1",
        "WWYcGGMwK5hQ"
      ],
      "provenance": []
    },
    "kernelspec": {
      "display_name": "Python 3",
      "name": "python3"
    },
    "language_info": {
      "name": "python"
    }
  },
  "nbformat": 4,
  "nbformat_minor": 0
}